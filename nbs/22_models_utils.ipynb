{
 "cells": [
  {
   "cell_type": "code",
   "execution_count": null,
   "metadata": {},
   "outputs": [],
   "source": [
    "# default_exp models.utils"
   ]
  },
  {
   "cell_type": "code",
   "execution_count": null,
   "metadata": {},
   "outputs": [],
   "source": [
    "# hide\n",
    "from nbdev.showdoc import *"
   ]
  },
  {
   "cell_type": "code",
   "execution_count": null,
   "metadata": {},
   "outputs": [],
   "source": [
    "# export\n",
    "import torch\n",
    "from grade_classif.core import ifnone\n",
    "from grade_classif.models.hooks import Hooks\n",
    "import numpy as np"
   ]
  },
  {
   "cell_type": "code",
   "execution_count": null,
   "metadata": {},
   "outputs": [],
   "source": [
    "# export\n",
    "def named_leaf_modules(name, model):\n",
    "    named_children = list(model.named_children())\n",
    "    if named_children==[]:\n",
    "        model.name = name\n",
    "        return [model]\n",
    "    else:\n",
    "        res = []\n",
    "        for n, m in named_children:\n",
    "            pref = name+'.' if name != '' else ''\n",
    "            res += named_leaf_modules(pref+n, m)\n",
    "        return res"
   ]
  },
  {
   "cell_type": "code",
   "execution_count": null,
   "metadata": {},
   "outputs": [],
   "source": [
    "# export\n",
    "def get_sizes(model, input_shape=(3, 224, 224), leaf_modules=None):     \n",
    "    leaf_modules = ifnone(leaf_modules, named_leaf_modules('', model))\n",
    "\n",
    "    def _hook(model, input, output):\n",
    "        return output\n",
    "    \n",
    "    mods = [m for m in leaf_modules]  \n",
    "    with Hooks(mods, _hook) as hooks:\n",
    "        x = torch.rand(2, *input_shape)\n",
    "        model.eval()(x)  \n",
    "        sizes = [hook.stored.shape for hook in hooks]\n",
    "    return np.array(sizes), leaf_modules"
   ]
  },
  {
   "cell_type": "code",
   "execution_count": null,
   "metadata": {},
   "outputs": [
    {
     "name": "stdout",
     "output_type": "stream",
     "text": [
      "Converted 00_core.ipynb.\n",
      "Converted 01_defaults.ipynb.\n",
      "Converted 02_params.ipynb.\n",
      "Converted 03_train.ipynb.\n",
      "Converted 10_data_read.ipynb.\n",
      "Converted 11_data_loaders.ipynb.\n",
      "Converted 12_data_dataset.ipynb.\n",
      "Converted 13_data_utils.ipynb.\n",
      "Converted 14_data_transforms.ipynb.\n",
      "Converted 20_models_pl_modules.ipynb.\n",
      "Converted 21_models_unet.ipynb.\n",
      "Converted 22_models_utils.ipynb.\n",
      "Converted 23_models_hooks.ipynb.\n",
      "Converted 99_index.ipynb.\n"
     ]
    }
   ],
   "source": [
    "#hide\n",
    "from nbdev.export import notebook2script\n",
    "notebook2script()"
   ]
  },
  {
   "cell_type": "code",
   "execution_count": null,
   "metadata": {},
   "outputs": [],
   "source": []
  }
 ],
 "metadata": {
  "kernelspec": {
   "display_name": "Python [conda env:pytorch] *",
   "language": "python",
   "name": "conda-env-pytorch-py"
  }
 },
 "nbformat": 4,
 "nbformat_minor": 4
}
