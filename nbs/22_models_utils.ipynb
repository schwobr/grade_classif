{
 "cells": [
  {
   "cell_type": "code",
   "execution_count": null,
   "metadata": {},
   "outputs": [],
   "source": [
    "# default_exp models.utils"
   ]
  },
  {
   "cell_type": "code",
   "execution_count": null,
   "metadata": {},
   "outputs": [],
   "source": [
    "# hide\n",
    "from nbdev.showdoc import *"
   ]
  },
  {
   "cell_type": "code",
   "execution_count": null,
   "metadata": {},
   "outputs": [],
   "source": [
    "# export\n",
    "import torch\n",
    "from grade_classif.core import ifnone\n",
    "from grade_classif.models.hooks import Hooks\n",
    "import numpy as np"
   ]
  },
  {
   "cell_type": "code",
   "execution_count": null,
   "metadata": {},
   "outputs": [],
   "source": [
    "# export\n",
    "def named_leaf_modules(name, model):\n",
    "    named_children = list(model.named_children())\n",
    "    if named_children==[]:\n",
    "        model.name = name\n",
    "        return [model]\n",
    "    else:\n",
    "        res = []\n",
    "        for n, m in named_children:\n",
    "            pref = name+'.' if name != '' else ''\n",
    "            res += named_leaf_modules(pref+n, m)\n",
    "        return res"
   ]
  },
  {
   "cell_type": "code",
   "execution_count": null,
   "metadata": {},
   "outputs": [],
   "source": [
    "# export\n",
    "def get_sizes(model, input_shape=(3, 224, 224), leaf_modules=None):     \n",
    "    leaf_modules = ifnone(leaf_modules, named_leaf_modules('', model))\n",
    "    \n",
    "    class Count:\n",
    "        def __init__(self):\n",
    "            self.k = 0\n",
    "    count = Count()        \n",
    "    def _hook(model, input, output):\n",
    "        model.k = count.k\n",
    "        count.k += 1\n",
    "        return model, output\n",
    "    \n",
    "    with Hooks(leaf_modules, _hook) as hooks:\n",
    "        x = torch.rand(2, *input_shape)\n",
    "        model.eval()(x)\n",
    "        sizes = [hook.stored[1].shape for hook in hooks]\n",
    "        mods = [hook.stored[0] for hook in hooks]\n",
    "    idxs = np.argsort([mod.k for mod in mods])\n",
    "    return np.array(sizes)[idxs], np.array(mods)[idxs]"
   ]
  },
  {
   "cell_type": "code",
   "execution_count": null,
   "metadata": {},
   "outputs": [],
   "source": [
    "# export\n",
    "def get_num_features(model):\n",
    "    sizes, _ = get_sizes(model)\n",
    "    return sizes[-1, 1]"
   ]
  },
  {
   "cell_type": "code",
   "execution_count": null,
   "metadata": {},
   "outputs": [
    {
     "name": "stdout",
     "output_type": "stream",
     "text": [
      "Converted 00_core.ipynb.\n",
      "Converted 01_train.ipynb.\n",
      "Converted 02_predict.ipynb.\n",
      "Converted 10_data_read.ipynb.\n",
      "Converted 11_data_loaders.ipynb.\n",
      "Converted 12_data_dataset.ipynb.\n",
      "Converted 13_data_utils.ipynb.\n",
      "Converted 14_data_transforms.ipynb.\n",
      "Converted 20_models_pl_modules.ipynb.\n",
      "Converted 21_models_modules.ipynb.\n",
      "Converted 22_models_utils.ipynb.\n",
      "Converted 23_models_hooks.ipynb.\n",
      "Converted 80_params_defaults.ipynb.\n",
      "Converted 81_params_norm.ipynb.\n",
      "Converted 82_params_classif.ipynb.\n",
      "Converted 83_params_predict.ipynb.\n",
      "Converted 99_index.ipynb.\n"
     ]
    }
   ],
   "source": [
    "#hide\n",
    "from nbdev.export import notebook2script\n",
    "notebook2script()"
   ]
  },
  {
   "cell_type": "code",
   "execution_count": null,
   "metadata": {},
   "outputs": [],
   "source": []
  }
 ],
 "metadata": {
  "kernelspec": {
   "display_name": "Python [conda env:pytorch] *",
   "language": "python",
   "name": "conda-env-pytorch-py"
  }
 },
 "nbformat": 4,
 "nbformat_minor": 4
}
