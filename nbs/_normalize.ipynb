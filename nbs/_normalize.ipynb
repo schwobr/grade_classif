{
 "cells": [
  {
   "cell_type": "code",
   "execution_count": null,
   "metadata": {},
   "outputs": [],
   "source": [
    "%load_ext autoreload\n",
    "%autoreload 2"
   ]
  },
  {
   "cell_type": "code",
   "execution_count": null,
   "metadata": {},
   "outputs": [],
   "source": [
    "# default_exp normalize"
   ]
  },
  {
   "cell_type": "code",
   "execution_count": null,
   "metadata": {},
   "outputs": [],
   "source": [
    "# export\n",
    "from grade_classif.imports import *\n",
    "from grade_classif.data.dataset import NormDataset\n",
    "from grade_classif.models.modules import DynamicUnet\n",
    "from argparse import ArgumentParser\n",
    "from shutil import copy"
   ]
  },
  {
   "cell_type": "code",
   "execution_count": null,
   "metadata": {},
   "outputs": [],
   "source": [
    "# export\n",
    "DATA = Path('/data/DeepLearning/SCHWOB_Robin')\n",
    "INFOLDER = DATA/'Patches_299/Patches_299_1'\n",
    "OUTFOLDER = DATA/'Patches_normalized_299/Patches_normalized_299_1'\n",
    "MODELFOLDER = DATA/f'models/logs/level_1/normalizer/'\n",
    "MODEL = 'cbr_3_32_4'\n",
    "VERSION = 'b60122c635714bd9a7fda47e7b89cf6b'\n",
    "BATCH_SIZE = 32\n",
    "OPEN_MODE = 'RGB'\n",
    "GPU = 0"
   ]
  },
  {
   "cell_type": "code",
   "execution_count": null,
   "metadata": {},
   "outputs": [],
   "source": [
    "# export\n",
    "parser = ArgumentParser()"
   ]
  },
  {
   "cell_type": "code",
   "execution_count": null,
   "metadata": {},
   "outputs": [
    {
     "data": {
      "text/plain": [
       "_StoreAction(option_strings=['--gpu'], dest='gpu', nargs=None, const=None, default=0, type=<class 'int'>, choices=None, help='GPU device to tuse', metavar=None)"
      ]
     },
     "execution_count": null,
     "metadata": {},
     "output_type": "execute_result"
    }
   ],
   "source": [
    "# export\n",
    "parser.add_argument('--file', '-f', help='notebook convenience')\n",
    "parser.add_argument('--HistoryManager.hist_file', help='nbconvert convenience')\n",
    "parser.add_argument('--infolder', default=INFOLDER, help=\"folder containing patches to normalize\")\n",
    "parser.add_argument('--outfolder', default=OUTFOLDER, help=\"output folder to store normalized patches in\")\n",
    "parser.add_argument('--modelfolder', default=MODELFOLDER, help='folder where model weights are stored')\n",
    "parser.add_argument('--model', default=MODEL, help=\"encoder for the normalizer\")\n",
    "parser.add_argument('--version', default=VERSION, help=\"version of the normalizer to load\")\n",
    "parser.add_argument('--batch-size', type=int, default=BATCH_SIZE, help=\"size of the batches to load into GPU\")\n",
    "parser.add_argument('--open-mode', choices=['RGB', '3G'], default=OPEN_MODE, help=\"how the image should be opened (3G for gray and RGB for color)\")\n",
    "parser.add_argument('--gpu', type=int, default=GPU, help=\"GPU device to tuse\")"
   ]
  },
  {
   "cell_type": "code",
   "execution_count": null,
   "metadata": {},
   "outputs": [],
   "source": [
    "# export\n",
    "args = parser.parse_args()"
   ]
  },
  {
   "cell_type": "code",
   "execution_count": null,
   "metadata": {},
   "outputs": [],
   "source": [
    "# export\n",
    "device = torch.device(f'cuda:{args.gpu}')"
   ]
  },
  {
   "cell_type": "code",
   "execution_count": null,
   "metadata": {},
   "outputs": [],
   "source": [
    "# export\n",
    "ds = (NormDataset.\n",
    "      from_folder(args.infolder, extensions=['.png'], open_mode=args.open_mode).\n",
    "      to_tensor())"
   ]
  },
  {
   "cell_type": "code",
   "execution_count": null,
   "metadata": {},
   "outputs": [],
   "source": [
    "# export\n",
    "norm = DynamicUnet(args.model, 3, ds[0][0].shape, False).eval().to(device)"
   ]
  },
  {
   "cell_type": "code",
   "execution_count": null,
   "metadata": {},
   "outputs": [
    {
     "data": {
      "text/plain": [
       "<All keys matched successfully>"
      ]
     },
     "execution_count": null,
     "metadata": {},
     "output_type": "execute_result"
    }
   ],
   "source": [
    "# export\n",
    "save_dir = args.modelfolder/f'{args.model}/lightning_logs/version_{args.version}/checkpoints'\n",
    "path = list(save_dir.iterdir())[-1]\n",
    "checkpoint = torch.load(path, map_location=lambda storage, loc: storage)\n",
    "sd = {}\n",
    "for k, v in checkpoint['state_dict'].items():\n",
    "    sd[k.replace('unet.', '')] = v\n",
    "norm.load_state_dict(sd)"
   ]
  },
  {
   "cell_type": "code",
   "execution_count": null,
   "metadata": {},
   "outputs": [],
   "source": [
    "# export\n",
    "for p in norm.parameters():\n",
    "    p.requires_grad = False"
   ]
  },
  {
   "cell_type": "code",
   "execution_count": null,
   "metadata": {},
   "outputs": [],
   "source": [
    "# export\n",
    "dl = torch.utils.data.DataLoader(ds, batch_size=args.batch_size)"
   ]
  },
  {
   "cell_type": "code",
   "execution_count": null,
   "metadata": {},
   "outputs": [],
   "source": [
    "# export\n",
    "def load_paths(path_list, bs=8):\n",
    "    for i in range(len(path_list[::bs])):\n",
    "        yield path_list[bs*i:bs*(i+1)]"
   ]
  },
  {
   "cell_type": "code",
   "execution_count": null,
   "metadata": {},
   "outputs": [
    {
     "data": {
      "application/vnd.jupyter.widget-view+json": {
       "model_id": "c34eeb230ded40bd8a7949edcc685f32",
       "version_major": 2,
       "version_minor": 0
      },
      "text/plain": [
       "HBox(children=(IntProgress(value=0, max=147963), HTML(value='')))"
      ]
     },
     "metadata": {},
     "output_type": "display_data"
    }
   ],
   "source": [
    "# export\n",
    "for (x, _), paths in tqdm_notebook(zip(dl, load_paths(ds.items, bs=args.batch_size)), total=len(dl)):\n",
    "    x = x.to(device)\n",
    "    y = norm(x).detach().clamp(0, 1).cpu().numpy()\n",
    "    y = y.transpose(0, 2, 3, 1)\n",
    "    y = (y * 255).astype(np.uint8)\n",
    "    for img, path in zip(y, paths):\n",
    "        out_path = Path(args.outfolder)/path.relative_to(args.infolder)\n",
    "        if out_path.is_file():\n",
    "            continue\n",
    "        if not out_path.parent.is_dir():\n",
    "            out_path.parent.mkdir(parents=True)\n",
    "        cv2.imwrite(str(out_path), cv2.cvtColor(img, cv2.COLOR_RGB2BGR))"
   ]
  },
  {
   "cell_type": "code",
   "execution_count": null,
   "metadata": {},
   "outputs": [
    {
     "name": "stdout",
     "output_type": "stream",
     "text": [
      "Converted _normalize.ipynb.\n"
     ]
    }
   ],
   "source": [
    "#hide\n",
    "from nbdev.export import notebook2script\n",
    "notebook2script(fname='_normalize.ipynb')"
   ]
  },
  {
   "cell_type": "code",
   "execution_count": null,
   "metadata": {},
   "outputs": [],
   "source": []
  }
 ],
 "metadata": {
  "kernelspec": {
   "display_name": "Python [conda env:pytorch] *",
   "language": "python",
   "name": "conda-env-pytorch-py"
  }
 },
 "nbformat": 4,
 "nbformat_minor": 4
}
