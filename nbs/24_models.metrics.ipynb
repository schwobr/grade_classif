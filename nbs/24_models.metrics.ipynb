{
 "cells": [
  {
   "cell_type": "code",
   "execution_count": null,
   "metadata": {},
   "outputs": [],
   "source": [
    "#default_exp models.metrics"
   ]
  },
  {
   "cell_type": "code",
   "execution_count": null,
   "metadata": {},
   "outputs": [],
   "source": [
    "# hide\n",
    "%load_ext autoreload\n",
    "%autoreload 2"
   ]
  },
  {
   "cell_type": "code",
   "execution_count": null,
   "metadata": {},
   "outputs": [],
   "source": [
    "from nbdev.showdoc import *"
   ]
  },
  {
   "cell_type": "code",
   "execution_count": null,
   "metadata": {},
   "outputs": [],
   "source": [
    "# export\n",
    "def _reshape(input, target):\n",
    "    n = target.shape[0]\n",
    "    input = input.argmax(dim=-1).view(n,-1)\n",
    "    target = target.view(n,-1)\n",
    "    return input, target"
   ]
  },
  {
   "cell_type": "code",
   "execution_count": null,
   "metadata": {},
   "outputs": [],
   "source": [
    "# export\n",
    "def accuracy(input, target):\n",
    "    input, target = _reshape(input, target)\n",
    "    true = (input==target).float().sum()\n",
    "    return true/target.shape.numel()"
   ]
  },
  {
   "cell_type": "code",
   "execution_count": null,
   "metadata": {},
   "outputs": [],
   "source": [
    "# export\n",
    "def fp_rate(input, target):\n",
    "    input, target = _reshape(input, target)\n",
    "    tn = ((input==0)&(target==0)).float().sum()\n",
    "    fp = ((input==1)&(target==0)).float().sum()\n",
    "    return fp/(fp+tn+1e-7)"
   ]
  },
  {
   "cell_type": "code",
   "execution_count": null,
   "metadata": {},
   "outputs": [],
   "source": [
    "# export\n",
    "def fn_rate(input, target):\n",
    "    input, target = _reshape(input, target)\n",
    "    tp = ((input==1)&(target==1)).float().sum()\n",
    "    fn = ((input==0)&(target==1)).float().sum()\n",
    "    return fn/(fn+tp+1e-7)"
   ]
  },
  {
   "cell_type": "code",
   "execution_count": null,
   "metadata": {},
   "outputs": [],
   "source": [
    "# export\n",
    "def precision(input, target, cat=0):\n",
    "    input, target = _reshape(input, target)\n",
    "    tp = ((input==cat)&(target==cat)).float().sum()\n",
    "    fp = ((input==cat)&(target!=cat)).float().sum()\n",
    "    return tp/(fp+tp+1e-7)"
   ]
  },
  {
   "cell_type": "code",
   "execution_count": null,
   "metadata": {},
   "outputs": [],
   "source": [
    "# export\n",
    "def recall(input, target, cat=0):\n",
    "    input, target = _reshape(input, target)\n",
    "    tp = ((input==cat)&(target==cat)).float().sum()\n",
    "    fn = ((input!=cat)&(target==cat)).float().sum()\n",
    "    return tp/(fn+tp+1e-7)"
   ]
  },
  {
   "cell_type": "code",
   "execution_count": null,
   "metadata": {},
   "outputs": [],
   "source": [
    "# export\n",
    "def f_beta(input, target, beta=1, cat=0):\n",
    "    prec = precision(input, target, cat)\n",
    "    rec = recall(input, target, cat)\n",
    "    return (1+beta**2)*prec*rec/(beta**2*prec+rec+1e-7)"
   ]
  },
  {
   "cell_type": "code",
   "execution_count": null,
   "metadata": {},
   "outputs": [],
   "source": [
    "# export\n",
    "def f_1(input, target, cat=0):\n",
    "    return f_beta(input, target, beta=1, cat=cat)"
   ]
  },
  {
   "cell_type": "code",
   "execution_count": null,
   "metadata": {},
   "outputs": [
    {
     "name": "stdout",
     "output_type": "stream",
     "text": [
      "Converted 00_core.ipynb.\n",
      "Converted 01_train.ipynb.\n",
      "Converted 02_predict.ipynb.\n",
      "Converted 10_data.read.ipynb.\n",
      "Converted 11_data.loaders.ipynb.\n",
      "Converted 12_data.dataset.ipynb.\n",
      "Converted 13_data.utils.ipynb.\n",
      "Converted 14_data.transforms.ipynb.\n",
      "Converted 20_models.plmodules.ipynb.\n",
      "Converted 21_models.modules.ipynb.\n",
      "Converted 22_models.utils.ipynb.\n",
      "Converted 23_models.hooks.ipynb.\n",
      "Converted 24_models.metrics.ipynb.\n",
      "Converted 80_params.defaults.ipynb.\n",
      "Converted 81_params.parser.ipynb.\n",
      "Converted 99_index.ipynb.\n"
     ]
    }
   ],
   "source": [
    "#hide\n",
    "from nbdev.export import notebook2script\n",
    "notebook2script()"
   ]
  },
  {
   "cell_type": "code",
   "execution_count": null,
   "metadata": {},
   "outputs": [],
   "source": []
  }
 ],
 "metadata": {
  "kernelspec": {
   "display_name": "Python [conda env:pytorch] *",
   "language": "python",
   "name": "conda-env-pytorch-py"
  }
 },
 "nbformat": 4,
 "nbformat_minor": 4
}
