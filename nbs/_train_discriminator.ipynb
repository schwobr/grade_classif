{
 "cells": [
  {
   "cell_type": "code",
   "execution_count": null,
   "metadata": {},
   "outputs": [],
   "source": [
    "#default_exp train_discriminator"
   ]
  },
  {
   "cell_type": "code",
   "execution_count": null,
   "metadata": {},
   "outputs": [],
   "source": [
    "# export\n",
    "from grade_classif.params.parser import hparams\n",
    "from grade_classif.train import train_discriminator\n",
    "from grade_classif.imports import *"
   ]
  },
  {
   "cell_type": "code",
   "execution_count": null,
   "metadata": {},
   "outputs": [
    {
     "name": "stderr",
     "output_type": "stream",
     "text": [
      "INFO:pytorch_lightning.logging.comet:CometLogger will be initialized in online mode\n",
      "COMET INFO: old comet version (3.0.3) detected. current: 3.1.14 please update your comet lib with command: `pip install --no-cache-dir --upgrade comet_ml`\n",
      "COMET INFO: Experiment is live on comet.ml https://www.comet.ml/schwobr/grade-classif/466006526bd2450dba0e3ad2e6d125e2\n",
      "\n",
      "INFO:root:gpu available: True, used: True\n",
      "INFO:root:VISIBLE GPUS: 0\n",
      "INFO:root:\n",
      "                 Name               Type Params\n",
      "0          base_model         Sequential  389 K\n",
      "1        base_model.0         ConvBnRelu  960  \n",
      "2   base_model.0.conv             Conv2d  896  \n",
      "3     base_model.0.bn        BatchNorm2d   64  \n",
      "4   base_model.0.relu               ReLU    0  \n",
      "5        base_model.1         ConvBnRelu   18 K\n",
      "6   base_model.1.conv             Conv2d   18 K\n",
      "7     base_model.1.bn        BatchNorm2d  128  \n",
      "8   base_model.1.relu               ReLU    0  \n",
      "9        base_model.2         ConvBnRelu   74 K\n",
      "10  base_model.2.conv             Conv2d   73 K\n",
      "11    base_model.2.bn        BatchNorm2d  256  \n",
      "12  base_model.2.relu               ReLU    0  \n",
      "13       base_model.3         ConvBnRelu  295 K\n",
      "14  base_model.3.conv             Conv2d  295 K\n",
      "15    base_model.3.bn        BatchNorm2d  512  \n",
      "16  base_model.3.relu               ReLU    0  \n",
      "17               head         Sequential   67 K\n",
      "18             head.0  AdaptiveAvgPool2d    0  \n",
      "19             head.1            Flatten    0  \n",
      "20             head.2        BatchNorm1d  512  \n",
      "21             head.3            Dropout    0  \n",
      "22             head.4             Linear   65 K\n",
      "23             head.5        BatchNorm1d  512  \n",
      "24             head.6            Dropout    0  \n",
      "25             head.7             Linear  771  \n",
      "                                                                         "
     ]
    },
    {
     "name": "stdout",
     "output_type": "stream",
     "text": [
      "Epoch 1:   0%|          | 0/56401 [00:00<?, ?batch/s]"
     ]
    },
    {
     "name": "stderr",
     "output_type": "stream",
     "text": [
      "\r"
     ]
    },
    {
     "name": "stdout",
     "output_type": "stream",
     "text": [
      "Epoch 1:   1%|          | 502/56401 [28:35<50:17:38,  3.24s/batch, batch_idx=501, gpu=0, loss=0.295, v_num=466006526bd2450dba0e3ad2e6d125e2]"
     ]
    }
   ],
   "source": [
    "# export\n",
    "train_discriminator(hparams)"
   ]
  },
  {
   "cell_type": "code",
   "execution_count": null,
   "metadata": {},
   "outputs": [
    {
     "name": "stdout",
     "output_type": "stream",
     "text": [
      "Converted _train_discriminator.ipynb.\n"
     ]
    }
   ],
   "source": [
    "#hide\n",
    "from nbdev.export import notebook2script\n",
    "notebook2script(fname='_train_discriminator.ipynb')"
   ]
  },
  {
   "cell_type": "code",
   "execution_count": null,
   "metadata": {},
   "outputs": [],
   "source": []
  }
 ],
 "metadata": {
  "kernelspec": {
   "display_name": "Python [conda env:pytorch] *",
   "language": "python",
   "name": "conda-env-pytorch-py"
  }
 },
 "nbformat": 4,
 "nbformat_minor": 4
}
