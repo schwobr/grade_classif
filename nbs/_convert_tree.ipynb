{
 "cells": [
  {
   "cell_type": "code",
   "execution_count": null,
   "metadata": {},
   "outputs": [],
   "source": [
    "import pickle\n",
    "import json\n",
    "from pathlib import Path\n",
    "from slideminer import data"
   ]
  },
  {
   "cell_type": "code",
   "execution_count": null,
   "metadata": {},
   "outputs": [],
   "source": [
    "DATA = Path('/data/DeepLearning/SCHWOB_Robin/Seg_outputs_iter_7')\n",
    "ITER = 3\n",
    "TREE = DATA/'Tree/most_significant_tree.p'\n",
    "PATCHES = DATA/f'Selection_1'"
   ]
  },
  {
   "cell_type": "code",
   "execution_count": null,
   "metadata": {},
   "outputs": [],
   "source": [
    "with open(TREE, 'rb') as f:\n",
    "    p_tree = pickle.load(f)"
   ]
  },
  {
   "cell_type": "code",
   "execution_count": null,
   "metadata": {},
   "outputs": [
    {
     "data": {
      "text/plain": [
       "(16128, [11598, 11611])"
      ]
     },
     "execution_count": null,
     "metadata": {},
     "output_type": "execute_result"
    }
   ],
   "source": [
    "max(p_tree.children.keys()), p_tree.children[max(p_tree.children.keys())]"
   ]
  },
  {
   "cell_type": "code",
   "execution_count": null,
   "metadata": {},
   "outputs": [],
   "source": [
    "with open(TREE.parent/'full_tree.p', 'rb') as f:\n",
    "    f_tree = pickle.load(f)"
   ]
  },
  {
   "cell_type": "code",
   "execution_count": null,
   "metadata": {},
   "outputs": [],
   "source": [
    "root = max(f_tree.children.keys())"
   ]
  },
  {
   "cell_type": "code",
   "execution_count": null,
   "metadata": {},
   "outputs": [
    {
     "data": {
      "text/plain": [
       "(16128, (16127, 16126), [3, 8062])"
      ]
     },
     "execution_count": null,
     "metadata": {},
     "output_type": "execute_result"
    }
   ],
   "source": [
    "root, f_tree.children[root], [f_tree.population[c] for c in f_tree.children[root]]"
   ]
  },
  {
   "cell_type": "code",
   "execution_count": null,
   "metadata": {},
   "outputs": [
    {
     "data": {
      "text/plain": [
       "(525, 2129)"
      ]
     },
     "execution_count": null,
     "metadata": {},
     "output_type": "execute_result"
    }
   ],
   "source": [
    "f_tree.population[11598], f_tree.population[11611]"
   ]
  },
  {
   "cell_type": "code",
   "execution_count": null,
   "metadata": {},
   "outputs": [
    {
     "name": "stdout",
     "output_type": "stream",
     "text": [
      "Node: 16128, children: 16127 (pop: 3), 16126 (pop: 8062)\n",
      "Node: 16126, children: 4559 (pop: 1), 16125 (pop: 8061)\n",
      "Node: 16125, children: 16060 (pop: 3), 16124 (pop: 8058)\n",
      "Node: 16124, children: 16122 (pop: 3), 16123 (pop: 8055)\n",
      "Node: 16123, children: 5521 (pop: 1), 16121 (pop: 8054)\n",
      "Node: 16121, children: 3083 (pop: 1), 16120 (pop: 8053)\n",
      "Node: 16120, children: 2634 (pop: 1), 16119 (pop: 8052)\n",
      "Node: 16119, children: 16110 (pop: 5), 16118 (pop: 8047)\n",
      "Node: 16118, children: 7802 (pop: 1), 16117 (pop: 8046)\n",
      "Node: 16117, children: 6882 (pop: 1), 16115 (pop: 8045)\n",
      "Node: 16115, children: 4349 (pop: 1), 16114 (pop: 8044)\n",
      "Node: 16114, children: 696 (pop: 1), 16113 (pop: 8043)\n",
      "Node: 16113, children: 4788 (pop: 1), 16112 (pop: 8042)\n",
      "Node: 16112, children: 15905 (pop: 2), 16111 (pop: 8040)\n",
      "Node: 16111, children: 4475 (pop: 1), 16109 (pop: 8039)\n",
      "Node: 16109, children: 3659 (pop: 1), 16108 (pop: 8038)\n",
      "Node: 16108, children: 16107 (pop: 17), 16106 (pop: 8021)\n",
      "Node: 16106, children: 3024 (pop: 1), 16105 (pop: 8020)\n",
      "Node: 16105, children: 7788 (pop: 1), 16104 (pop: 8019)\n",
      "Node: 16104, children: 2660 (pop: 1), 16102 (pop: 8018)\n",
      "Node: 16102, children: 16086 (pop: 2), 16101 (pop: 8016)\n",
      "Node: 16101, children: 4313 (pop: 1), 16100 (pop: 8015)\n",
      "Node: 16100, children: 6941 (pop: 1), 16099 (pop: 8014)\n",
      "Node: 16099, children: 15923 (pop: 4), 16098 (pop: 8010)\n",
      "Node: 16098, children: 3792 (pop: 1), 16097 (pop: 8009)\n",
      "Node: 16097, children: 4619 (pop: 1), 16095 (pop: 8008)\n",
      "Node: 16095, children: 5440 (pop: 1), 16094 (pop: 8007)\n",
      "Node: 16094, children: 3970 (pop: 1), 16093 (pop: 8006)\n",
      "Node: 16093, children: 6358 (pop: 1), 16092 (pop: 8005)\n",
      "Node: 16092, children: 262 (pop: 1), 16091 (pop: 8004)\n",
      "Node: 16091, children: 7908 (pop: 1), 16089 (pop: 8003)\n",
      "Node: 16089, children: 535 (pop: 1), 16088 (pop: 8002)\n",
      "Node: 16088, children: 4541 (pop: 1), 16087 (pop: 8001)\n",
      "Node: 16087, children: 6207 (pop: 1), 16085 (pop: 8000)\n",
      "Node: 16085, children: 6906 (pop: 1), 16084 (pop: 7999)\n",
      "Node: 16084, children: 4776 (pop: 1), 16083 (pop: 7998)\n",
      "Node: 16083, children: 3654 (pop: 1), 16082 (pop: 7997)\n",
      "Node: 16082, children: 7923 (pop: 1), 16081 (pop: 7996)\n",
      "Node: 16081, children: 15971 (pop: 2), 16080 (pop: 7994)\n",
      "Node: 16080, children: 2383 (pop: 1), 16079 (pop: 7993)\n",
      "Node: 16079, children: 3954 (pop: 1), 16078 (pop: 7992)\n",
      "Node: 16078, children: 3890 (pop: 1), 16076 (pop: 7991)\n",
      "Node: 16076, children: 4036 (pop: 1), 16075 (pop: 7990)\n",
      "Node: 16075, children: 1855 (pop: 1), 16074 (pop: 7989)\n",
      "Node: 16074, children: 5759 (pop: 1), 16073 (pop: 7988)\n",
      "Node: 16073, children: 7126 (pop: 1), 16072 (pop: 7987)\n",
      "Node: 16072, children: 3221 (pop: 1), 16070 (pop: 7986)\n",
      "Node: 16070, children: 7927 (pop: 1), 16069 (pop: 7985)\n",
      "Node: 16069, children: 16059 (pop: 16), 16068 (pop: 7969)\n",
      "Node: 16068, children: 4417 (pop: 1), 16067 (pop: 7968)\n",
      "Node: 16067, children: 4519 (pop: 1), 16066 (pop: 7967)\n",
      "Node: 16066, children: 6201 (pop: 1), 16065 (pop: 7966)\n",
      "Node: 16065, children: 8443 (pop: 2), 16064 (pop: 7964)\n",
      "Node: 16064, children: 3244 (pop: 1), 16063 (pop: 7963)\n",
      "Node: 16063, children: 6181 (pop: 1), 16062 (pop: 7962)\n",
      "Node: 16062, children: 4631 (pop: 1), 16061 (pop: 7961)\n",
      "Node: 16061, children: 3915 (pop: 1), 16058 (pop: 7960)\n",
      "Node: 16058, children: 6519 (pop: 1), 16057 (pop: 7959)\n",
      "Node: 16057, children: 4937 (pop: 1), 16056 (pop: 7958)\n",
      "Node: 16056, children: 4466 (pop: 1), 16055 (pop: 7957)\n",
      "Node: 16055, children: 5033 (pop: 1), 16054 (pop: 7956)\n",
      "Node: 16054, children: 7116 (pop: 1), 16053 (pop: 7955)\n",
      "Node: 16053, children: 7182 (pop: 1), 16052 (pop: 7954)\n",
      "Node: 16052, children: 3689 (pop: 1), 16050 (pop: 7953)\n",
      "Node: 16050, children: 659 (pop: 1), 16049 (pop: 7952)\n",
      "Node: 16049, children: 6721 (pop: 1), 16048 (pop: 7951)\n",
      "Node: 16048, children: 240 (pop: 1), 16046 (pop: 7950)\n",
      "Node: 16046, children: 3904 (pop: 1), 16045 (pop: 7949)\n",
      "Node: 16045, children: 15997 (pop: 5), 16044 (pop: 7944)\n",
      "Node: 16044, children: 2516 (pop: 1), 16043 (pop: 7943)\n",
      "Node: 16043, children: 1975 (pop: 1), 16041 (pop: 7942)\n",
      "Node: 16041, children: 6287 (pop: 1), 16040 (pop: 7941)\n",
      "Node: 16040, children: 1502 (pop: 1), 16039 (pop: 7940)\n",
      "Node: 16039, children: 744 (pop: 1), 16038 (pop: 7939)\n",
      "Node: 16038, children: 16033 (pop: 2), 16037 (pop: 7937)\n",
      "Node: 16037, children: 16031 (pop: 25), 16036 (pop: 7912)\n",
      "Node: 16036, children: 5037 (pop: 1), 16035 (pop: 7911)\n",
      "Node: 16035, children: 15989 (pop: 2), 16030 (pop: 7909)\n",
      "Node: 16030, children: 7144 (pop: 1), 16029 (pop: 7908)\n",
      "Node: 16029, children: 7811 (pop: 1), 16028 (pop: 7907)\n",
      "Node: 16028, children: 4200 (pop: 1), 16027 (pop: 7906)\n",
      "Node: 16027, children: 15941 (pop: 2), 16026 (pop: 7904)\n",
      "Node: 16026, children: 7831 (pop: 1), 16025 (pop: 7903)\n",
      "Node: 16025, children: 3032 (pop: 1), 16024 (pop: 7902)\n",
      "Node: 16024, children: 6303 (pop: 1), 16022 (pop: 7901)\n",
      "Node: 16022, children: 7857 (pop: 1), 16021 (pop: 7900)\n",
      "Node: 16021, children: 7119 (pop: 1), 16020 (pop: 7899)\n",
      "Node: 16020, children: 15966 (pop: 2), 16019 (pop: 7897)\n",
      "Node: 16019, children: 3901 (pop: 1), 16018 (pop: 7896)\n",
      "Node: 16018, children: 7832 (pop: 1), 16017 (pop: 7895)\n",
      "Node: 16017, children: 5118 (pop: 1), 16016 (pop: 7894)\n",
      "Node: 16016, children: 8064 (pop: 1), 16014 (pop: 7893)\n",
      "Node: 16014, children: 7504 (pop: 1), 16013 (pop: 7892)\n",
      "Node: 16013, children: 398 (pop: 1), 16012 (pop: 7891)\n",
      "Node: 16012, children: 15838 (pop: 2), 16011 (pop: 7889)\n",
      "Node: 16011, children: 6597 (pop: 1), 16010 (pop: 7888)\n",
      "Node: 16010, children: 15977 (pop: 2), 16009 (pop: 7886)\n",
      "Node: 16009, children: 7809 (pop: 1), 16008 (pop: 7885)\n",
      "Node: 16008, children: 5460 (pop: 1), 16007 (pop: 7884)\n",
      "Node: 16007, children: 15896 (pop: 2), 16005 (pop: 7882)\n"
     ]
    }
   ],
   "source": [
    "n = 100\n",
    "node = root\n",
    "while n > 0:\n",
    "    children = sorted(f_tree.children[node], key=f_tree.population.get)\n",
    "    pops = [f_tree.population[c] for c in children]\n",
    "    print(f'Node: {node}, children: ' + ', '.join([f'{c} (pop: {pop})' for c, pop in zip(children, pops)]))\n",
    "    n -= 1\n",
    "    node = children[-1]"
   ]
  },
  {
   "cell_type": "code",
   "execution_count": null,
   "metadata": {},
   "outputs": [],
   "source": [
    "truncs = [int(node.name) for node in PATCHES.iterdir()]"
   ]
  },
  {
   "cell_type": "code",
   "execution_count": null,
   "metadata": {},
   "outputs": [],
   "source": [
    "leaves_by_trunc = data.leaves_under_truncated_leaves(p_tree, truncs)"
   ]
  },
  {
   "cell_type": "code",
   "execution_count": null,
   "metadata": {},
   "outputs": [],
   "source": [
    "all_stats = {}\n",
    "for concept in PATCHES.iterdir():\n",
    "    all_stats[int(concept.name)] = {'04': 0, '05': 0, '08': 0}\n",
    "    for patch in concept.iterdir():\n",
    "        for pacs in ('04', '05', '08'):\n",
    "            if f'PACS{pacs}' in patch.name:\n",
    "                all_stats[int(concept.name)][pacs] += 1\n",
    "                break"
   ]
  },
  {
   "cell_type": "code",
   "execution_count": null,
   "metadata": {},
   "outputs": [],
   "source": [
    "def get_pacs_stats(concept):\n",
    "    if concept in all_stats:\n",
    "        return all_stats[concept]\n",
    "    else:\n",
    "        count = {'04': 0, '05': 0, '08': 0}\n",
    "        for child in p_tree.children[concept]:\n",
    "            child_count = get_pacs_stats(child)\n",
    "            for pacs in count:\n",
    "                count[pacs] += child_count[pacs]\n",
    "        return count"
   ]
  },
  {
   "cell_type": "code",
   "execution_count": null,
   "metadata": {},
   "outputs": [],
   "source": [
    "def compute_dict(nodes):\n",
    "    parents = []\n",
    "    for node in nodes:\n",
    "        node = int(node)\n",
    "        try:\n",
    "            parent = int(p_tree.parents[node])\n",
    "        except:\n",
    "            parent = node\n",
    "        test = node != parent\n",
    "        if test:\n",
    "            jsondict['links'].append({'source': parent, 'target': node})\n",
    "        dico = {'id': node,\n",
    "                'parent': parent}\n",
    "        if node in all_stats:\n",
    "            dico['children'] = []\n",
    "            count = all_stats[node]\n",
    "            tot = sum(count.values())\n",
    "            dico['leaf_size_color'] = [count[p] / tot for p in ('04', '05', '08')] + [1.0]\n",
    "        else:\n",
    "            dico['children'] = [int(c) for c in p_tree.children[node] if str(c) in jsondict['nodes']]\n",
    "            n = len(dico['children'])\n",
    "            dico['leaf_size_color'] = [0, 0, 0, 0]\n",
    "            for child in dico['children']:\n",
    "                child_color = jsondict['nodes'][str(child)]['leaf_size_color']\n",
    "                for k, c in enumerate(child_color):\n",
    "                    dico['leaf_size_color'][k] += c/n\n",
    "        jsondict['nodes'][str(node)] = dico\n",
    "        if test and parent not in parents:\n",
    "            parents.append(parent)\n",
    "    if len(parents):\n",
    "        compute_dict(parents)"
   ]
  },
  {
   "cell_type": "code",
   "execution_count": null,
   "metadata": {},
   "outputs": [],
   "source": [
    "jsondict = {'links': [], 'nodes': {}}\n",
    "compute_dict(leaves_by_trunc)"
   ]
  },
  {
   "cell_type": "code",
   "execution_count": null,
   "metadata": {},
   "outputs": [],
   "source": [
    "with open(TREE.with_suffix('.json'), \"w\") as f:\n",
    "    json.dump(jsondict, f, indent=4, sort_keys=True)"
   ]
  },
  {
   "cell_type": "code",
   "execution_count": null,
   "metadata": {},
   "outputs": [],
   "source": []
  }
 ],
 "metadata": {
  "kernelspec": {
   "display_name": "Python [conda env:pytorch] *",
   "language": "python",
   "name": "conda-env-pytorch-py"
  }
 },
 "nbformat": 4,
 "nbformat_minor": 4
}
