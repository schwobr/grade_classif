{
 "cells": [
  {
   "cell_type": "code",
   "execution_count": null,
   "metadata": {},
   "outputs": [],
   "source": [
    "import pickle\n",
    "import json\n",
    "from pathlib import Path\n",
    "from slideminer import data"
   ]
  },
  {
   "cell_type": "code",
   "execution_count": null,
   "metadata": {},
   "outputs": [],
   "source": [
    "DATA = Path('/data/DeepLearning/SCHWOB_Robin/Seg_outputs')\n",
    "ITER = 3\n",
    "TREE = DATA/f'Tree/iter_{ITER}/most_significant_tree.p'\n",
    "PATCHES = DATA/f'Selection/iter_{ITER}'"
   ]
  },
  {
   "cell_type": "code",
   "execution_count": null,
   "metadata": {},
   "outputs": [],
   "source": [
    "with open(TREE, 'rb') as f:\n",
    "    p_tree = pickle.load(f)"
   ]
  },
  {
   "cell_type": "code",
   "execution_count": null,
   "metadata": {},
   "outputs": [
    {
     "name": "stdout",
     "output_type": "stream",
     "text": [
      "Found 14 leaf concepts.\n"
     ]
    }
   ],
   "source": [
    "truncs = data.truncated_leaves(p_tree, 25)"
   ]
  },
  {
   "cell_type": "code",
   "execution_count": null,
   "metadata": {},
   "outputs": [],
   "source": [
    "leaves_by_trunc = data.leaves_under_truncated_leaves(p_tree, truncs)"
   ]
  },
  {
   "cell_type": "code",
   "execution_count": null,
   "metadata": {},
   "outputs": [],
   "source": [
    "all_stats = {}\n",
    "for concept in PATCHES.iterdir():\n",
    "    all_stats[int(concept.name)] = {'04': 0, '05': 0, '08': 0}\n",
    "    for patch in concept.iterdir():\n",
    "        for pacs in ('04', '05', '08'):\n",
    "            if f'PACS{pacs}' in patch.name:\n",
    "                all_stats[int(concept.name)][pacs] += 1\n",
    "                break"
   ]
  },
  {
   "cell_type": "code",
   "execution_count": null,
   "metadata": {},
   "outputs": [],
   "source": [
    "def get_pacs_stats(concept):\n",
    "    if concept in all_stats:\n",
    "        return all_stats[concept]\n",
    "    else:\n",
    "        count = {'04': 0, '05': 0, '08': 0}\n",
    "        for child in p_tree.children[concept]:\n",
    "            child_count = get_pacs_stats(child)\n",
    "            for pacs in count:\n",
    "                count[pacs] += child_count[pacs]\n",
    "        return count"
   ]
  },
  {
   "cell_type": "code",
   "execution_count": null,
   "metadata": {},
   "outputs": [],
   "source": [
    "def compute_dict(nodes):\n",
    "    parents = []\n",
    "    for node in nodes:\n",
    "        try:\n",
    "            parent = p_tree.parents[node]\n",
    "            test = True\n",
    "        except Exception as e:\n",
    "            test = False\n",
    "            parent = node\n",
    "            \n",
    "        jsondict['links'].append({'source': parent, 'target': node})\n",
    "        dico = {'id': node,\n",
    "                'parent': parent}\n",
    "        if node in all_stats:\n",
    "            dico['children'] = []\n",
    "            count = all_stats[node]\n",
    "            tot = sum(count.values())\n",
    "            dico['leaf_size_color'] = [count[p] / tot for p in ('04', '05', '08')] + [1.0]\n",
    "        else:\n",
    "            dico['children'] = [c for c in p_tree.children[node] if str(c) in jsondict['nodes']]\n",
    "            n = len(dico['children'])\n",
    "            dico['leaf_size_color'] = [0, 0, 0, 0]\n",
    "            for child in dico['children']:\n",
    "                child_color = jsondict['nodes'][str(child)]['leaf_size_color']\n",
    "                for k, c in enumerate(child_color):\n",
    "                    dico['leaf_size_color'][k] += c/n\n",
    "        jsondict['nodes'][str(node)] = dico\n",
    "        if test:\n",
    "            parents.append(parent)            \n",
    "    if len(parents):\n",
    "        compute_dict(parents)"
   ]
  },
  {
   "cell_type": "code",
   "execution_count": null,
   "metadata": {},
   "outputs": [],
   "source": [
    "jsondict = {'links': [], 'nodes': {}}\n",
    "compute_dict(leaves_by_trunc)"
   ]
  },
  {
   "cell_type": "code",
   "execution_count": null,
   "metadata": {},
   "outputs": [],
   "source": [
    "with open(TREE.with_suffix('.json'), \"w\") as f:\n",
    "    json.dump(jsondict, f, indent=4, sort_keys=True)"
   ]
  },
  {
   "cell_type": "code",
   "execution_count": null,
   "metadata": {},
   "outputs": [],
   "source": []
  }
 ],
 "metadata": {
  "kernelspec": {
   "display_name": "Python [conda env:pytorch] *",
   "language": "python",
   "name": "conda-env-pytorch-py"
  }
 },
 "nbformat": 4,
 "nbformat_minor": 4
}
