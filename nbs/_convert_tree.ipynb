{
 "cells": [
  {
   "cell_type": "code",
   "execution_count": null,
   "metadata": {},
   "outputs": [],
   "source": [
    "import pickle\n",
    "import json\n",
    "from pathlib import Path\n",
    "from slideminer import data"
   ]
  },
  {
   "cell_type": "code",
   "execution_count": null,
   "metadata": {},
   "outputs": [],
   "source": [
    "DATA = Path('/data/DeepLearning/SCHWOB_Robin/Seg_outputs_2_iter_10_all_images')\n",
    "ITER = 3\n",
    "TREE = DATA/'Tree/most_significant_tree_final.p'\n",
    "PATCHES = DATA/f'Selection'"
   ]
  },
  {
   "cell_type": "code",
   "execution_count": null,
   "metadata": {},
   "outputs": [],
   "source": [
    "with open(TREE, 'rb') as f:\n",
    "    p_tree = pickle.load(f)"
   ]
  },
  {
   "cell_type": "code",
   "execution_count": null,
   "metadata": {},
   "outputs": [],
   "source": [
    "root = max(p_tree.children.keys())"
   ]
  },
  {
   "cell_type": "code",
   "execution_count": null,
   "metadata": {},
   "outputs": [
    {
     "data": {
      "text/plain": [
       "167671"
      ]
     },
     "execution_count": null,
     "metadata": {},
     "output_type": "execute_result"
    }
   ],
   "source": [
    "p_tree.population[root]"
   ]
  },
  {
   "cell_type": "code",
   "execution_count": null,
   "metadata": {},
   "outputs": [
    {
     "data": {
      "text/plain": [
       "(335340, [214689, 214729], [18642, 149029])"
      ]
     },
     "execution_count": null,
     "metadata": {},
     "output_type": "execute_result"
    }
   ],
   "source": [
    "max(p_tree.children.keys()), p_tree.children[max(p_tree.children.keys())], [p_tree.population[c] for c in p_tree.children[root]]"
   ]
  },
  {
   "cell_type": "code",
   "execution_count": null,
   "metadata": {},
   "outputs": [],
   "source": [
    "with open(TREE.parent/'full_tree.p', 'rb') as f:\n",
    "    f_tree = pickle.load(f)"
   ]
  },
  {
   "cell_type": "code",
   "execution_count": null,
   "metadata": {},
   "outputs": [
    {
     "data": {
      "text/plain": [
       "(249462, (113313, 249461), [1, 124731])"
      ]
     },
     "execution_count": null,
     "metadata": {},
     "output_type": "execute_result"
    }
   ],
   "source": [
    "root, f_tree.children[root], [f_tree.population[c] for c in f_tree.children[root]]"
   ]
  },
  {
   "cell_type": "raw",
   "metadata": {},
   "source": [
    "n = 100\n",
    "node = root\n",
    "while n > 0:\n",
    "    children = sorted(f_tree.children[node], key=f_tree.population.get)\n",
    "    pops = [f_tree.population[c] for c in children]\n",
    "    print(f'Node: {node}, children: ' + ', '.join([f'{c} (pop: {pop})' for c, pop in zip(children, pops)]))\n",
    "    n -= 1\n",
    "    node = children[-1]"
   ]
  },
  {
   "cell_type": "code",
   "execution_count": null,
   "metadata": {},
   "outputs": [
    {
     "data": {
      "text/plain": [
       "62"
      ]
     },
     "execution_count": null,
     "metadata": {},
     "output_type": "execute_result"
    }
   ],
   "source": [
    "truncs = [int(node.name) for node in PATCHES.iterdir()]; len(truncs)"
   ]
  },
  {
   "cell_type": "code",
   "execution_count": null,
   "metadata": {},
   "outputs": [],
   "source": [
    "leaves_by_trunc = data.leaves_under_truncated_leaves(p_tree, truncs)"
   ]
  },
  {
   "cell_type": "code",
   "execution_count": null,
   "metadata": {},
   "outputs": [],
   "source": [
    "all_stats = {}\n",
    "for concept in PATCHES.iterdir():\n",
    "    all_stats[int(concept.name)] = {'04': 0, '05': 0, '08': 0}\n",
    "    for patch in concept.iterdir():\n",
    "        for pacs in ('04', '05', '08'):\n",
    "            if f'PACS{pacs}' in patch.name:\n",
    "                all_stats[int(concept.name)][pacs] += 1\n",
    "                break"
   ]
  },
  {
   "cell_type": "code",
   "execution_count": null,
   "metadata": {},
   "outputs": [],
   "source": [
    "def get_pacs_stats(concept):\n",
    "    if concept in all_stats:\n",
    "        return all_stats[concept]\n",
    "    else:\n",
    "        count = {'04': 0, '05': 0, '08': 0}\n",
    "        for child in p_tree.children[concept]:\n",
    "            child_count = get_pacs_stats(child)\n",
    "            for pacs in count:\n",
    "                count[pacs] += child_count[pacs]\n",
    "        return count"
   ]
  },
  {
   "cell_type": "code",
   "execution_count": null,
   "metadata": {},
   "outputs": [],
   "source": [
    "def compute_dict(nodes):\n",
    "    parents = []\n",
    "    for node in nodes:\n",
    "        node = int(node)\n",
    "        try:\n",
    "            parent = int(p_tree.parents[node])\n",
    "        except:\n",
    "            parent = node\n",
    "        test = node != parent\n",
    "        if test:\n",
    "            jsondict['links'].append({'source': parent, 'target': node})\n",
    "        dico = {'id': node,\n",
    "                'parent': parent}\n",
    "        if node in all_stats:\n",
    "            dico['children'] = []\n",
    "            count = all_stats[node]\n",
    "            tot = sum(count.values())\n",
    "            dico['leaf_size_color'] = [count[p] / tot for p in ('04', '05', '08')] + [1.0]\n",
    "        else:\n",
    "            dico['children'] = [int(c) for c in p_tree.children[node] if str(c) in jsondict['nodes']]\n",
    "            n = len(dico['children'])\n",
    "            dico['leaf_size_color'] = [0, 0, 0, 0]\n",
    "            for child in dico['children']:\n",
    "                child_color = jsondict['nodes'][str(child)]['leaf_size_color']\n",
    "                for k, c in enumerate(child_color):\n",
    "                    dico['leaf_size_color'][k] += c/n\n",
    "        jsondict['nodes'][str(node)] = dico\n",
    "        if test and parent not in parents:\n",
    "            parents.append(parent)\n",
    "    if len(parents):\n",
    "        compute_dict(parents)"
   ]
  },
  {
   "cell_type": "code",
   "execution_count": null,
   "metadata": {},
   "outputs": [],
   "source": [
    "jsondict = {'links': [], 'nodes': {}}\n",
    "compute_dict(leaves_by_trunc)"
   ]
  },
  {
   "cell_type": "code",
   "execution_count": null,
   "metadata": {},
   "outputs": [],
   "source": [
    "with open(TREE.with_suffix('.json'), \"w\") as f:\n",
    "    json.dump(jsondict, f, indent=4, sort_keys=True)"
   ]
  },
  {
   "cell_type": "code",
   "execution_count": null,
   "metadata": {},
   "outputs": [],
   "source": []
  }
 ],
 "metadata": {
  "kernelspec": {
   "display_name": "Python [conda env:pytorch] *",
   "language": "python",
   "name": "conda-env-pytorch-py"
  }
 },
 "nbformat": 4,
 "nbformat_minor": 4
}
