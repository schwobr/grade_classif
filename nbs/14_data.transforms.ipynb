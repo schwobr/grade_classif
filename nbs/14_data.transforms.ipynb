{
 "cells": [
  {
   "cell_type": "code",
   "execution_count": null,
   "metadata": {},
   "outputs": [],
   "source": [
    "# default_exp data.transforms"
   ]
  },
  {
   "cell_type": "code",
   "execution_count": null,
   "metadata": {},
   "outputs": [
    {
     "name": "stdout",
     "output_type": "stream",
     "text": [
      "The autoreload extension is already loaded. To reload it, use:\n",
      "  %reload_ext autoreload\n"
     ]
    }
   ],
   "source": [
    "# hide\n",
    "%load_ext autoreload\n",
    "%autoreload 2"
   ]
  },
  {
   "cell_type": "markdown",
   "metadata": {},
   "source": [
    "# Transforms\n",
    "> Utilities for image transforms."
   ]
  },
  {
   "cell_type": "code",
   "execution_count": null,
   "metadata": {},
   "outputs": [],
   "source": [
    "# hide\n",
    "from nbdev.showdoc import *"
   ]
  },
  {
   "cell_type": "code",
   "execution_count": null,
   "metadata": {},
   "outputs": [],
   "source": [
    "# export\n",
    "from albumentations import (RandomRotate90,\n",
    "                            Flip,\n",
    "                            Transpose,\n",
    "                            GridDistortion,\n",
    "                            RandomCrop,\n",
    "                            GaussianBlur,\n",
    "                            RandomGamma,\n",
    "                            RandomBrightnessContrast,\n",
    "                            HueSaturationValue,\n",
    "                            RGBShift,\n",
    "                            CenterCrop)"
   ]
  },
  {
   "cell_type": "code",
   "execution_count": null,
   "metadata": {},
   "outputs": [],
   "source": [
    "# export\n",
    "class DeterministicHSV(HueSaturationValue):\n",
    "    def __init__(self, num_els=1, **kwargs):\n",
    "        super().__init__(**kwargs)\n",
    "        self.always_apply = True\n",
    "        self.num_els = num_els\n",
    "        self.base_values = super().get_params()\n",
    "        self.max_values = {\"hue_shift\": self.hue_shift_limit,\n",
    "                           \"sat_shift\": self.sat_shift_limit,\n",
    "                           \"val_shift\": self.val_shift_limit}\n",
    "        self.n = 0\n",
    "        self.mult = np.random.randint(10000)\n",
    "\n",
    "    def get_params(self):\n",
    "        params = {}\n",
    "        for k, v in self.base_values.items():\n",
    "            v_min, v_max = self.max_values[k]\n",
    "            p = v + self.n * self.mult\n",
    "            p = (p - v_min) % (v_max - v_min) + v_min\n",
    "            params[k] = p\n",
    "        self.n += 1\n",
    "        self.n %= self.num_els\n",
    "        return params"
   ]
  },
  {
   "cell_type": "code",
   "execution_count": null,
   "metadata": {},
   "outputs": [],
   "source": [
    "# export\n",
    "class DeterministicBrightnessContrast(RandomBrightnessContrast):\n",
    "    def __init__(self, num_els=1, **kwargs):\n",
    "        super().__init__(**kwargs)\n",
    "        self.always_apply = True\n",
    "        self.num_els = num_els\n",
    "        self.base_values = super().get_params()\n",
    "        self.max_values = {\"alpha\": tuple(x + 1 for x in self.contrast_limit),\n",
    "                           \"beta\": self.brightness_limit}\n",
    "        self.n = 0\n",
    "        self.mult = np.random.randint(10000)    \n",
    "    \n",
    "    def get_params(self):\n",
    "        params = {}\n",
    "        for k, v in self.base_values.items():\n",
    "            v_min, v_max = self.max_values[k]\n",
    "            p = v + self.n * self.mult\n",
    "            p = (p - v_min) % (v_max - v_min) + v_min\n",
    "            params[k] = p\n",
    "        self.n += 1\n",
    "        self.n %= self.num_els\n",
    "        return params"
   ]
  },
  {
   "cell_type": "code",
   "execution_count": null,
   "metadata": {},
   "outputs": [],
   "source": [
    "# export\n",
    "def get_transforms1(size, num_els=1):\n",
    "    tfms = [RandomRotate90(),\n",
    "            Flip(),\n",
    "            Transpose(),\n",
    "            GridDistortion(distort_limit=0.05, p=0.2),\n",
    "            RandomGamma(p=0.2),\n",
    "            GaussianBlur(blur_limit=3, p=0.2),\n",
    "            RandomCrop(size, size)]\n",
    "    val_tfms = [CenterCrop(size, size)]\n",
    "    return tfms, val_tfms"
   ]
  },
  {
   "cell_type": "markdown",
   "metadata": {},
   "source": [
    "Return a tuple `(train_tfms, val_tfms)` containing transforms defined in [`albumentations`](https://albumentations.readthedocs.io) for training and validation.\n",
    "\n",
    "Transforms for training are :\n",
    "* [`RandomRotate90`](https://albumentations.readthedocs.io/en/latest/api/augmentations.html#albumentations.augmentations.transforms.RandomRotate90)\n",
    "* [`Flip`](https://albumentations.readthedocs.io/en/latest/api/augmentations.html#albumentations.augmentations.transforms.Flip)\n",
    "* [`Transpose`](https://albumentations.readthedocs.io/en/latest/api/augmentations.html#albumentations.augmentations.transforms.Transpose)\n",
    "* [`GridDistortion`](https://albumentations.readthedocs.io/en/latest/api/augmentations.html#albumentations.augmentations.transforms.GridDistortion)\n",
    "* [`RandomGamma`](https://albumentations.readthedocs.io/en/latest/api/augmentations.html#albumentations.augmentations.transforms.RandomGamma)\n",
    "* [`GaussianBlur`](https://albumentations.readthedocs.io/en/latest/api/augmentations.html#albumentations.augmentations.transforms.GaussianBlur)\n",
    "\n",
    "Both training and validation contain [`RandomCrop`](https://albumentations.readthedocs.io/en/latest/api/augmentations.html#albumentations.augmentations.transforms.RandomCrop)."
   ]
  },
  {
   "cell_type": "code",
   "execution_count": null,
   "metadata": {},
   "outputs": [],
   "source": [
    "# export\n",
    "def get_transforms2(size, num_els=1):\n",
    "    tfms = [RandomRotate90(),\n",
    "            Flip(),\n",
    "            Transpose(),\n",
    "            GridDistortion(distort_limit=0.05, p=0.2),\n",
    "            RandomGamma(p=0.2),\n",
    "            GaussianBlur(blur_limit=3, p=0.2),\n",
    "            RGBShift(0.15, 0.15, 0.15),\n",
    "            RandomCrop(size, size)]\n",
    "    val_tfms = [CenterCrop(size, size)]\n",
    "    return tfms, val_tfms"
   ]
  },
  {
   "cell_type": "code",
   "execution_count": null,
   "metadata": {},
   "outputs": [],
   "source": [
    "# export\n",
    "def get_transforms3(size, num_els=1):\n",
    "    tfms = [RandomRotate90(),\n",
    "            Flip(),\n",
    "            Transpose(),\n",
    "            GridDistortion(distort_limit=0.05, p=0.2),\n",
    "            RandomBrightnessContrast(p=0.7),\n",
    "            GaussianBlur(blur_limit=3, p=0.2),\n",
    "            RGBShift(0.2, 0.2, 0.2, p=0.8),\n",
    "            RandomCrop(size, size)]\n",
    "    val_tfms = [RandomBrightnessContrast(p=0.7),\n",
    "                RGBShift(0.2, 0.2, 0.2, p=0.7),\n",
    "                CenterCrop(size, size)]\n",
    "    return tfms, val_tfms"
   ]
  },
  {
   "cell_type": "code",
   "execution_count": null,
   "metadata": {},
   "outputs": [],
   "source": [
    "# export\n",
    "def get_transforms4(size, num_els=1):\n",
    "    tfms = [RandomRotate90(),\n",
    "            Flip(),\n",
    "            Transpose(),\n",
    "            GridDistortion(distort_limit=0.05, p=0.2),\n",
    "            RandomBrightnessContrast(0.1, 0.1, p=0.7),\n",
    "            GaussianBlur(blur_limit=3, p=0.2),\n",
    "            HueSaturationValue(30, 0., 0., p=0.8),\n",
    "            RandomCrop(size, size)]\n",
    "    val_tfms = [DeterministicBrightnessContrast(num_els=num_els, brightness_limit=0.1, contrast_limit=0.1),\n",
    "                DeterministicHSV(num_els=num_els, hue_shift_limit=30, sat_shift_limit=0., val_shift_limit=0.),\n",
    "                CenterCrop(size, size)]\n",
    "    return tfms, val_tfms"
   ]
  },
  {
   "cell_type": "code",
   "execution_count": null,
   "metadata": {},
   "outputs": [
    {
     "name": "stdout",
     "output_type": "stream",
     "text": [
      "Converted 00_core.ipynb.\n",
      "Converted 01_train.ipynb.\n",
      "Converted 02_predict.ipynb.\n",
      "Converted 10_data.read.ipynb.\n",
      "Converted 11_data.loaders.ipynb.\n",
      "Converted 12_data.dataset.ipynb.\n",
      "Converted 13_data.utils.ipynb.\n",
      "Converted 14_data.transforms.ipynb.\n",
      "Converted 20_models.plmodules.ipynb.\n",
      "Converted 21_models.modules.ipynb.\n",
      "Converted 22_models.utils.ipynb.\n",
      "Converted 23_models.hooks.ipynb.\n",
      "Converted 24_models.metrics.ipynb.\n",
      "Converted 25_models.losses.ipynb.\n",
      "Converted 80_params.defaults.ipynb.\n",
      "Converted 81_params.parser.ipynb.\n",
      "Converted 99_index.ipynb.\n"
     ]
    }
   ],
   "source": [
    "#hide\n",
    "from nbdev.export import notebook2script\n",
    "notebook2script()"
   ]
  },
  {
   "cell_type": "code",
   "execution_count": null,
   "metadata": {},
   "outputs": [],
   "source": []
  }
 ],
 "metadata": {
  "kernelspec": {
   "display_name": "Python [conda env:pytorch] *",
   "language": "python",
   "name": "conda-env-pytorch-py"
  }
 },
 "nbformat": 4,
 "nbformat_minor": 4
}
