{
 "cells": [
  {
   "cell_type": "code",
   "execution_count": null,
   "metadata": {},
   "outputs": [],
   "source": [
    "# default_exp data.transforms"
   ]
  },
  {
   "cell_type": "code",
   "execution_count": null,
   "metadata": {},
   "outputs": [
    {
     "name": "stdout",
     "output_type": "stream",
     "text": [
      "The autoreload extension is already loaded. To reload it, use:\n",
      "  %reload_ext autoreload\n"
     ]
    }
   ],
   "source": [
    "# hide\n",
    "%load_ext autoreload\n",
    "%autoreload 2"
   ]
  },
  {
   "cell_type": "markdown",
   "metadata": {},
   "source": [
    "# Transforms\n",
    "> Utilities for image transforms."
   ]
  },
  {
   "cell_type": "code",
   "execution_count": null,
   "metadata": {},
   "outputs": [],
   "source": [
    "# hide\n",
    "from nbdev.showdoc import *"
   ]
  },
  {
   "cell_type": "code",
   "execution_count": null,
   "metadata": {},
   "outputs": [],
   "source": [
    "# export\n",
    "from albumentations import (RandomRotate90,\n",
    "                            Flip,\n",
    "                            Transpose,\n",
    "                            GridDistortion,\n",
    "                            RandomCrop,\n",
    "                            GaussianBlur,\n",
    "                            RandomGamma,\n",
    "                            RandomBrightnessContrast,\n",
    "                            HueSaturationValue,\n",
    "                            RGBShift,\n",
    "                            CenterCrop)\n",
    "import albumentations.augmentations.functional as F\n",
    "from grade_classif.imports import *\n",
    "from math import floor"
   ]
  },
  {
   "cell_type": "code",
   "execution_count": null,
   "metadata": {},
   "outputs": [],
   "source": [
    "# export\n",
    "def _shift_hsv_non_uint8(img, hue_shift, sat_shift, val_shift):\n",
    "    dtype = img.dtype\n",
    "    img = cv2.cvtColor(img, cv2.COLOR_RGB2HSV)\n",
    "    hue, sat, val = cv2.split(img)\n",
    "    hue = cv2.add(hue, hue_shift)\n",
    "    hue = np.where(hue < 0, hue + 360, hue)\n",
    "    hue = np.where(hue > 360, hue - 360, hue)\n",
    "    hue = hue.astype(dtype)\n",
    "    sat = F.clip(sat + sat_shift * (sat > 0.1), dtype, 255 if dtype == np.uint8 else 1.0)\n",
    "    val = F.clip(val + val_shift * (sat > 0.1), dtype, 255 if dtype == np.uint8 else 1.0)\n",
    "    img = cv2.merge((hue, sat, val)).astype(dtype)\n",
    "    img = cv2.cvtColor(img, cv2.COLOR_HSV2RGB)\n",
    "    return img\n",
    "F._shift_hsv_non_uint8 = _shift_hsv_non_uint8"
   ]
  },
  {
   "cell_type": "code",
   "execution_count": null,
   "metadata": {},
   "outputs": [],
   "source": [
    "# export\n",
    "def _mod(x, y):\n",
    "    x -= floor(x / y) * y\n",
    "    return x"
   ]
  },
  {
   "cell_type": "code",
   "execution_count": null,
   "metadata": {},
   "outputs": [],
   "source": [
    "# export\n",
    "def _get_params(tfm):\n",
    "    params = {}\n",
    "    for k, v in tfm.base_values.items():\n",
    "        v_min, v_max = tfm.max_values[k]\n",
    "        if v_min == v_max:\n",
    "            params[k] = v_min\n",
    "        else:\n",
    "            p = v + tfm.n * tfm.mult\n",
    "            p = _mod(p - v_min, v_max - v_min) + v_min\n",
    "            params[k] = p\n",
    "    tfm.n += 1\n",
    "    tfm.n %= tfm.num_els\n",
    "    return params"
   ]
  },
  {
   "cell_type": "code",
   "execution_count": null,
   "metadata": {},
   "outputs": [],
   "source": [
    "# export\n",
    "def _init_attrs(tfm, num_els=1):\n",
    "    tfm.always_apply = True\n",
    "    tfm.num_els = num_els\n",
    "    tfm.p = 1\n",
    "    tfm.n = 0\n",
    "    tfm.mult = np.random.randint(10000)"
   ]
  },
  {
   "cell_type": "code",
   "execution_count": null,
   "metadata": {},
   "outputs": [],
   "source": [
    "# export\n",
    "class DeterministicHSV(HueSaturationValue):\n",
    "    def __init__(self, num_els=1, **kwargs):\n",
    "        super().__init__(**kwargs)\n",
    "        _init_attrs(self, num_els)\n",
    "        self.base_values = super().get_params()\n",
    "        self.max_values = {\"hue_shift\": self.hue_shift_limit,\n",
    "                           \"sat_shift\": self.sat_shift_limit,\n",
    "                           \"val_shift\": self.val_shift_limit}\n",
    "\n",
    "    def get_params(self):\n",
    "        return _get_params(self)"
   ]
  },
  {
   "cell_type": "code",
   "execution_count": null,
   "metadata": {},
   "outputs": [],
   "source": [
    "# export\n",
    "class DeterministicBrightnessContrast(RandomBrightnessContrast):\n",
    "    def __init__(self, num_els=1, **kwargs):\n",
    "        super().__init__(**kwargs)\n",
    "        _init_attrs(self,  num_els)\n",
    "        self.base_values = super().get_params()\n",
    "        self.max_values = {\"alpha\": tuple(x + 1 for x in self.contrast_limit),\n",
    "                           \"beta\": self.brightness_limit}  \n",
    "    \n",
    "    def get_params(self):\n",
    "        return _get_params(self)"
   ]
  },
  {
   "cell_type": "code",
   "execution_count": null,
   "metadata": {},
   "outputs": [],
   "source": [
    "# export\n",
    "class DeterministicGamma(RandomGamma):\n",
    "    def __init__(self, num_els=1, **kwargs):\n",
    "        super().__init__(**kwargs)\n",
    "        _init_attrs(self, num_els)\n",
    "        self.base_values = super().get_params()\n",
    "        self.max_values = {\"gamma\": tuple(x/100 for x in self.gamma_limit)}\n",
    "        \n",
    "    def get_params(self):\n",
    "        return _get_params(self)"
   ]
  },
  {
   "cell_type": "code",
   "execution_count": null,
   "metadata": {},
   "outputs": [],
   "source": [
    "# export\n",
    "class DeterministicRGBShift(RGBShift):\n",
    "    def __init__(self, num_els=1, **kwargs):\n",
    "        super().__init__(**kwargs)\n",
    "        _init_attrs(self, num_els)\n",
    "        self.base_values = super().get_params()\n",
    "        self.max_values = {\"r_shift\": self.r_shift_limit,\n",
    "                           \"g_shift\": self.g_shift_limit,\n",
    "                           \"b_shift\": self.b_shift_limit}\n",
    "\n",
    "    def get_params(self):\n",
    "        return _get_params(self)"
   ]
  },
  {
   "cell_type": "code",
   "execution_count": null,
   "metadata": {},
   "outputs": [],
   "source": [
    "# export\n",
    "def get_transforms1(size, num_els=1):\n",
    "    tfms = [RandomCrop(size, size),\n",
    "            RandomRotate90(),\n",
    "            Flip(),\n",
    "            Transpose(),\n",
    "            GridDistortion(distort_limit=0.05, p=0.2),\n",
    "            RandomGamma(p=0.2),\n",
    "            GaussianBlur(blur_limit=3, p=0.2)]\n",
    "    val_tfms = [CenterCrop(size, size)]\n",
    "    return tfms, val_tfms"
   ]
  },
  {
   "cell_type": "markdown",
   "metadata": {},
   "source": [
    "Return a tuple `(train_tfms, val_tfms)` containing transforms defined in [`albumentations`](https://albumentations.readthedocs.io) for training and validation.\n",
    "\n",
    "Transforms for training are :\n",
    "* [`RandomRotate90`](https://albumentations.readthedocs.io/en/latest/api/augmentations.html#albumentations.augmentations.transforms.RandomRotate90)\n",
    "* [`Flip`](https://albumentations.readthedocs.io/en/latest/api/augmentations.html#albumentations.augmentations.transforms.Flip)\n",
    "* [`Transpose`](https://albumentations.readthedocs.io/en/latest/api/augmentations.html#albumentations.augmentations.transforms.Transpose)\n",
    "* [`GridDistortion`](https://albumentations.readthedocs.io/en/latest/api/augmentations.html#albumentations.augmentations.transforms.GridDistortion)\n",
    "* [`RandomGamma`](https://albumentations.readthedocs.io/en/latest/api/augmentations.html#albumentations.augmentations.transforms.RandomGamma)\n",
    "* [`GaussianBlur`](https://albumentations.readthedocs.io/en/latest/api/augmentations.html#albumentations.augmentations.transforms.GaussianBlur)\n",
    "\n",
    "Both training and validation contain [`RandomCrop`](https://albumentations.readthedocs.io/en/latest/api/augmentations.html#albumentations.augmentations.transforms.RandomCrop)."
   ]
  },
  {
   "cell_type": "code",
   "execution_count": null,
   "metadata": {},
   "outputs": [],
   "source": [
    "# export\n",
    "def get_transforms2(size, num_els=1):\n",
    "    tfms = [RandomCrop(size, size),\n",
    "            RandomRotate90(),\n",
    "            Flip(),\n",
    "            Transpose(),\n",
    "            GridDistortion(distort_limit=0.05, p=0.2),\n",
    "            RandomGamma(p=0.2),\n",
    "            GaussianBlur(blur_limit=3, p=0.2),\n",
    "            RGBShift(0.15, 0.15, 0.15)]\n",
    "    val_tfms = [CenterCrop(size, size)]\n",
    "    return tfms, val_tfms"
   ]
  },
  {
   "cell_type": "code",
   "execution_count": null,
   "metadata": {},
   "outputs": [],
   "source": [
    "# export\n",
    "def get_transforms3(size, num_els=1):\n",
    "    tfms = [RandomCrop(size, size),\n",
    "            RandomRotate90(),\n",
    "            Flip(),\n",
    "            Transpose(),\n",
    "            GridDistortion(distort_limit=0.05, p=0.2),\n",
    "            RandomBrightnessContrast(p=0.7),\n",
    "            GaussianBlur(blur_limit=3, p=0.2),\n",
    "            RGBShift(0.2, 0.2, 0.2, p=0.8)]\n",
    "    val_tfms = [CenterCrop(size, size),\n",
    "                DeterministicBrightnessContrast(num_els=num_els),\n",
    "                DeterministicRGBShift(num_els=num_els, r_shift_limit=0.2, g_shift_limit=0.2, b_shift_limit=0.2)]\n",
    "    return tfms, val_tfms"
   ]
  },
  {
   "cell_type": "code",
   "execution_count": null,
   "metadata": {},
   "outputs": [],
   "source": [
    "# export\n",
    "def get_transforms4(size, num_els=1):\n",
    "    tfms = [RandomCrop(size, size),\n",
    "            RandomRotate90(),\n",
    "            Flip(),\n",
    "            Transpose(),\n",
    "            GridDistortion(distort_limit=0.05, p=0.2),\n",
    "            #RandomBrightnessContrast(0.2, 0., p=0.2),\n",
    "            GaussianBlur(blur_limit=3, p=0.2),\n",
    "            RandomGamma(gamma_limit=(40, 160), p=1),\n",
    "            HueSaturationValue(40, .1, .15, p=1)]\n",
    "    val_tfms = [CenterCrop(size, size),\n",
    "                DeterministicGamma(num_els=num_els, gamma_limit=(40, 160)),\n",
    "                #DeterministicBrightnessContrast(num_els=num_els, brightness_limit=0.2, contrast_limit=0.),\n",
    "                DeterministicHSV(num_els=num_els, hue_shift_limit=40, sat_shift_limit=.1, val_shift_limit=.15)]\n",
    "    return tfms, val_tfms"
   ]
  },
  {
   "cell_type": "code",
   "execution_count": null,
   "metadata": {},
   "outputs": [
    {
     "name": "stdout",
     "output_type": "stream",
     "text": [
      "Converted 00_core.ipynb.\n",
      "Converted 01_train.ipynb.\n",
      "Converted 02_predict.ipynb.\n",
      "Converted 10_data.read.ipynb.\n",
      "Converted 11_data.loaders.ipynb.\n",
      "Converted 12_data.dataset.ipynb.\n",
      "Converted 13_data.utils.ipynb.\n",
      "Converted 14_data.transforms.ipynb.\n",
      "Converted 20_models.plmodules.ipynb.\n",
      "Converted 21_models.modules.ipynb.\n",
      "Converted 22_models.utils.ipynb.\n",
      "Converted 23_models.hooks.ipynb.\n",
      "Converted 24_models.metrics.ipynb.\n",
      "Converted 25_models.losses.ipynb.\n",
      "Converted 80_params.defaults.ipynb.\n",
      "Converted 81_params.parser.ipynb.\n",
      "Converted 99_index.ipynb.\n"
     ]
    }
   ],
   "source": [
    "#hide\n",
    "from nbdev.export import notebook2script\n",
    "notebook2script()"
   ]
  },
  {
   "cell_type": "code",
   "execution_count": null,
   "metadata": {},
   "outputs": [],
   "source": []
  }
 ],
 "metadata": {
  "kernelspec": {
   "display_name": "Python [conda env:pytorch] *",
   "language": "python",
   "name": "conda-env-pytorch-py"
  }
 },
 "nbformat": 4,
 "nbformat_minor": 4
}
