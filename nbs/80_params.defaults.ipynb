{
 "cells": [
  {
   "cell_type": "code",
   "execution_count": null,
   "metadata": {},
   "outputs": [],
   "source": [
    "# default_exp params.defaults"
   ]
  },
  {
   "cell_type": "code",
   "execution_count": null,
   "metadata": {},
   "outputs": [],
   "source": [
    "# hide\n",
    "%load_ext autoreload\n",
    "%autoreload 2"
   ]
  },
  {
   "cell_type": "code",
   "execution_count": null,
   "metadata": {},
   "outputs": [],
   "source": [
    "# hide\n",
    "from nbdev.showdoc import *"
   ]
  },
  {
   "cell_type": "code",
   "execution_count": null,
   "metadata": {},
   "outputs": [],
   "source": [
    "#export\n",
    "from grade_classif.imports import *"
   ]
  },
  {
   "cell_type": "code",
   "execution_count": null,
   "metadata": {},
   "outputs": [],
   "source": [
    "# export\n",
    "PROJECT = Path('/home/DeepLearning/grade_classif')\n",
    "_PROJECT = Path('/work/stages/schwob/grade_classif')\n",
    "CSVS = PROJECT/'csvs'\n",
    "LEVEL = 1\n",
    "FULL_DATA = Path(f'/data/DeepLearning/SCHWOB_Robin/Patches_256')\n",
    "_FULL_DATA = Path(f'/work/stages/schwob/Patches_256')\n",
    "DATA = FULL_DATA/f'Patches_MGI_256_{LEVEL}'\n",
    "DATA_CSV = CSVS/f'scans.csv'\n",
    "MODELS = Path('/data/DeepLearning/SCHWOB_Robin/models/logs')\n",
    "_MODELS = PROJECT/'models/logs'\n",
    "NORM_CSV = CSVS/'categories.csv'\n",
    "CONCEPTS = CSVS/f'concepts_{LEVEL}.csv'\n",
    "_CONCEPTS = None\n",
    "CONCEPT_CLASSES = CSVS/'concept_classes.csv'\n",
    "_CONCEPT_CLASSES = None\n",
    "MODEL = 'resnet18'\n",
    "GPUS = [0]\n",
    "SIZE = 224\n",
    "BATCH_SIZE = 64\n",
    "LOSS = 'cross-entropy'\n",
    "SCHED = 'one-cycle'\n",
    "REDUCTION = 'mean'\n",
    "EPOCHS = 50\n",
    "DROPOUT= 0.5\n",
    "LR = 1e-3\n",
    "WD = 0.01\n",
    "WEIGHT = 10.\n",
    "NORMALIZER = None\n",
    "NORM_VERSION = 11\n",
    "NORM_VERSIONS = [0, 0, 0, 0]\n",
    "PRED_LEVELS = [1, 3, 5, 7]\n",
    "VERSIONS = [0, 0, 0, 0]\n",
    "SCAN = None\n",
    "FILT = 'K'"
   ]
  },
  {
   "cell_type": "code",
   "execution_count": null,
   "metadata": {},
   "outputs": [
    {
     "name": "stdout",
     "output_type": "stream",
     "text": [
      "Converted 00_core.ipynb.\n",
      "Converted 01_train.ipynb.\n",
      "Converted 02_predict.ipynb.\n",
      "Converted 10_data.read.ipynb.\n",
      "Converted 11_data.loaders.ipynb.\n",
      "Converted 12_data.dataset.ipynb.\n",
      "Converted 13_data.utils.ipynb.\n",
      "Converted 14_data.transforms.ipynb.\n",
      "Converted 20_models.plmodules.ipynb.\n",
      "Converted 21_models.modules.ipynb.\n",
      "Converted 22_models.utils.ipynb.\n",
      "Converted 23_models.hooks.ipynb.\n",
      "Converted 24_models.metrics.ipynb.\n",
      "Converted 25_models.losses.ipynb.\n",
      "Converted 80_params.defaults.ipynb.\n",
      "Converted 81_params.parser.ipynb.\n",
      "Converted 99_index.ipynb.\n"
     ]
    }
   ],
   "source": [
    "#hide\n",
    "from nbdev.export import notebook2script\n",
    "notebook2script()"
   ]
  },
  {
   "cell_type": "code",
   "execution_count": null,
   "metadata": {},
   "outputs": [],
   "source": []
  }
 ],
 "metadata": {
  "kernelspec": {
   "display_name": "Python [conda env:pytorch] *",
   "language": "python",
   "name": "conda-env-pytorch-py"
  }
 },
 "nbformat": 4,
 "nbformat_minor": 4
}
