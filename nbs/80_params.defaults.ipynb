{
 "cells": [
  {
   "cell_type": "code",
   "execution_count": null,
   "metadata": {},
   "outputs": [],
   "source": [
    "# default_exp params.defaults"
   ]
  },
  {
   "cell_type": "code",
   "execution_count": null,
   "metadata": {},
   "outputs": [],
   "source": [
    "# hide\n",
    "%load_ext autoreload\n",
    "%autoreload 2"
   ]
  },
  {
   "cell_type": "code",
   "execution_count": null,
   "metadata": {},
   "outputs": [],
   "source": [
    "# hide\n",
    "from nbdev.showdoc import *"
   ]
  },
  {
   "cell_type": "code",
   "execution_count": null,
   "metadata": {},
   "outputs": [],
   "source": [
    "#export\n",
    "from pathlib import Path"
   ]
  },
  {
   "cell_type": "code",
   "execution_count": null,
   "metadata": {},
   "outputs": [],
   "source": [
    "# export\n",
    "PROJECT = Path('/home/DeepLearning/grade_classif')\n",
    "_PROJECT = Path('/work/stages/schwob/grade_classif')\n",
    "CSVS = PROJECT/'csvs'\n",
    "LEVEL = 1\n",
    "DATA = FULL_DATA/f'Patches_1024_{LEVEL}'\n",
    "DATA_CSV = CSVS/f'scans.csv'\n",
    "MODELS = Path('/data/DeepLearning/SCHWOB_Robin/models/logs')\n",
    "COORD_CSV = DATA/'coords.csv'\n",
    "_MODELS = PROJECT/'models/logs'\n",
    "_PATCH_CLASSES = DATA/'patch_classes.csv'\n",
    "PATCH_CLASSES = None\n",
    "OPEN_MODE = 'RGB'\n",
    "SAMPLE_MODE = 1\n",
    "MODEL = 'cbr_3_32_4'\n",
    "GPUS = [1]\n",
    "SIZE = 299\n",
    "BATCH_SIZE = 64\n",
    "LOSS = 'cross-entropy'\n",
    "SCHED = 'one-cycle'\n",
    "REDUCTION = 'mean'\n",
    "EPOCHS = 5\n",
    "DROPOUT= 0.5\n",
    "LR = 1e-3\n",
    "WD = 0.01\n",
    "WEIGHT = 2.\n",
    "NORMALIZER = None\n",
    "PRED_LEVELS = [1]\n",
    "SCAN = None\n",
    "FILT = None\n",
    "TRANSFORMS = 1\n",
    "RESUME = None\n",
    "TRAIN_PERCENT = 1.\n",
    "TOPK = 5"
   ]
  },
  {
   "cell_type": "code",
   "execution_count": null,
   "metadata": {},
   "outputs": [
    {
     "name": "stdout",
     "output_type": "stream",
     "text": [
      "Converted 00_core.ipynb.\n",
      "Converted 01_train.ipynb.\n",
      "Converted 02_predict.ipynb.\n",
      "Converted 10_data.read.ipynb.\n",
      "Converted 11_data.loaders.ipynb.\n",
      "Converted 12_data.dataset.ipynb.\n",
      "Converted 13_data.utils.ipynb.\n",
      "Converted 14_data.transforms.ipynb.\n",
      "Converted 15_data.color.ipynb.\n",
      "Converted 20_models.plmodules.ipynb.\n",
      "Converted 21_models.modules.ipynb.\n",
      "Converted 22_models.utils.ipynb.\n",
      "Converted 23_models.hooks.ipynb.\n",
      "Converted 24_models.metrics.ipynb.\n",
      "Converted 25_models.losses.ipynb.\n",
      "Converted 80_params.defaults.ipynb.\n",
      "Converted 81_params.parser.ipynb.\n",
      "Converted 99_index.ipynb.\n"
     ]
    }
   ],
   "source": [
    "#hide\n",
    "from nbdev.export import notebook2script\n",
    "notebook2script()"
   ]
  },
  {
   "cell_type": "code",
   "execution_count": null,
   "metadata": {},
   "outputs": [],
   "source": []
  }
 ],
 "metadata": {
  "kernelspec": {
   "display_name": "Python [conda env:pytorch] *",
   "language": "python",
   "name": "conda-env-pytorch-py"
  }
 },
 "nbformat": 4,
 "nbformat_minor": 4
}
