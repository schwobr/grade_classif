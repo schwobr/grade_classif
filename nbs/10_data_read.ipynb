{
 "cells": [
  {
   "cell_type": "code",
   "execution_count": null,
   "metadata": {},
   "outputs": [],
   "source": [
    "# default_exp data.read"
   ]
  },
  {
   "cell_type": "code",
   "execution_count": null,
   "metadata": {},
   "outputs": [],
   "source": [
    "from nbdev.showdoc import *"
   ]
  },
  {
   "cell_type": "code",
   "execution_count": null,
   "metadata": {},
   "outputs": [],
   "source": [
    "# export\n",
    "from grade_classif.core import ifnone"
   ]
  },
  {
   "cell_type": "code",
   "execution_count": null,
   "metadata": {},
   "outputs": [],
   "source": [
    "# export\n",
    "def _check_include(obj, include):\n",
    "    return include is None or obj.name in include"
   ]
  },
  {
   "cell_type": "code",
   "execution_count": null,
   "metadata": {},
   "outputs": [],
   "source": [
    "# export\n",
    "def _check_exclude(obj, exclude):\n",
    "    return exclude is None or obj.name not in exclude"
   ]
  },
  {
   "cell_type": "code",
   "execution_count": null,
   "metadata": {},
   "outputs": [],
   "source": [
    "# export\n",
    "def _check_valid(obj, include, exclude):\n",
    "    return _check_include(obj, include) and _check_exclude(obj, exclude) and not obj.name.startswith('.')"
   ]
  },
  {
   "cell_type": "code",
   "execution_count": null,
   "metadata": {},
   "outputs": [],
   "source": [
    "# export\n",
    "def get_items(folder, label_func, recurse=True, extensions=None, include=None, exclude=None, filterfunc=None):\n",
    "    items = []\n",
    "    labels = []\n",
    "    filterfunc = ifnone(filterfunc, lambda x: True)    \n",
    "    for obj in folder.iterdir():\n",
    "        if obj.is_file():\n",
    "            if extensions is None or obj.suffix in extensions and filterfunc(obj):\n",
    "                items.append(obj)\n",
    "                labels.append(label_func(obj))\n",
    "        elif recurse and _check_valid(obj, include, exclude):\n",
    "            items_r, labels_r = get_items(obj, label_func, extensions=extensions, filterfunc=filterfunc)\n",
    "            items += items_r\n",
    "            labels += labels_r\n",
    "    return items, labels"
   ]
  },
  {
   "cell_type": "code",
   "execution_count": null,
   "metadata": {},
   "outputs": [],
   "source": [
    "#hide\n",
    "from nbdev.export import notebook2script\n",
    "notebook2script()"
   ]
  },
  {
   "cell_type": "code",
   "execution_count": null,
   "metadata": {},
   "outputs": [],
   "source": []
  }
 ],
 "metadata": {
  "kernelspec": {
   "display_name": "Python [conda env:pytorch] *",
   "language": "python",
   "name": "conda-env-pytorch-py"
  }
 },
 "nbformat": 4,
 "nbformat_minor": 4
}
