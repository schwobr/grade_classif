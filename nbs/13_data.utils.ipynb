{
 "cells": [
  {
   "cell_type": "code",
   "execution_count": null,
   "metadata": {},
   "outputs": [],
   "source": [
    "# default_exp data.utils"
   ]
  },
  {
   "cell_type": "code",
   "execution_count": null,
   "metadata": {},
   "outputs": [],
   "source": [
    "%load_ext autoreload\n",
    "%autoreload 2"
   ]
  },
  {
   "cell_type": "code",
   "execution_count": null,
   "metadata": {},
   "outputs": [],
   "source": [
    "# hide\n",
    "from nbdev.showdoc import *"
   ]
  },
  {
   "cell_type": "code",
   "execution_count": null,
   "metadata": {},
   "outputs": [],
   "source": [
    "# export\n",
    "import matplotlib.pyplot as plt\n",
    "import torch\n",
    "from grade_classif.data.loaders import ImageLoader"
   ]
  },
  {
   "cell_type": "code",
   "execution_count": null,
   "metadata": {},
   "outputs": [],
   "source": [
    "# export\n",
    "def np_to_tensor(x, tensor_type):\n",
    "    if tensor_type == 'image':\n",
    "        x = x.transpose(2, 0, 1)\n",
    "    x = torch.tensor(x)\n",
    "    return x"
   ]
  },
  {
   "cell_type": "code",
   "execution_count": null,
   "metadata": {},
   "outputs": [],
   "source": [
    "# export\n",
    "def show_img(x, ax=None, figsize=(3,3), title=None, hide_axis=True, cmap='viridis', alpha=None, **kwargs):\n",
    "    if ax is None: fig,ax = plt.subplots(figsize=figsize)\n",
    "    xtr = dict(cmap=cmap, alpha=alpha, **kwargs)\n",
    "    ax.imshow(x, **xtr)\n",
    "    if hide_axis: ax.axis('off')\n",
    "    if title: ax.set_title(title)\n",
    "    return ax    "
   ]
  },
  {
   "cell_type": "code",
   "execution_count": null,
   "metadata": {},
   "outputs": [],
   "source": [
    "# export\n",
    "def load_batches(folder, bs=16, device='cpu'):\n",
    "    x = []\n",
    "    image_loader = ImageLoader('3G')\n",
    "    for fn in folder.iterdir():\n",
    "        if len(batch) < batch_size:\n",
    "            img = image_loader(fn)\n",
    "            img = np_to_tensor(img).to(device)\n",
    "            x.append(img)\n",
    "        else:\n",
    "            yield torch.stack(x)\n",
    "            x = []"
   ]
  },
  {
   "cell_type": "code",
   "execution_count": null,
   "metadata": {},
   "outputs": [
    {
     "name": "stdout",
     "output_type": "stream",
     "text": [
      "Converted 00_core.ipynb.\n",
      "Converted 01_train.ipynb.\n",
      "Converted 02_predict.ipynb.\n",
      "Converted 10_data_read.ipynb.\n",
      "Converted 11_data_loaders.ipynb.\n",
      "Converted 12_data_dataset.ipynb.\n",
      "Converted 13_data_utils.ipynb.\n",
      "Converted 14_data_transforms.ipynb.\n",
      "Converted 20_models_pl_modules.ipynb.\n",
      "Converted 21_models_modules.ipynb.\n",
      "Converted 22_models_utils.ipynb.\n",
      "Converted 23_models_hooks.ipynb.\n",
      "Converted 80_params_defaults.ipynb.\n",
      "Converted 81_params_norm.ipynb.\n",
      "Converted 82_params_classif.ipynb.\n",
      "Converted 83_params_predict.ipynb.\n",
      "Converted 99_index.ipynb.\n"
     ]
    }
   ],
   "source": [
    "#hide\n",
    "from nbdev.export import notebook2script\n",
    "notebook2script()"
   ]
  },
  {
   "cell_type": "code",
   "execution_count": null,
   "metadata": {},
   "outputs": [],
   "source": []
  }
 ],
 "metadata": {
  "kernelspec": {
   "display_name": "Python [conda env:pytorch] *",
   "language": "python",
   "name": "conda-env-pytorch-py"
  }
 },
 "nbformat": 4,
 "nbformat_minor": 4
}
