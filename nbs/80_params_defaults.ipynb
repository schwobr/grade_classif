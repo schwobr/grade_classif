{
 "cells": [
  {
   "cell_type": "code",
   "execution_count": null,
   "metadata": {},
   "outputs": [],
   "source": [
    "# default_exp params.defaults"
   ]
  },
  {
   "cell_type": "code",
   "execution_count": null,
   "metadata": {},
   "outputs": [],
   "source": [
    "# hide\n",
    "from nbdev.showdoc import *"
   ]
  },
  {
   "cell_type": "code",
   "execution_count": null,
   "metadata": {},
   "outputs": [],
   "source": [
    "#export\n",
    "from pathlib import Path"
   ]
  },
  {
   "cell_type": "code",
   "execution_count": null,
   "metadata": {},
   "outputs": [],
   "source": [
    "# export\n",
    "PROJECT = Path('/home/DeepLearning/grades_classif')\n",
    "_PROJECT = Path('/work/stages/schwob/grades_classif')\n",
    "LEVEL = 3\n",
    "FULL_DATA = Path(f'/data/DeepLearning/SCHWOB_Robin/Patches_256')\n",
    "_FULL_DATA = Path(f'/work/stages/schwob/Patches_256')\n",
    "DATA = FULL_DATA/f'Patches_MGI_256_{LEVEL}'\n",
    "DATA_CSV = FULL_DATA/f'scans.csv'\n",
    "MODELS = Path('/data/DeepLearning/SCHWOB_Robin/models/logs')\n",
    "_MODELS = PROJECT/'models/logs'\n",
    "NORM_CSV = PROJECT/'categories.csv'\n",
    "MODEL = 'resnet34'\n",
    "GPUS = [0]\n",
    "SIZE = 224\n",
    "BATCH_SIZE = 16\n",
    "LOSS = 'cross-entropy'\n",
    "SCHED = 'one-cycle'\n",
    "REDUCTION = 'mean'\n",
    "EPOCHS = 50\n",
    "DROPOUT= 0.5\n",
    "LR = 1e-3\n",
    "WD = 0.01\n",
    "WEIGHT = 1.\n",
    "NORMALIZER = None\n",
    "NORM_VERSION = 11\n",
    "NORM_VERSIONS = [0, 0, 0, 0]\n",
    "PRED_LEVELS = [1, 3, 5, 7]\n",
    "VERSIONS = [0, 0, 0, 0]\n",
    "SCAN = None"
   ]
  },
  {
   "cell_type": "code",
   "execution_count": null,
   "metadata": {},
   "outputs": [
    {
     "name": "stdout",
     "output_type": "stream",
     "text": [
      "Converted 00_core.ipynb.\n",
      "Converted 01_train.ipynb.\n",
      "Converted 02_predict.ipynb.\n",
      "Converted 10_data_read.ipynb.\n",
      "Converted 11_data_loaders.ipynb.\n",
      "Converted 12_data_dataset.ipynb.\n",
      "Converted 13_data_utils.ipynb.\n",
      "Converted 14_data_transforms.ipynb.\n",
      "Converted 20_models_pl_modules.ipynb.\n",
      "Converted 21_models_modules.ipynb.\n",
      "Converted 22_models_utils.ipynb.\n",
      "Converted 23_models_hooks.ipynb.\n",
      "Converted 24_models_metrics.ipynb.\n",
      "Converted 80_params_defaults.ipynb.\n",
      "Converted 81_params_norm.ipynb.\n",
      "Converted 82_params_classif.ipynb.\n",
      "Converted 83_params_predict.ipynb.\n",
      "Converted 99_index.ipynb.\n"
     ]
    }
   ],
   "source": [
    "#hide\n",
    "from nbdev.export import notebook2script\n",
    "notebook2script()"
   ]
  },
  {
   "cell_type": "code",
   "execution_count": null,
   "metadata": {},
   "outputs": [],
   "source": []
  }
 ],
 "metadata": {
  "kernelspec": {
   "display_name": "Python [conda env:pytorch] *",
   "language": "python",
   "name": "conda-env-pytorch-py"
  }
 },
 "nbformat": 4,
 "nbformat_minor": 4
}
