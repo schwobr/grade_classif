{
 "cells": [
  {
   "cell_type": "code",
   "execution_count": null,
   "metadata": {},
   "outputs": [],
   "source": [
    "# default_exp view_seg"
   ]
  },
  {
   "cell_type": "code",
   "execution_count": null,
   "metadata": {},
   "outputs": [],
   "source": [
    "# export\n",
    "import openslide\n",
    "from pathlib import Path\n",
    "import pickle\n",
    "import json\n",
    "import pandas as pd\n",
    "import numpy as np\n",
    "import matplotlib.pyplot as plt\n",
    "from argparse import ArgumentParser\n",
    "import PIL.Image as Image"
   ]
  },
  {
   "cell_type": "code",
   "execution_count": null,
   "metadata": {},
   "outputs": [],
   "source": [
    "# export\n",
    "SEG_DATA = Path('/data/DeepLearning/SCHWOB_Robin/Seg_outputs_iter_3')\n",
    "IMG_DATA = Path('/data/DeepLearning/SCHWOB_Robin/Patches_normalized_299/Patches_normalized_299_1')\n",
    "GRADE = '1'\n",
    "SCAN = 'CF_PACS05HE_15008-33373'\n",
    "ITER = 3\n",
    "SCAN_PATH = IMG_DATA/GRADE/SCAN\n",
    "_SEGMENT_CSV = SEG_DATA/'Segmentation'/f'iter_{ITER}'/GRADE/f'{SCAN}.csv'\n",
    "SEGMENT_CSV = SEG_DATA/'Segmentation'/GRADE/f'{SCAN}.csv'\n",
    "_GRAPH_PATH = SEG_DATA/f'Tree/iter_{ITER}/most_significant_tree.p'\n",
    "GRAPH_PATH = SEG_DATA/f'Tree_1/most_significant_tree_final.p'\n",
    "_SEGMENT_STACK = SEG_DATA/f'Segmentation/iter_{ITER}/segment_stack.csv'\n",
    "SEGMENT_STACK = SEG_DATA/f'Segmentation/segment_stack.csv'\n",
    "OUTFOLDER = IMG_DATA/'Segmentation'"
   ]
  },
  {
   "cell_type": "code",
   "execution_count": null,
   "metadata": {},
   "outputs": [
    {
     "data": {
      "text/plain": [
       "_StoreAction(option_strings=['--outfolder'], dest='outfolder', nargs=None, const=None, default=PosixPath('/data/DeepLearning/SCHWOB_Robin/Patches_normalized_299/Patches_normalized_299_1/Segmentation'), type=<class 'pathlib.Path'>, choices=None, help='Folder to store segments in', metavar=None)"
      ]
     },
     "execution_count": null,
     "metadata": {},
     "output_type": "execute_result"
    }
   ],
   "source": [
    "# export\n",
    "parser = ArgumentParser()\n",
    "parser.add_argument('--file', '-f', help='notebook convenience')\n",
    "parser.add_argument('--HistoryManager.hist_file', help='nbconvert convenience')\n",
    "parser.add_argument('--seg-data', default=SEG_DATA, type=Path, help='Path to clustering output folder')\n",
    "parser.add_argument('--img-data', default=IMG_DATA, type=Path, help='Path to image folder')\n",
    "parser.add_argument('--iter', default=ITER, type=int, help='Iteration to load clustering info from')\n",
    "parser.add_argument('--outfolder', default=OUTFOLDER, type=Path, help='Folder to store segments in')"
   ]
  },
  {
   "cell_type": "code",
   "execution_count": null,
   "metadata": {},
   "outputs": [],
   "source": [
    "# export\n",
    "args = parser.parse_args()"
   ]
  },
  {
   "cell_type": "code",
   "execution_count": null,
   "metadata": {},
   "outputs": [],
   "source": [
    "# export\n",
    "segment_stack = args.seg_data/f'Segmentation/segment_stack.csv'\n",
    "df = pd.read_csv(segment_stack)"
   ]
  },
  {
   "cell_type": "code",
   "execution_count": null,
   "metadata": {},
   "outputs": [],
   "source": [
    "# export\n",
    "graph_path = args.seg_data/f'Tree_1/most_significant_tree_final.p'\n",
    "with graph_path.open('rb') as f:\n",
    "    tree = pickle.load(f)"
   ]
  },
  {
   "cell_type": "code",
   "execution_count": null,
   "metadata": {},
   "outputs": [],
   "source": [
    "# export\n",
    "concepts = [10551, 10554, 12192, 12251, 12615, 10669, 10682, 14543]"
   ]
  },
  {
   "cell_type": "code",
   "execution_count": null,
   "metadata": {},
   "outputs": [],
   "source": [
    "# export\n",
    "centroids = np.stack([tree.descriptor[k] for k in concepts])"
   ]
  },
  {
   "cell_type": "code",
   "execution_count": null,
   "metadata": {},
   "outputs": [],
   "source": [
    "# export\n",
    "classes = {'K': [10551], 'K_impur': [10554, 12192], 'Sain': [12251, 12615, 10669], 'Sain_impur': [10682], 'Trash': [14543]}\n",
    "concept2classes = {conc: cl for cl in classes for conc in classes[cl]}"
   ]
  },
  {
   "cell_type": "code",
   "execution_count": null,
   "metadata": {},
   "outputs": [],
   "source": [
    "# export\n",
    "class2color = {'K': [255, 0, 0], 'K_impur': [255, 0, 255], 'Sain': [0, 255, 0], 'Sain_impur': [0, 0, 255], 'Trash':[150, 150, 150]}\n",
    "colors = [class2color[concept2classes[conc]] for conc in concepts]\n",
    "colors = np.array(colors, dtype=np.uint8)"
   ]
  },
  {
   "cell_type": "code",
   "execution_count": null,
   "metadata": {},
   "outputs": [
    {
     "data": {
      "text/plain": [
       "array([[255,   0,   0],\n",
       "       [255,   0, 255],\n",
       "       [255,   0, 255],\n",
       "       [  0, 255,   0],\n",
       "       [  0, 255,   0],\n",
       "       [  0, 255,   0],\n",
       "       [  0,   0, 255],\n",
       "       [150, 150, 150]], dtype=uint8)"
      ]
     },
     "execution_count": null,
     "metadata": {},
     "output_type": "execute_result"
    }
   ],
   "source": [
    "colors"
   ]
  },
  {
   "cell_type": "code",
   "execution_count": null,
   "metadata": {},
   "outputs": [
    {
     "name": "stdout",
     "output_type": "stream",
     "text": [
      "CF_PACS04rescan_08P0124\n",
      "CF_PACS04rescan_06P1204\n",
      "CF_PACS04rescan_07P0211\n",
      "CF_PACS04rescan_07P0252\n",
      "CF_PACS04rescan_06P157\n",
      "CF_PACS04rescan_06P0519\n",
      "CF_PACS04rescan_06P0859\n",
      "CF_PACS05HE_04074-133197\n",
      "CF_PACS05HE_08009-A02.3597III1\n",
      "CF_PACS05HE_12043-372424-8A\n",
      "CF_PACS05HE_01002-779160\n",
      "CF_PACS05HE_18010-04P06509\n",
      "CF_PACS05HE_15008-33373\n",
      "CF_PACS08rescan_364-09C2531\n",
      "CF_PACS08rescan_329-11C2113\n",
      "CF_PACS04rescan_06P200\n",
      "CF_PACS04rescan_06P282\n",
      "CF_PACS04rescan_06P0976\n",
      "CF_PACS04rescan_06P0830\n",
      "CF_PACS04rescan_07P0018\n",
      "CF_PACS05HE_30017-04.4143.2C\n",
      "CF_PACS05HE_02006-03.1861.02.01\n",
      "CF_PACS05HE_01029-200400\n",
      "CF_PACS05HE_07006-GG189T\n",
      "CF_PACS05HE_02008-03.3186.02.02\n",
      "CF_PACS08rescan_021-08C5067\n",
      "CF_PACS08rescan_397-10C0646\n",
      "CF_PACS08rescan_414-10C0998\n",
      "CF_PACS08rescan_228-09C3830\n",
      "CF_PACS08rescan_431-10C1066\n"
     ]
    }
   ],
   "source": [
    "# export\n",
    "for grade_fold in args.img_data.iterdir():\n",
    "    if not grade_fold.is_dir():\n",
    "        continue\n",
    "    grade = grade_fold.name\n",
    "    for scan_fold in grade_fold.iterdir():\n",
    "        if not scan_fold.is_dir():\n",
    "            continue\n",
    "        scan_name = scan_fold.name\n",
    "        print(scan_name)\n",
    "        sub_df = df.loc[df['Slidename'] == scan_name]\n",
    "        features = sub_df.values[:, 3:].astype(np.float32)\n",
    "        result = np.argmin(((features[None] - centroids[:, None])**2).sum(-1), axis=0)\n",
    "        \n",
    "        segment_csv = args.seg_data/'Segmentation'/grade/f'{scan_name}.csv'\n",
    "        scan_df = pd.read_csv(segment_csv, usecols=(0, 1, 2))\n",
    "        segment = np.zeros((scan_df['YPosition'].max() // 299 + 1, scan_df['XPosition'].max() // 299 + 1, 3), dtype=np.uint8)\n",
    "        for _, row in scan_df.iterrows():\n",
    "            segment[row.YPosition//299, row.XPosition//299] = colors[result[row.Label]]\n",
    "        outfile = args.outfolder/grade/f'{scan_name}.npy'\n",
    "        if not outfile.parent.is_dir():\n",
    "            outfile.parent.mkdir(parents=True)\n",
    "        np.save(outfile, segment)\n",
    "        segment = Image.fromarray(segment)\n",
    "        segment.save(outfile.with_suffix('.png'))"
   ]
  },
  {
   "cell_type": "code",
   "execution_count": null,
   "metadata": {},
   "outputs": [
    {
     "name": "stdout",
     "output_type": "stream",
     "text": [
      "Converted _view_seg.ipynb.\n"
     ]
    }
   ],
   "source": [
    "#hide\n",
    "from nbdev.export import notebook2script\n",
    "notebook2script(fname='_view_seg.ipynb')"
   ]
  },
  {
   "cell_type": "code",
   "execution_count": null,
   "metadata": {},
   "outputs": [],
   "source": []
  }
 ],
 "metadata": {
  "kernelspec": {
   "display_name": "Python [conda env:pytorch] *",
   "language": "python",
   "name": "conda-env-pytorch-py"
  }
 },
 "nbformat": 4,
 "nbformat_minor": 4
}
