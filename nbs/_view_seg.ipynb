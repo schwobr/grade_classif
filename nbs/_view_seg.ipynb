{
 "cells": [
  {
   "cell_type": "code",
   "execution_count": null,
   "metadata": {},
   "outputs": [],
   "source": [
    "# default_exp view_seg"
   ]
  },
  {
   "cell_type": "code",
   "execution_count": null,
   "metadata": {},
   "outputs": [],
   "source": [
    "# export\n",
    "import openslide\n",
    "from pathlib import Path\n",
    "import pickle\n",
    "import json\n",
    "import pandas as pd\n",
    "import numpy as np\n",
    "import matplotlib.pyplot as plt\n",
    "from argparse import ArgumentParser\n",
    "import PIL.Image as Image"
   ]
  },
  {
   "cell_type": "code",
   "execution_count": null,
   "metadata": {},
   "outputs": [],
   "source": [
    "# export\n",
    "SEG_DATA = Path('/data/DeepLearning/SCHWOB_Robin/Seg_outputs_ds')\n",
    "IMG_DATA = Path('/data/DeepLearning/SCHWOB_Robin/Patches_normalized_299/Test')\n",
    "GRADE = '1'\n",
    "SCAN = 'CF_PACS05HE_15008-33373'\n",
    "ITER = 3\n",
    "SCAN_PATH = IMG_DATA/GRADE/SCAN\n",
    "_SEGMENT_CSV = SEG_DATA/'Segmentation'/f'iter_{ITER}'/GRADE/f'{SCAN}.csv'\n",
    "SEGMENT_CSV = SEG_DATA/'Segmentation'/GRADE/f'{SCAN}.csv'\n",
    "_GRAPH_PATH = SEG_DATA/f'Tree/iter_{ITER}/most_significant_tree.p'\n",
    "GRAPH_PATH = SEG_DATA/f'Tree/most_significant_tree.p'\n",
    "_SEGMENT_STACK = SEG_DATA/f'Segmentation/iter_{ITER}/segment_stack.csv'\n",
    "SEGMENT_STACK = SEG_DATA/f'Segmentation/segment_stack.csv'\n",
    "OUTFOLDER = IMG_DATA/'Segmentation'"
   ]
  },
  {
   "cell_type": "code",
   "execution_count": null,
   "metadata": {},
   "outputs": [
    {
     "data": {
      "text/plain": [
       "_StoreAction(option_strings=['--outfolder'], dest='outfolder', nargs=None, const=None, default=PosixPath('/data/DeepLearning/SCHWOB_Robin/Patches_normalized_299/Test/Segmentation'), type=<class 'pathlib.Path'>, choices=None, help='Folder to store segments in', metavar=None)"
      ]
     },
     "execution_count": null,
     "metadata": {},
     "output_type": "execute_result"
    }
   ],
   "source": [
    "# export\n",
    "parser = ArgumentParser()\n",
    "parser.add_argument('--file', '-f', help='notebook convenience')\n",
    "parser.add_argument('--HistoryManager.hist_file', help='nbconvert convenience')\n",
    "parser.add_argument('--seg-data', default=SEG_DATA, type=Path, help='Path to clustering output folder')\n",
    "parser.add_argument('--img-data', default=IMG_DATA, type=Path, help='Path to image folder')\n",
    "parser.add_argument('--iter', default=ITER, type=int, help='Iteration to load clustering info from')\n",
    "parser.add_argument('--outfolder', default=OUTFOLDER, type=Path, help='Folder to store segments in')"
   ]
  },
  {
   "cell_type": "code",
   "execution_count": null,
   "metadata": {},
   "outputs": [],
   "source": [
    "# export\n",
    "args = parser.parse_args()"
   ]
  },
  {
   "cell_type": "code",
   "execution_count": null,
   "metadata": {},
   "outputs": [],
   "source": [
    "# export\n",
    "segment_stack = args.seg_data/f'Segmentation/iter_{args.iter}/segment_stack.csv'\n",
    "df = pd.read_csv(segment_stack)"
   ]
  },
  {
   "cell_type": "code",
   "execution_count": null,
   "metadata": {},
   "outputs": [
    {
     "ename": "FileNotFoundError",
     "evalue": "[Errno 2] No such file or directory: '/data/DeepLearning/SCHWOB_Robin/Seg_outputs_ds/Tree/most_significant_tree.p'",
     "output_type": "error",
     "traceback": [
      "\u001b[0;31m---------------------------------------------------------------------------\u001b[0m",
      "\u001b[0;31mFileNotFoundError\u001b[0m                         Traceback (most recent call last)",
      "\u001b[0;32m<ipython-input-7-d8d5aa869f9d>\u001b[0m in \u001b[0;36m<module>\u001b[0;34m\u001b[0m\n\u001b[1;32m      1\u001b[0m \u001b[0;31m# export\u001b[0m\u001b[0;34m\u001b[0m\u001b[0;34m\u001b[0m\u001b[0;34m\u001b[0m\u001b[0m\n\u001b[1;32m      2\u001b[0m \u001b[0mgraph_path\u001b[0m \u001b[0;34m=\u001b[0m \u001b[0margs\u001b[0m\u001b[0;34m.\u001b[0m\u001b[0mseg_data\u001b[0m\u001b[0;34m/\u001b[0m\u001b[0;34mf'Tree/most_significant_tree.p'\u001b[0m\u001b[0;34m\u001b[0m\u001b[0;34m\u001b[0m\u001b[0m\n\u001b[0;32m----> 3\u001b[0;31m \u001b[0;32mwith\u001b[0m \u001b[0mgraph_path\u001b[0m\u001b[0;34m.\u001b[0m\u001b[0mopen\u001b[0m\u001b[0;34m(\u001b[0m\u001b[0;34m'rb'\u001b[0m\u001b[0;34m)\u001b[0m \u001b[0;32mas\u001b[0m \u001b[0mf\u001b[0m\u001b[0;34m:\u001b[0m\u001b[0;34m\u001b[0m\u001b[0;34m\u001b[0m\u001b[0m\n\u001b[0m\u001b[1;32m      4\u001b[0m     \u001b[0mtree\u001b[0m \u001b[0;34m=\u001b[0m \u001b[0mpickle\u001b[0m\u001b[0;34m.\u001b[0m\u001b[0mload\u001b[0m\u001b[0;34m(\u001b[0m\u001b[0mf\u001b[0m\u001b[0;34m)\u001b[0m\u001b[0;34m\u001b[0m\u001b[0;34m\u001b[0m\u001b[0m\n",
      "\u001b[0;32m//home/DeepLearning/anaconda3/envs/pytorch/lib/python3.7/pathlib.py\u001b[0m in \u001b[0;36mopen\u001b[0;34m(self, mode, buffering, encoding, errors, newline)\u001b[0m\n\u001b[1;32m   1191\u001b[0m             \u001b[0mself\u001b[0m\u001b[0;34m.\u001b[0m\u001b[0m_raise_closed\u001b[0m\u001b[0;34m(\u001b[0m\u001b[0;34m)\u001b[0m\u001b[0;34m\u001b[0m\u001b[0;34m\u001b[0m\u001b[0m\n\u001b[1;32m   1192\u001b[0m         return io.open(self, mode, buffering, encoding, errors, newline,\n\u001b[0;32m-> 1193\u001b[0;31m                        opener=self._opener)\n\u001b[0m\u001b[1;32m   1194\u001b[0m \u001b[0;34m\u001b[0m\u001b[0m\n\u001b[1;32m   1195\u001b[0m     \u001b[0;32mdef\u001b[0m \u001b[0mread_bytes\u001b[0m\u001b[0;34m(\u001b[0m\u001b[0mself\u001b[0m\u001b[0;34m)\u001b[0m\u001b[0;34m:\u001b[0m\u001b[0;34m\u001b[0m\u001b[0;34m\u001b[0m\u001b[0m\n",
      "\u001b[0;32m//home/DeepLearning/anaconda3/envs/pytorch/lib/python3.7/pathlib.py\u001b[0m in \u001b[0;36m_opener\u001b[0;34m(self, name, flags, mode)\u001b[0m\n\u001b[1;32m   1044\u001b[0m     \u001b[0;32mdef\u001b[0m \u001b[0m_opener\u001b[0m\u001b[0;34m(\u001b[0m\u001b[0mself\u001b[0m\u001b[0;34m,\u001b[0m \u001b[0mname\u001b[0m\u001b[0;34m,\u001b[0m \u001b[0mflags\u001b[0m\u001b[0;34m,\u001b[0m \u001b[0mmode\u001b[0m\u001b[0;34m=\u001b[0m\u001b[0;36m0o666\u001b[0m\u001b[0;34m)\u001b[0m\u001b[0;34m:\u001b[0m\u001b[0;34m\u001b[0m\u001b[0;34m\u001b[0m\u001b[0m\n\u001b[1;32m   1045\u001b[0m         \u001b[0;31m# A stub for the opener argument to built-in open()\u001b[0m\u001b[0;34m\u001b[0m\u001b[0;34m\u001b[0m\u001b[0;34m\u001b[0m\u001b[0m\n\u001b[0;32m-> 1046\u001b[0;31m         \u001b[0;32mreturn\u001b[0m \u001b[0mself\u001b[0m\u001b[0;34m.\u001b[0m\u001b[0m_accessor\u001b[0m\u001b[0;34m.\u001b[0m\u001b[0mopen\u001b[0m\u001b[0;34m(\u001b[0m\u001b[0mself\u001b[0m\u001b[0;34m,\u001b[0m \u001b[0mflags\u001b[0m\u001b[0;34m,\u001b[0m \u001b[0mmode\u001b[0m\u001b[0;34m)\u001b[0m\u001b[0;34m\u001b[0m\u001b[0;34m\u001b[0m\u001b[0m\n\u001b[0m\u001b[1;32m   1047\u001b[0m \u001b[0;34m\u001b[0m\u001b[0m\n\u001b[1;32m   1048\u001b[0m     \u001b[0;32mdef\u001b[0m \u001b[0m_raw_open\u001b[0m\u001b[0;34m(\u001b[0m\u001b[0mself\u001b[0m\u001b[0;34m,\u001b[0m \u001b[0mflags\u001b[0m\u001b[0;34m,\u001b[0m \u001b[0mmode\u001b[0m\u001b[0;34m=\u001b[0m\u001b[0;36m0o777\u001b[0m\u001b[0;34m)\u001b[0m\u001b[0;34m:\u001b[0m\u001b[0;34m\u001b[0m\u001b[0;34m\u001b[0m\u001b[0m\n",
      "\u001b[0;31mFileNotFoundError\u001b[0m: [Errno 2] No such file or directory: '/data/DeepLearning/SCHWOB_Robin/Seg_outputs_ds/Tree/most_significant_tree.p'"
     ]
    }
   ],
   "source": [
    "# export\n",
    "graph_path = args.seg_data/f'Tree/iter_{args.iter}/most_significant_tree.p'\n",
    "with graph_path.open('rb') as f:\n",
    "    tree = pickle.load(f)"
   ]
  },
  {
   "cell_type": "code",
   "execution_count": null,
   "metadata": {},
   "outputs": [],
   "source": [
    "# export\n",
    "centroids = np.stack([tree.descriptor[k] for k in (13357, 13149, 13134, 21613)])"
   ]
  },
  {
   "cell_type": "code",
   "execution_count": null,
   "metadata": {},
   "outputs": [],
   "source": [
    "# export\n",
    "colors = np.array([[155, 232, 157],\n",
    "                   [237, 7, 7],\n",
    "                   [245, 17, 199],\n",
    "                   [92, 87, 91]], dtype=np.uint8)"
   ]
  },
  {
   "cell_type": "code",
   "execution_count": null,
   "metadata": {},
   "outputs": [
    {
     "name": "stdout",
     "output_type": "stream",
     "text": [
      "CF_PACS04rescan_08P0124\n",
      "CF_PACS04rescan_06P1204\n"
     ]
    }
   ],
   "source": [
    "# export\n",
    "for grade_fold in args.img_data.iterdir():\n",
    "    grade = grade_fold.name\n",
    "    for scan_fold in grade_fold.iterdir():\n",
    "        scan_name = scan_fold.name\n",
    "        print(scan_name)\n",
    "        sub_df = df.loc[df['Slidename'] == scan_name]\n",
    "        features = sub_df.values[:, 3:].astype(np.float32)\n",
    "        result = np.argmin(((features[None] - centroids[:, None])**2).sum(-1), axis=0)\n",
    "        \n",
    "        segment_csv = args.seg_data/'Segmentation'/f'iter_{args.iter}'/grade/f'{scan_name}.csv'\n",
    "        scan_df = pd.read_csv(segment_csv, usecols=(0, 1, 2))\n",
    "        segment = np.zeros((scan_df['YPosition'].max() // 299 + 1, scan_df['XPosition'].max() // 299 + 1, 3), dtype=np.uint8)\n",
    "        for _, row in scan_df.iterrows():\n",
    "            segment[row.YPosition//299, row.XPosition//299] = colors[result[row.Label]]\n",
    "        outfile = args.outfolder/grade/f'{scan_name}.npy'\n",
    "        if not outfile.parent.is_dir():\n",
    "            outfile.parent.mkdir(parents=True)\n",
    "        np.save(outfile, segment)\n",
    "        segment = Image.fromarray(segment)\n",
    "        segment.save(outfile.with_suffix('.png'))"
   ]
  },
  {
   "cell_type": "code",
   "execution_count": null,
   "metadata": {},
   "outputs": [
    {
     "name": "stdout",
     "output_type": "stream",
     "text": [
      "Converted _view_seg.ipynb.\n"
     ]
    }
   ],
   "source": [
    "#hide\n",
    "from nbdev.export import notebook2script\n",
    "notebook2script(fname='_view_seg.ipynb')"
   ]
  },
  {
   "cell_type": "code",
   "execution_count": null,
   "metadata": {},
   "outputs": [],
   "source": []
  }
 ],
 "metadata": {
  "kernelspec": {
   "display_name": "Python [conda env:pytorch] *",
   "language": "python",
   "name": "conda-env-pytorch-py"
  }
 },
 "nbformat": 4,
 "nbformat_minor": 4
}
