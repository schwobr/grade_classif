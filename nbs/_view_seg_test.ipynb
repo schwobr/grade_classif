{
 "cells": [
  {
   "cell_type": "code",
   "execution_count": null,
   "metadata": {},
   "outputs": [],
   "source": [
    "# default_exp view_seg"
   ]
  },
  {
   "cell_type": "code",
   "execution_count": null,
   "metadata": {},
   "outputs": [],
   "source": [
    "# export\n",
    "import openslide\n",
    "from pathlib import Path\n",
    "import pickle\n",
    "import json\n",
    "import pandas as pd\n",
    "import numpy as np\n",
    "import matplotlib.pyplot as plt\n",
    "from argparse import ArgumentParser\n",
    "import PIL.Image as Image"
   ]
  },
  {
   "cell_type": "code",
   "execution_count": null,
   "metadata": {},
   "outputs": [],
   "source": [
    "# export\n",
    "TEST_SEG_DATA = Path('/data/DeepLearning/SCHWOB_Robin/Seg_outputs_ds')\n",
    "BASE_SEG_DATA = Path('/data/DeepLearning/SCHWOB_Robin/Seg_outputs')\n",
    "IMG_DATA = Path('/data/DeepLearning/SCHWOB_Robin/Patches_normalized_299/Test')\n",
    "GRADE = '1'\n",
    "SCAN = 'CF_PACS05HE_15008-33373'\n",
    "ITER = 3\n",
    "SCAN_PATH = IMG_DATA/GRADE/SCAN\n",
    "SEGMENT_CSV = TEST_SEG_DATA/'Segmentation'/GRADE/f'{SCAN}.csv'\n",
    "GRAPH_PATH = BASE_SEG_DATA/f'Tree/iter_{ITER}/most_significant_tree.p'\n",
    "SEGMENT_STACK = TEST_SEG_DATA/f'Segmentation/segment_stack.csv'\n",
    "OUTFOLDER = IMG_DATA/'Segmentation'"
   ]
  },
  {
   "cell_type": "code",
   "execution_count": null,
   "metadata": {},
   "outputs": [
    {
     "data": {
      "text/plain": [
       "_StoreAction(option_strings=['--outfolder'], dest='outfolder', nargs=None, const=None, default=PosixPath('/data/DeepLearning/SCHWOB_Robin/Patches_normalized_299/Test/Segmentation'), type=<class 'pathlib.Path'>, choices=None, help='Folder to store segments in', metavar=None)"
      ]
     },
     "execution_count": null,
     "metadata": {},
     "output_type": "execute_result"
    }
   ],
   "source": [
    "# export\n",
    "parser = ArgumentParser()\n",
    "parser.add_argument('--file', '-f', help='notebook convenience')\n",
    "parser.add_argument('--HistoryManager.hist_file', help='nbconvert convenience')\n",
    "parser.add_argument('--base-seg-data', default=BASE_SEG_DATA, type=Path, help='Path to clustering output folder')\n",
    "parser.add_argument('--test-seg-data', default=TEST_SEG_DATA, type=Path, help='Path to segmentation test output folder')\n",
    "parser.add_argument('--img-data', default=IMG_DATA, type=Path, help='Path to image folder')\n",
    "parser.add_argument('--iter', default=ITER, type=int, help='Iteration to load clustering info from')\n",
    "parser.add_argument('--outfolder', default=OUTFOLDER, type=Path, help='Folder to store segments in')"
   ]
  },
  {
   "cell_type": "code",
   "execution_count": null,
   "metadata": {},
   "outputs": [],
   "source": [
    "# export\n",
    "args = parser.parse_args()"
   ]
  },
  {
   "cell_type": "code",
   "execution_count": null,
   "metadata": {},
   "outputs": [],
   "source": [
    "# export\n",
    "segment_stack = args.test_seg_data/f'Segmentation/segment_stack.csv'\n",
    "df = pd.read_csv(segment_stack)"
   ]
  },
  {
   "cell_type": "code",
   "execution_count": null,
   "metadata": {},
   "outputs": [],
   "source": [
    "# export\n",
    "graph_path = args.base_seg_data/f'Tree/iter_{args.iter}/most_significant_tree.p'\n",
    "with graph_path.open('rb') as f:\n",
    "    tree = pickle.load(f)"
   ]
  },
  {
   "cell_type": "code",
   "execution_count": null,
   "metadata": {},
   "outputs": [],
   "source": [
    "# export\n",
    "centroids = np.stack([tree.descriptor[k] for k in (13357, 13149, 13134, 21613)])"
   ]
  },
  {
   "cell_type": "code",
   "execution_count": null,
   "metadata": {},
   "outputs": [],
   "source": [
    "# export\n",
    "colors = np.array([[155, 232, 157],\n",
    "                   [237, 7, 7],\n",
    "                   [245, 17, 199],\n",
    "                   [92, 87, 91]], dtype=np.uint8)"
   ]
  },
  {
   "cell_type": "code",
   "execution_count": null,
   "metadata": {},
   "outputs": [
    {
     "name": "stdout",
     "output_type": "stream",
     "text": [
      "CF_PACS04rescan_06P1056\n",
      "CF_PACS04rescan_06P0952\n",
      "CF_PACS04rescan_07P0219\n",
      "CF_PACS04rescan_06P320\n",
      "CF_PACS04rescan_06P1354\n",
      "CF_PACS04rescan_06P029\n",
      "CF_PACS04rescan_06P1225\n",
      "CF_PACS04rescan_07P0220\n",
      "CF_PACS04rescan_06P0959\n",
      "CF_PACS04rescan_06P0948\n",
      "CF_PACS04rescan_06P0825\n",
      "CF_PACS04rescan_06P212\n",
      "CF_PACS04rescan_06P1099\n",
      "CF_PACS04rescan_06P1028\n",
      "CF_PACS04rescan_06P0619\n",
      "CF_PACS04rescan_10F0174\n",
      "CF_PACS04rescan_06P1158\n",
      "CF_PACS04rescan_06P1080\n",
      "CF_PACS05HE_04018-126354\n",
      "CF_PACS05HE_02011-12.9168.00.0\n",
      "CF_PACS05HE_05020-04B10249.2GSDA\n",
      "CF_PACS05HE_08075-A04.4012II3\n",
      "CF_PACS05HE_01031-200449RH\n",
      "CF_PACS08rescan_436-09C3534\n",
      "CF_PACS08rescan_379-09C3052\n",
      "CF_PACS08rescan_428-10C3571\n",
      "CF_PACS08rescan_301-09C1101\n",
      "CF_PACS08rescan_453-10C3337\n"
     ]
    }
   ],
   "source": [
    "# export\n",
    "for grade_fold in args.img_data.iterdir():\n",
    "    grade = grade_fold.name\n",
    "    for scan_fold in grade_fold.iterdir():\n",
    "        scan_name = scan_fold.name\n",
    "        print(scan_name)\n",
    "        sub_df = df.loc[df['Slidename'] == scan_name]\n",
    "        features = sub_df.values[:, 3:].astype(np.float32)\n",
    "        result = np.argmin(((features[None] - centroids[:, None])**2).sum(-1), axis=0)\n",
    "        \n",
    "        segment_csv = args.test_seg_data/'Segmentation'/grade/f'{scan_name}.csv'\n",
    "        scan_df = pd.read_csv(segment_csv, usecols=(0, 1, 2))\n",
    "        segment = np.zeros((scan_df['YPosition'].max() // 299 + 1, scan_df['XPosition'].max() // 299 + 1, 3), dtype=np.uint8)\n",
    "        for _, row in scan_df.iterrows():\n",
    "            segment[row.YPosition//299, row.XPosition//299] = colors[result[row.Label]]\n",
    "        outfile = args.outfolder/grade/f'{scan_name}.npy'\n",
    "        if not outfile.parent.is_dir():\n",
    "            outfile.parent.mkdir(parents=True)\n",
    "        np.save(outfile, segment)\n",
    "        segment = Image.fromarray(segment)\n",
    "        segment.save(outfile.with_suffix('.png'))"
   ]
  },
  {
   "cell_type": "code",
   "execution_count": null,
   "metadata": {},
   "outputs": [
    {
     "name": "stdout",
     "output_type": "stream",
     "text": [
      "Converted _view_seg_test.ipynb.\n"
     ]
    }
   ],
   "source": [
    "#hide\n",
    "from nbdev.export import notebook2script\n",
    "notebook2script(fname='_view_seg_test.ipynb')"
   ]
  },
  {
   "cell_type": "code",
   "execution_count": null,
   "metadata": {},
   "outputs": [],
   "source": []
  }
 ],
 "metadata": {
  "kernelspec": {
   "display_name": "Python [conda env:pytorch] *",
   "language": "python",
   "name": "conda-env-pytorch-py"
  }
 },
 "nbformat": 4,
 "nbformat_minor": 4
}
