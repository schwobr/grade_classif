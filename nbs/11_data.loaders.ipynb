{
 "cells": [
  {
   "cell_type": "code",
   "execution_count": null,
   "metadata": {},
   "outputs": [],
   "source": [
    "# default_exp data.loaders"
   ]
  },
  {
   "cell_type": "code",
   "execution_count": null,
   "metadata": {},
   "outputs": [],
   "source": [
    "%load_ext autoreload\n",
    "%autoreload 2"
   ]
  },
  {
   "cell_type": "code",
   "execution_count": null,
   "metadata": {},
   "outputs": [],
   "source": [
    "# hide\n",
    "from nbdev.showdoc import *"
   ]
  },
  {
   "cell_type": "markdown",
   "metadata": {},
   "source": [
    "# Loading data\n",
    "> Loaders used to get data from a file and make it usable as python objects"
   ]
  },
  {
   "cell_type": "code",
   "execution_count": null,
   "metadata": {},
   "outputs": [],
   "source": [
    "# export\n",
    "import cv2\n",
    "import numpy as np"
   ]
  },
  {
   "cell_type": "code",
   "execution_count": null,
   "metadata": {},
   "outputs": [],
   "source": [
    "# export\n",
    "class ItemLoader:\n",
    "    def __call__(self, item):\n",
    "        raise NotImplementedError"
   ]
  },
  {
   "cell_type": "markdown",
   "metadata": {},
   "source": [
    "Base interface for loaders. `__call__` must be implemented in subclasses."
   ]
  },
  {
   "cell_type": "code",
   "execution_count": null,
   "metadata": {},
   "outputs": [],
   "source": [
    "# export\n",
    "class ImageLoader(ItemLoader):\n",
    "    def __init__(self, open_mode='RGB', div=True):\n",
    "        self.open_mode = open_mode\n",
    "        self.div = div\n",
    "        \n",
    "    def __call__(self, item):\n",
    "        mode = cv2.IMREAD_COLOR if self.open_mode == 'RGB' else cv2.IMREAD_GRAYSCALE\n",
    "        img = cv2.imread(str(item), mode)\n",
    "        if self.open_mode is not 'G':            \n",
    "            cvt_mode = cv2.COLOR_BGR2RGB if self.open_mode == 'RGB' else cv2.COLOR_GRAY2RGB\n",
    "            img = cv2.cvtColor(img, cvt_mode)\n",
    "        if self.div:\n",
    "            img = img.astype(np.float32)/255\n",
    "        return img"
   ]
  },
  {
   "cell_type": "markdown",
   "metadata": {},
   "source": [
    "An image item is supposed to be stored as a path, therefore this loader is used to read the data from the corresponding file and store it in a numpy array. It can be used in using three different `open_mode`:\n",
    "* `'RGB'` is default and loads the image as a 3-channel RGB array\n",
    "* `'3G'` loads the image as a 3-channel grayscale array\n",
    "* `'G'` loads the image as a 1-channel grayscale array\n",
    "You can specify `div` to have the image values divided by 255 so that it lies in $[0, 1]$."
   ]
  },
  {
   "cell_type": "code",
   "execution_count": null,
   "metadata": {},
   "outputs": [],
   "source": [
    "# export\n",
    "class MaskLoader(ImageLoader):\n",
    "    def __init__(self):\n",
    "        super().__init__(open_mode='G', div=False)"
   ]
  },
  {
   "cell_type": "markdown",
   "metadata": {},
   "source": [
    "This loader is a subclass of `ImageLoader` created for segmentation masks. It forces `open_mode='G'` and `div=False`."
   ]
  },
  {
   "cell_type": "code",
   "execution_count": null,
   "metadata": {},
   "outputs": [],
   "source": [
    "# export\n",
    "class CategoryLoader(ItemLoader):\n",
    "    def __init__(self, n_classes=None, classes=None):\n",
    "        if n_classes is not None:\n",
    "            self.n_classes = n_classes\n",
    "            if classes is None:\n",
    "                self.classes = list(range(n_classes))\n",
    "            else:\n",
    "                self.classes = classes\n",
    "        else:\n",
    "            assert classes is not None, \"you must either specify a list of classes or a number of classes\"\n",
    "            self.classes = classes\n",
    "            self.n_classes = len(classes)\n",
    "            \n",
    "    def __call__(self, item):\n",
    "        return self.classes.index(item)"
   ]
  },
  {
   "cell_type": "markdown",
   "metadata": {},
   "source": [
    "Loader to use for classification. As categories are stored most of the time as `str` objects, it transforms them into integers so that they are usable by a model. "
   ]
  },
  {
   "cell_type": "code",
   "execution_count": null,
   "metadata": {},
   "outputs": [
    {
     "name": "stdout",
     "output_type": "stream",
     "text": [
      "Converted 00_core.ipynb.\n",
      "Converted 01_train.ipynb.\n",
      "Converted 02_predict.ipynb.\n",
      "Converted 10_data_read.ipynb.\n",
      "Converted 11_data_loaders.ipynb.\n",
      "Converted 12_data_dataset.ipynb.\n",
      "Converted 13_data_utils.ipynb.\n",
      "Converted 14_data_transforms.ipynb.\n",
      "Converted 20_models_plmodules.ipynb.\n",
      "Converted 21_models_modules.ipynb.\n",
      "Converted 22_models_utils.ipynb.\n",
      "Converted 23_models_hooks.ipynb.\n",
      "Converted 24_models_metrics.ipynb.\n",
      "Converted 80_params_defaults.ipynb.\n",
      "Converted 81_params_parser.ipynb.\n",
      "Converted 99_index.ipynb.\n"
     ]
    }
   ],
   "source": [
    "#hide\n",
    "from nbdev.export import notebook2script\n",
    "notebook2script()"
   ]
  },
  {
   "cell_type": "code",
   "execution_count": null,
   "metadata": {},
   "outputs": [],
   "source": []
  }
 ],
 "metadata": {
  "kernelspec": {
   "display_name": "Python [conda env:pytorch] *",
   "language": "python",
   "name": "conda-env-pytorch-py"
  }
 },
 "nbformat": 4,
 "nbformat_minor": 4
}
