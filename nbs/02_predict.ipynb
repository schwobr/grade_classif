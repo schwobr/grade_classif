{
 "cells": [
  {
   "cell_type": "code",
   "execution_count": null,
   "metadata": {},
   "outputs": [],
   "source": [
    "# default_exp predict"
   ]
  },
  {
   "cell_type": "code",
   "execution_count": null,
   "metadata": {},
   "outputs": [],
   "source": [
    "# hide\n",
    "%load_ext autoreload\n",
    "%autoreload 2"
   ]
  },
  {
   "cell_type": "code",
   "execution_count": null,
   "metadata": {},
   "outputs": [],
   "source": [
    "# hide\n",
    "from nbdev.showdoc import *"
   ]
  },
  {
   "cell_type": "markdown",
   "metadata": {},
   "source": [
    "# Prediction\n",
    "> Functions that wrap prediction tasks"
   ]
  },
  {
   "cell_type": "markdown",
   "metadata": {},
   "source": [
    "All predictions are given as a score between 0 (for grade 1) and 1 (for grade 3)."
   ]
  },
  {
   "cell_type": "code",
   "execution_count": null,
   "metadata": {},
   "outputs": [],
   "source": [
    "# export\n",
    "from grade_classif.core import ifnone\n",
    "from grade_classif.data.utils import load_batches\n",
    "from grade_classif.models.plmodules import GradesClassifModel\n",
    "from grade_classif.data.read import get_scan\n",
    "from grade_classif.imports import *"
   ]
  },
  {
   "cell_type": "code",
   "execution_count": null,
   "metadata": {},
   "outputs": [],
   "source": [
    "# export\n",
    "def predict_one_scan_one_level(model, fn):\n",
    "    preds = []\n",
    "    for x in load_batches(fn, bs=model.bs, device=model.main_device):\n",
    "        preds.append(model.predict(x).detach().cpu()[:, 1])\n",
    "    preds = torch.cat(preds)\n",
    "    return preds.sum().item()/len(preds)"
   ]
  },
  {
   "cell_type": "markdown",
   "metadata": {},
   "source": [
    "Returns - for one zoom level - the prediction for one single scan `fn` (as a `Path` to the corresponding folder) using `model`. Returns the mean result of all patches."
   ]
  },
  {
   "cell_type": "code",
   "execution_count": null,
   "metadata": {},
   "outputs": [],
   "source": [
    "# export\n",
    "def predict_one_scan(hparams):\n",
    "    preds = []\n",
    "    for level, version, norm_version in zip(hparams.levels, hparams.versions, hparams.norm_versions):\n",
    "        hparams.level = level\n",
    "        hparams.norm_version = norm_version\n",
    "        model = GradesClassifModel(hparams)\n",
    "        model.load(version)\n",
    "        path = get_scan(hparams.full_data/f'{hparams.full_data.name}_{level}', hparams.scan, include=['1', '3'])\n",
    "        preds.append(predict_one_scan_one_level(model, path))\n",
    "    preds = torch.cat(preds)\n",
    "    return preds.sum().item()/len(preds)"
   ]
  },
  {
   "cell_type": "markdown",
   "metadata": {},
   "source": [
    "Returns a prediction for one scan over multiple levels. All parameters (such as levels for prediction, models to use or scan to predict) are defined in `hparams`."
   ]
  },
  {
   "cell_type": "code",
   "execution_count": null,
   "metadata": {},
   "outputs": [],
   "source": [
    "# export\n",
    "def predict_all(hparams):\n",
    "    df = pd.read_csv(hparams.data_csv, header='infer')\n",
    "    preds = []\n",
    "    scans = []\n",
    "    levels = []\n",
    "    for level, version, norm_version in zip(hparams.levels, hparams.versions, hparams.norm_versions):\n",
    "        hparams.level = level\n",
    "        hparams.norm_version = norm_version\n",
    "        model = GradesClassifModel(hparams)\n",
    "        model.load(version)\n",
    "        for row in tqdm(df.loc[df['split']=='valid'].values):\n",
    "            scan, grade = row[:-1]\n",
    "            fn = hparams.full_data/f'{hparams.full_data.name}_{level}'/str(grade)/scan\n",
    "            try:\n",
    "                preds.append(predict_one_scan_one_level(model, fn))\n",
    "            except FileNotFoundError:\n",
    "                continue\n",
    "            scans.append(scan)\n",
    "            levels.append(level)\n",
    "    res = pd.DataFrame({'level': levels, 'scan': scans, 'pred': preds})\n",
    "    return res"
   ]
  },
  {
   "cell_type": "markdown",
   "metadata": {},
   "source": [
    "Compute predictions for all validation scans. All parameters are defined in `hparams`. This function returns a dataframe that contains the score for each scan."
   ]
  },
  {
   "cell_type": "code",
   "execution_count": null,
   "metadata": {},
   "outputs": [
    {
     "name": "stderr",
     "output_type": "stream",
     "text": [
      "100%|██████████| 227/227 [08:47<00:00,  2.32s/it]\n"
     ]
    }
   ],
   "source": [
    "from grade_classif.params.parser import hparams\n",
    "df = predict_all(hparams)"
   ]
  },
  {
   "cell_type": "code",
   "execution_count": null,
   "metadata": {},
   "outputs": [],
   "source": [
    "def plot_metrics(hparams, pred_df=None):    \n",
    "    df = pred_df if pred_df is not None else predict_all(hparams)\n",
    "    scan_df = pd.read_csv(hparams.data_csv, header='infer')\n",
    "    scan_df = scan_df.loc[scan_df['split']=='valid']\n",
    "    scan_df = scan_df.set_index('scan')\n",
    "    scan_df = scan_df.reindex(index=df['scan'])\n",
    "    scan_df = scan_df.reset_index()\n",
    "\n",
    "    preds = df['pred'].values\n",
    "    gt = (scan_df['grade'].values == 3)\n",
    "\n",
    "    thrs = [0.001*k for k in range(1000)]\n",
    "\n",
    "    tp = np.zeros(len(thrs))\n",
    "    fp = np.zeros(len(thrs))\n",
    "    tn = np.zeros(len(thrs))\n",
    "    fn = np.zeros(len(thrs))\n",
    "\n",
    "    for k, thr in enumerate(thrs):\n",
    "        p = preds > thr\n",
    "        tp[k] = (p & gt).sum()\n",
    "        fp[k] = (p & ~gt).sum()\n",
    "        tn[k] = (~p & ~gt).sum()\n",
    "        fn[k] = (~p & gt).sum()\n",
    "\n",
    "    fig, axs = plt.subplots(2, 2, figsize=(20, 10))\n",
    "    axs = axs.flatten()\n",
    "    prec = (tp+1e-7)/(tp+fp+1e-7)\n",
    "    rec = (tp+1e-7)/(tp+fn+1e-7)\n",
    "    axs[0].plot(thrs, prec, label='prec grade 3')\n",
    "    axs[0].plot(thrs, rec, label='recall grade 3')\n",
    "    axs[2].plot(thrs, (2*prec*rec)/(prec+rec), label='grade 3')\n",
    "    prec = (tn+1e-7)/(tn+fn+1e-7)\n",
    "    rec = (tn+1e-7)/(tn+fp+1e-7)\n",
    "    axs[1].plot(thrs, prec, label='prec grade 1')\n",
    "    axs[1].plot(thrs, rec, label='recall grade 1')\n",
    "    axs[2].plot(thrs, (2*prec*rec)/(prec+rec), label='grade 1')\n",
    "    axs[3].plot(thrs, (tp+tn)/(tp+tn+fp+fn), label='accuracy')\n",
    "    axs[0].set_title('grade 3 precision/recall')\n",
    "    axs[1].set_title('grade 1 precision/recall')\n",
    "    axs[2].set_title('f1 scores')\n",
    "    axs[3].set_title('accuracy')\n",
    "    for ax in axs:\n",
    "        ax.legend()\n",
    "    plt.show()\n",
    "    return tp, fp, tn, fn"
   ]
  },
  {
   "cell_type": "code",
   "execution_count": null,
   "metadata": {},
   "outputs": [],
   "source": [
    "def get_groups(scan_df, pred_df, thr=0.5):\n",
    "    scan_df = pd.read_csv(hparams.data_csv, header='infer')\n",
    "    scan_df = scan_df.loc[scan_df['split']=='valid']\n",
    "    scan_df = scan_df.set_index('scan')\n",
    "    scan_df = scan_df.reindex(index=pred_df['scan'])\n",
    "    scan_df = scan_df.reset_index()\n",
    "\n",
    "    p = pred_df['pred'].values > thr\n",
    "    gt = (scan_df['grade'].values == 3)\n",
    "    groups = np.zeros(len(p), dtype='object')\n",
    "    groups[p & gt] = 'true_3'\n",
    "    groups[~p & ~gt] = 'true_1'\n",
    "    groups[~p & gt] = 'false_1'\n",
    "    groups[p & ~gt] = 'false_3'\n",
    "    new_df = pd.DataFrame({'scan': scan_df['scan'], 'group': groups.tolist()})\n",
    "    return new_df"
   ]
  },
  {
   "cell_type": "code",
   "execution_count": null,
   "metadata": {},
   "outputs": [
    {
     "data": {
      "image/png": "[encoded data removed]",
      "text/plain": [
       "<Figure size 1440x720 with 4 Axes>"
      ]
     },
     "metadata": {
      "needs_background": "light"
     },
     "output_type": "display_data"
    }
   ],
   "source": [
    "tp, fp, tn, fn = plot_metrics(hparams, df)"
   ]
  },
  {
   "cell_type": "code",
   "execution_count": null,
   "metadata": {},
   "outputs": [],
   "source": [
    "scan_df = pd.read_csv(hparams.data_csv, header='infer')"
   ]
  },
  {
   "cell_type": "code",
   "execution_count": null,
   "metadata": {},
   "outputs": [],
   "source": [
    "group_df = get_groups(scan_df, df, thr=0.35)"
   ]
  },
  {
   "cell_type": "code",
   "execution_count": null,
   "metadata": {},
   "outputs": [
    {
     "data": {
      "text/html": [
       "<div>\n",
       "<style scoped>\n",
       "    .dataframe tbody tr th:only-of-type {\n",
       "        vertical-align: middle;\n",
       "    }\n",
       "\n",
       "    .dataframe tbody tr th {\n",
       "        vertical-align: top;\n",
       "    }\n",
       "\n",
       "    .dataframe thead th {\n",
       "        text-align: right;\n",
       "    }\n",
       "</style>\n",
       "<table border=\"1\" class=\"dataframe\">\n",
       "  <thead>\n",
       "    <tr style=\"text-align: right;\">\n",
       "      <th></th>\n",
       "      <th>level</th>\n",
       "      <th>scan</th>\n",
       "      <th>pred</th>\n",
       "    </tr>\n",
       "  </thead>\n",
       "  <tbody>\n",
       "    <tr>\n",
       "      <td>29</td>\n",
       "      <td>1</td>\n",
       "      <td>CF_PACS04rescan_06P0674</td>\n",
       "      <td>0.294058</td>\n",
       "    </tr>\n",
       "    <tr>\n",
       "      <td>32</td>\n",
       "      <td>1</td>\n",
       "      <td>CF_PACS04rescan_10F0310</td>\n",
       "      <td>0.344126</td>\n",
       "    </tr>\n",
       "    <tr>\n",
       "      <td>39</td>\n",
       "      <td>1</td>\n",
       "      <td>CF_PACS04rescan_06P0864</td>\n",
       "      <td>0.314873</td>\n",
       "    </tr>\n",
       "    <tr>\n",
       "      <td>44</td>\n",
       "      <td>1</td>\n",
       "      <td>CF_PACS04rescan_06P1108</td>\n",
       "      <td>0.267493</td>\n",
       "    </tr>\n",
       "    <tr>\n",
       "      <td>48</td>\n",
       "      <td>1</td>\n",
       "      <td>CF_PACS04rescan_06P061</td>\n",
       "      <td>0.230717</td>\n",
       "    </tr>\n",
       "    <tr>\n",
       "      <td>54</td>\n",
       "      <td>1</td>\n",
       "      <td>CF_PACS04rescan_06P1356</td>\n",
       "      <td>0.218150</td>\n",
       "    </tr>\n",
       "    <tr>\n",
       "      <td>55</td>\n",
       "      <td>1</td>\n",
       "      <td>CF_PACS04rescan_06P1345</td>\n",
       "      <td>0.328432</td>\n",
       "    </tr>\n",
       "    <tr>\n",
       "      <td>56</td>\n",
       "      <td>1</td>\n",
       "      <td>CF_PACS04rescan_06P117</td>\n",
       "      <td>0.269088</td>\n",
       "    </tr>\n",
       "    <tr>\n",
       "      <td>59</td>\n",
       "      <td>1</td>\n",
       "      <td>CF_PACS04rescan_06P211</td>\n",
       "      <td>0.318427</td>\n",
       "    </tr>\n",
       "    <tr>\n",
       "      <td>61</td>\n",
       "      <td>1</td>\n",
       "      <td>CF_PACS04rescan_06P1292</td>\n",
       "      <td>0.248054</td>\n",
       "    </tr>\n",
       "    <tr>\n",
       "      <td>64</td>\n",
       "      <td>1</td>\n",
       "      <td>CF_PACS04rescan_06P0448</td>\n",
       "      <td>0.347820</td>\n",
       "    </tr>\n",
       "    <tr>\n",
       "      <td>66</td>\n",
       "      <td>1</td>\n",
       "      <td>CF_PACS04rescan_07P0200</td>\n",
       "      <td>0.336559</td>\n",
       "    </tr>\n",
       "    <tr>\n",
       "      <td>67</td>\n",
       "      <td>1</td>\n",
       "      <td>CF_PACS04rescan_07P0203</td>\n",
       "      <td>0.305756</td>\n",
       "    </tr>\n",
       "    <tr>\n",
       "      <td>68</td>\n",
       "      <td>1</td>\n",
       "      <td>CF_PACS04rescan_06P0449</td>\n",
       "      <td>0.200419</td>\n",
       "    </tr>\n",
       "    <tr>\n",
       "      <td>69</td>\n",
       "      <td>1</td>\n",
       "      <td>CF_PACS04rescan_10F0189</td>\n",
       "      <td>0.293444</td>\n",
       "    </tr>\n",
       "    <tr>\n",
       "      <td>71</td>\n",
       "      <td>1</td>\n",
       "      <td>CF_PACS04rescan_06P0955</td>\n",
       "      <td>0.295113</td>\n",
       "    </tr>\n",
       "    <tr>\n",
       "      <td>72</td>\n",
       "      <td>1</td>\n",
       "      <td>CF_PACS04rescan_06P1120</td>\n",
       "      <td>0.331325</td>\n",
       "    </tr>\n",
       "    <tr>\n",
       "      <td>75</td>\n",
       "      <td>1</td>\n",
       "      <td>CF_PACS04rescan_06P1348</td>\n",
       "      <td>0.321463</td>\n",
       "    </tr>\n",
       "    <tr>\n",
       "      <td>77</td>\n",
       "      <td>1</td>\n",
       "      <td>CF_PACS04rescan_10F0142</td>\n",
       "      <td>0.326792</td>\n",
       "    </tr>\n",
       "    <tr>\n",
       "      <td>80</td>\n",
       "      <td>1</td>\n",
       "      <td>CF_PACS04rescan_06P1121</td>\n",
       "      <td>0.347892</td>\n",
       "    </tr>\n",
       "    <tr>\n",
       "      <td>82</td>\n",
       "      <td>1</td>\n",
       "      <td>CF_PACS04rescan_07P0215</td>\n",
       "      <td>0.263445</td>\n",
       "    </tr>\n",
       "    <tr>\n",
       "      <td>85</td>\n",
       "      <td>1</td>\n",
       "      <td>CF_PACS04rescan_07P0039</td>\n",
       "      <td>0.341990</td>\n",
       "    </tr>\n",
       "    <tr>\n",
       "      <td>95</td>\n",
       "      <td>1</td>\n",
       "      <td>CF_PACS04rescan_07P0229</td>\n",
       "      <td>0.345391</td>\n",
       "    </tr>\n",
       "    <tr>\n",
       "      <td>98</td>\n",
       "      <td>1</td>\n",
       "      <td>CF_PACS04rescan_06P110</td>\n",
       "      <td>0.275604</td>\n",
       "    </tr>\n",
       "    <tr>\n",
       "      <td>99</td>\n",
       "      <td>1</td>\n",
       "      <td>CF_PACS04rescan_09F0422</td>\n",
       "      <td>0.331846</td>\n",
       "    </tr>\n",
       "    <tr>\n",
       "      <td>102</td>\n",
       "      <td>1</td>\n",
       "      <td>CF_PACS04rescan_06P286</td>\n",
       "      <td>0.228623</td>\n",
       "    </tr>\n",
       "    <tr>\n",
       "      <td>107</td>\n",
       "      <td>1</td>\n",
       "      <td>CF_PACS04rescan_06P0977</td>\n",
       "      <td>0.331503</td>\n",
       "    </tr>\n",
       "    <tr>\n",
       "      <td>113</td>\n",
       "      <td>1</td>\n",
       "      <td>CF_PACS04rescan_07P0249</td>\n",
       "      <td>0.313648</td>\n",
       "    </tr>\n",
       "    <tr>\n",
       "      <td>120</td>\n",
       "      <td>1</td>\n",
       "      <td>CF_PACS04rescan_06P0517</td>\n",
       "      <td>0.310868</td>\n",
       "    </tr>\n",
       "    <tr>\n",
       "      <td>121</td>\n",
       "      <td>1</td>\n",
       "      <td>CF_PACS04rescan_06P0518</td>\n",
       "      <td>0.341410</td>\n",
       "    </tr>\n",
       "    <tr>\n",
       "      <td>124</td>\n",
       "      <td>1</td>\n",
       "      <td>CF_PACS04rescan_06P0528</td>\n",
       "      <td>0.236955</td>\n",
       "    </tr>\n",
       "    <tr>\n",
       "      <td>125</td>\n",
       "      <td>1</td>\n",
       "      <td>CF_PACS04rescan_10F0288</td>\n",
       "      <td>0.266597</td>\n",
       "    </tr>\n",
       "    <tr>\n",
       "      <td>130</td>\n",
       "      <td>1</td>\n",
       "      <td>CF_PACS04rescan_06P067</td>\n",
       "      <td>0.321310</td>\n",
       "    </tr>\n",
       "    <tr>\n",
       "      <td>137</td>\n",
       "      <td>1</td>\n",
       "      <td>CF_PACS04rescan_07P0289</td>\n",
       "      <td>0.340566</td>\n",
       "    </tr>\n",
       "    <tr>\n",
       "      <td>140</td>\n",
       "      <td>1</td>\n",
       "      <td>CF_PACS04rescan_06P0534</td>\n",
       "      <td>0.281396</td>\n",
       "    </tr>\n",
       "  </tbody>\n",
       "</table>\n",
       "</div>"
      ],
      "text/plain": [
       "     level                     scan      pred\n",
       "29       1  CF_PACS04rescan_06P0674  0.294058\n",
       "32       1  CF_PACS04rescan_10F0310  0.344126\n",
       "39       1  CF_PACS04rescan_06P0864  0.314873\n",
       "44       1  CF_PACS04rescan_06P1108  0.267493\n",
       "48       1   CF_PACS04rescan_06P061  0.230717\n",
       "54       1  CF_PACS04rescan_06P1356  0.218150\n",
       "55       1  CF_PACS04rescan_06P1345  0.328432\n",
       "56       1   CF_PACS04rescan_06P117  0.269088\n",
       "59       1   CF_PACS04rescan_06P211  0.318427\n",
       "61       1  CF_PACS04rescan_06P1292  0.248054\n",
       "64       1  CF_PACS04rescan_06P0448  0.347820\n",
       "66       1  CF_PACS04rescan_07P0200  0.336559\n",
       "67       1  CF_PACS04rescan_07P0203  0.305756\n",
       "68       1  CF_PACS04rescan_06P0449  0.200419\n",
       "69       1  CF_PACS04rescan_10F0189  0.293444\n",
       "71       1  CF_PACS04rescan_06P0955  0.295113\n",
       "72       1  CF_PACS04rescan_06P1120  0.331325\n",
       "75       1  CF_PACS04rescan_06P1348  0.321463\n",
       "77       1  CF_PACS04rescan_10F0142  0.326792\n",
       "80       1  CF_PACS04rescan_06P1121  0.347892\n",
       "82       1  CF_PACS04rescan_07P0215  0.263445\n",
       "85       1  CF_PACS04rescan_07P0039  0.341990\n",
       "95       1  CF_PACS04rescan_07P0229  0.345391\n",
       "98       1   CF_PACS04rescan_06P110  0.275604\n",
       "99       1  CF_PACS04rescan_09F0422  0.331846\n",
       "102      1   CF_PACS04rescan_06P286  0.228623\n",
       "107      1  CF_PACS04rescan_06P0977  0.331503\n",
       "113      1  CF_PACS04rescan_07P0249  0.313648\n",
       "120      1  CF_PACS04rescan_06P0517  0.310868\n",
       "121      1  CF_PACS04rescan_06P0518  0.341410\n",
       "124      1  CF_PACS04rescan_06P0528  0.236955\n",
       "125      1  CF_PACS04rescan_10F0288  0.266597\n",
       "130      1   CF_PACS04rescan_06P067  0.321310\n",
       "137      1  CF_PACS04rescan_07P0289  0.340566\n",
       "140      1  CF_PACS04rescan_06P0534  0.281396"
      ]
     },
     "execution_count": null,
     "metadata": {},
     "output_type": "execute_result"
    }
   ],
   "source": [
    "df[df['scan'].isin(group_df.loc[group_df['group'] == 'false_1', 'scan'])]"
   ]
  },
  {
   "cell_type": "code",
   "execution_count": null,
   "metadata": {},
   "outputs": [
    {
     "data": {
      "text/html": [
       "<div>\n",
       "<style scoped>\n",
       "    .dataframe tbody tr th:only-of-type {\n",
       "        vertical-align: middle;\n",
       "    }\n",
       "\n",
       "    .dataframe tbody tr th {\n",
       "        vertical-align: top;\n",
       "    }\n",
       "\n",
       "    .dataframe thead th {\n",
       "        text-align: right;\n",
       "    }\n",
       "</style>\n",
       "<table border=\"1\" class=\"dataframe\">\n",
       "  <thead>\n",
       "    <tr style=\"text-align: right;\">\n",
       "      <th></th>\n",
       "      <th>level</th>\n",
       "      <th>scan</th>\n",
       "      <th>pred</th>\n",
       "    </tr>\n",
       "  </thead>\n",
       "  <tbody>\n",
       "    <tr>\n",
       "      <td>29</td>\n",
       "      <td>1</td>\n",
       "      <td>CF_PACS04rescan_06P0674</td>\n",
       "      <td>0.294058</td>\n",
       "    </tr>\n",
       "  </tbody>\n",
       "</table>\n",
       "</div>"
      ],
      "text/plain": [
       "    level                     scan      pred\n",
       "29      1  CF_PACS04rescan_06P0674  0.294058"
      ]
     },
     "execution_count": null,
     "metadata": {},
     "output_type": "execute_result"
    }
   ],
   "source": [
    "df.loc[df['scan']=='CF_PACS04rescan_06P0674']"
   ]
  },
  {
   "cell_type": "code",
   "execution_count": null,
   "metadata": {},
   "outputs": [
    {
     "name": "stdout",
     "output_type": "stream",
     "text": [
      "Converted 00_core.ipynb.\n",
      "Converted 01_train.ipynb.\n",
      "Converted 02_predict.ipynb.\n",
      "Converted 10_data.read.ipynb.\n",
      "Converted 11_data.loaders.ipynb.\n",
      "Converted 12_data.dataset.ipynb.\n",
      "Converted 13_data.utils.ipynb.\n",
      "Converted 14_data.transforms.ipynb.\n",
      "Converted 20_models.plmodules.ipynb.\n",
      "Converted 21_models.modules.ipynb.\n",
      "Converted 22_models.utils.ipynb.\n",
      "Converted 23_models.hooks.ipynb.\n",
      "Converted 24_models.metrics.ipynb.\n",
      "Converted 25_models.losses.ipynb.\n",
      "Converted 80_params.defaults.ipynb.\n",
      "Converted 81_params.parser.ipynb.\n",
      "Converted 99_index.ipynb.\n"
     ]
    }
   ],
   "source": [
    "#hide\n",
    "from nbdev.export import notebook2script\n",
    "notebook2script()"
   ]
  },
  {
   "cell_type": "code",
   "execution_count": null,
   "metadata": {},
   "outputs": [],
   "source": []
  }
 ],
 "metadata": {
  "kernelspec": {
   "display_name": "Python [conda env:pytorch] *",
   "language": "python",
   "name": "conda-env-pytorch-py"
  }
 },
 "nbformat": 4,
 "nbformat_minor": 4
}
