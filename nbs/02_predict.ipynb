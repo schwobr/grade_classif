{
 "cells": [
  {
   "cell_type": "code",
   "execution_count": null,
   "metadata": {},
   "outputs": [],
   "source": [
    "# default_exp predict"
   ]
  },
  {
   "cell_type": "code",
   "execution_count": null,
   "metadata": {},
   "outputs": [],
   "source": [
    "# hide\n",
    "%load_ext autoreload\n",
    "%autoreload 2"
   ]
  },
  {
   "cell_type": "code",
   "execution_count": null,
   "metadata": {},
   "outputs": [],
   "source": [
    "# hide\n",
    "from nbdev.showdoc import *"
   ]
  },
  {
   "cell_type": "markdown",
   "metadata": {},
   "source": [
    "# Prediction\n",
    "> Functions that wrap prediction tasks"
   ]
  },
  {
   "cell_type": "markdown",
   "metadata": {},
   "source": [
    "All predictions are given as a score between 0 (for grade 1) and 1 (for grade 3)."
   ]
  },
  {
   "cell_type": "code",
   "execution_count": null,
   "metadata": {},
   "outputs": [],
   "source": [
    "# export\n",
    "from grade_classif.core import ifnone\n",
    "from grade_classif.data.utils import load_batches\n",
    "from grade_classif.models.plmodules import GradesClassifModel\n",
    "from grade_classif.data.read import get_scan\n",
    "from grade_classif.imports import *"
   ]
  },
  {
   "cell_type": "code",
   "execution_count": null,
   "metadata": {},
   "outputs": [],
   "source": [
    "# export\n",
    "def predict_one_scan_one_level(model, fn):\n",
    "    preds = []\n",
    "    for x in load_batches(fn, bs=model.bs, device=model.main_device):\n",
    "        preds.append(model.predict(x).detach().cpu()[:, 1])\n",
    "    preds = torch.cat(preds)\n",
    "    return preds.sum().item()/len(preds)"
   ]
  },
  {
   "cell_type": "markdown",
   "metadata": {},
   "source": [
    "Returns - for one zoom level - the prediction for one single scan `fn` (as a `Path` to the corresponding folder) using `model`. Returns the mean result of all patches."
   ]
  },
  {
   "cell_type": "code",
   "execution_count": null,
   "metadata": {},
   "outputs": [],
   "source": [
    "# export\n",
    "def predict_one_scan(hparams):\n",
    "    preds = []\n",
    "    for level, version, norm_version in zip(hparams.levels, hparams.versions, hparams.norm_versions):\n",
    "        hparams.level = level\n",
    "        hparams.norm_version = norm_version\n",
    "        model = GradesClassifModel(hparams)\n",
    "        model.load(version)\n",
    "        path = get_scan(hparams.full_data/f'{hparams.full_data.name}_{level}', hparams.scan, include=['1', '3'])\n",
    "        preds.append(predict_one_scan_one_level(model, path))\n",
    "    preds = torch.cat(preds)\n",
    "    return preds.sum().item()/len(preds)"
   ]
  },
  {
   "cell_type": "markdown",
   "metadata": {},
   "source": [
    "Returns a prediction for one scan over multiple levels. All parameters (such as levels for prediction, models to use or scan to predict) are defined in `hparams`."
   ]
  },
  {
   "cell_type": "code",
   "execution_count": null,
   "metadata": {},
   "outputs": [],
   "source": [
    "# export\n",
    "def predict_all(hparams):\n",
    "    df = pd.read_csv(hparams.data_csv, header='infer')\n",
    "    preds = []\n",
    "    scans = []\n",
    "    levels = []\n",
    "    for level, version, norm_version in zip(hparams.levels, hparams.versions, hparams.norm_versions):\n",
    "        hparams.level = level\n",
    "        hparams.norm_version = norm_version\n",
    "        model = GradesClassifModel(hparams)\n",
    "        model.load(version)\n",
    "        for row in tqdm(df.loc[df['split']=='valid'].values):\n",
    "            scan, grade = row[:-1]\n",
    "            fn = hparams.full_data/f'{hparams.full_data.name}_{level}'/str(grade)/scan\n",
    "            try:\n",
    "                preds.append(predict_one_scan_one_level(model, fn))\n",
    "            except FileNotFoundError:\n",
    "                continue\n",
    "            scans.append(scan)\n",
    "            levels.append(level)\n",
    "    res = pd.DataFrame({'level': levels, 'scan': scans, 'pred': preds})\n",
    "    return res"
   ]
  },
  {
   "cell_type": "markdown",
   "metadata": {},
   "source": [
    "Compute predictions for all validation scans. All parameters are defined in `hparams`. This function returns a dataframe that contains the score for each scan."
   ]
  },
  {
   "cell_type": "code",
   "execution_count": null,
   "metadata": {},
   "outputs": [
    {
     "name": "stderr",
     "output_type": "stream",
     "text": [
      "100%|██████████| 227/227 [08:54<00:00,  2.36s/it]\n"
     ]
    }
   ],
   "source": [
    "from grade_classif.params.parser import hparams\n",
    "df = predict_all(hparams)"
   ]
  },
  {
   "cell_type": "code",
   "execution_count": null,
   "metadata": {},
   "outputs": [],
   "source": [
    "def plot_metrics(hparams, pred_df=None):    \n",
    "    df = pred_df if pred_df is not None else predict_all(hparams)\n",
    "    scan_df = pd.read_csv(hparams.data_csv, header='infer')\n",
    "    scan_df = scan_df.loc[scan_df['split']=='valid']\n",
    "    scan_df = scan_df.set_index('scan')\n",
    "    scan_df = scan_df.reindex(index=df['scan'])\n",
    "    scan_df = scan_df.reset_index()\n",
    "\n",
    "    preds = df['pred'].values\n",
    "    gt = (scan_df['grade'].values == 3)\n",
    "\n",
    "    thrs = [0.001*k for k in range(1000)]\n",
    "\n",
    "    tp = np.zeros(len(thrs))\n",
    "    fp = np.zeros(len(thrs))\n",
    "    tn = np.zeros(len(thrs))\n",
    "    fn = np.zeros(len(thrs))\n",
    "\n",
    "    for k, thr in enumerate(thrs):\n",
    "        p = preds > thr\n",
    "        tp[k] = (p & gt).sum()\n",
    "        fp[k] = (p & ~gt).sum()\n",
    "        tn[k] = (~p & ~gt).sum()\n",
    "        fn[k] = (~p & gt).sum()\n",
    "\n",
    "    fig, axs = plt.subplots(2, 2, figsize=(20, 10))\n",
    "    axs = axs.flatten()\n",
    "    prec = (tp+1e-7)/(tp+fp+1e-7)\n",
    "    rec = (tp+1e-7)/(tp+fn+1e-7)\n",
    "    axs[0].plot(thrs, prec, label='prec grade 3')\n",
    "    axs[0].plot(thrs, rec, label='recall grade 3')\n",
    "    axs[2].plot(thrs, (2*prec*rec)/(prec+rec), label='grade 3')\n",
    "    prec = (tn+1e-7)/(tn+fn+1e-7)\n",
    "    rec = (tn+1e-7)/(tn+fp+1e-7)\n",
    "    axs[1].plot(thrs, prec, label='prec grade 1')\n",
    "    axs[1].plot(thrs, rec, label='recall grade 1')\n",
    "    axs[2].plot(thrs, (2*prec*rec)/(prec+rec), label='grade 1')\n",
    "    axs[3].plot(thrs, (tp+tn)/(tp+tn+fp+fn), label='accuracy')\n",
    "    axs[0].set_title('grade 3 precision/recall')\n",
    "    axs[1].set_title('grade 1 precision/recall')\n",
    "    axs[2].set_title('f1 scores')\n",
    "    axs[3].set_title('accuracy')\n",
    "    for ax in axs:\n",
    "        ax.legend()\n",
    "    plt.show()\n",
    "    return tp, fp, tn, fn"
   ]
  },
  {
   "cell_type": "code",
   "execution_count": null,
   "metadata": {},
   "outputs": [],
   "source": [
    "def get_groups(scan_df, pred_df, thr=0.5):\n",
    "    scan_df = pd.read_csv(hparams.data_csv, header='infer')\n",
    "    scan_df = scan_df.loc[scan_df['split']=='valid']\n",
    "    scan_df = scan_df.set_index('scan')\n",
    "    scan_df = scan_df.reindex(index=pred_df['scan'])\n",
    "    scan_df = scan_df.reset_index()\n",
    "\n",
    "    p = pred_df['pred'].values > thr\n",
    "    gt = (scan_df['grade'].values == 3)\n",
    "    groups = np.zeros(len(p), dtype='object')\n",
    "    groups[p & gt] = 'true_3'\n",
    "    groups[~p & ~gt] = 'true_1'\n",
    "    groups[~p & gt] = 'false_1'\n",
    "    groups[p & ~gt] = 'false_3'\n",
    "    new_df = pd.DataFrame({'scan': scan_df['scan'], 'group': groups.tolist()})\n",
    "    return new_df"
   ]
  },
  {
   "cell_type": "code",
   "execution_count": null,
   "metadata": {},
   "outputs": [],
   "source": [
    "group_df = get_groups(scan_df, df, thr=0.73)"
   ]
  },
  {
   "cell_type": "code",
   "execution_count": null,
   "metadata": {},
   "outputs": [
    {
     "data": {
      "text/html": [
       "<div>\n",
       "<style scoped>\n",
       "    .dataframe tbody tr th:only-of-type {\n",
       "        vertical-align: middle;\n",
       "    }\n",
       "\n",
       "    .dataframe tbody tr th {\n",
       "        vertical-align: top;\n",
       "    }\n",
       "\n",
       "    .dataframe thead th {\n",
       "        text-align: right;\n",
       "    }\n",
       "</style>\n",
       "<table border=\"1\" class=\"dataframe\">\n",
       "  <thead>\n",
       "    <tr style=\"text-align: right;\">\n",
       "      <th></th>\n",
       "      <th>scan</th>\n",
       "      <th>group</th>\n",
       "    </tr>\n",
       "  </thead>\n",
       "  <tbody>\n",
       "    <tr>\n",
       "      <td>47</td>\n",
       "      <td>CF_PACS04rescan_06P1356</td>\n",
       "      <td>false_1</td>\n",
       "    </tr>\n",
       "    <tr>\n",
       "      <td>54</td>\n",
       "      <td>CF_PACS04rescan_06P1292</td>\n",
       "      <td>false_1</td>\n",
       "    </tr>\n",
       "  </tbody>\n",
       "</table>\n",
       "</div>"
      ],
      "text/plain": [
       "                       scan    group\n",
       "47  CF_PACS04rescan_06P1356  false_1\n",
       "54  CF_PACS04rescan_06P1292  false_1"
      ]
     },
     "execution_count": null,
     "metadata": {},
     "output_type": "execute_result"
    }
   ],
   "source": [
    "group_df.loc[group_df['group'] == 'false_1']"
   ]
  },
  {
   "cell_type": "code",
   "execution_count": null,
   "metadata": {},
   "outputs": [
    {
     "data": {
      "image/png": "[encoded data removed]",
      "text/plain": [
       "<Figure size 1440x720 with 4 Axes>"
      ]
     },
     "metadata": {
      "needs_background": "light"
     },
     "output_type": "display_data"
    }
   ],
   "source": [
    "tp, fp, tn, fn = plot_metrics(hparams, df)"
   ]
  },
  {
   "cell_type": "code",
   "execution_count": null,
   "metadata": {},
   "outputs": [
    {
     "data": {
      "text/plain": [
       "1.2327495168537626"
      ]
     },
     "execution_count": null,
     "metadata": {},
     "output_type": "execute_result"
    }
   ],
   "source": [
    "(8e6/(15*1e5))**(1/8)"
   ]
  },
  {
   "cell_type": "code",
   "execution_count": null,
   "metadata": {},
   "outputs": [
    {
     "data": {
      "text/plain": [
       "1.7255061789682091"
      ]
     },
     "execution_count": null,
     "metadata": {},
     "output_type": "execute_result"
    }
   ],
   "source": [
    "1.23*15**(1/(2*(5-1)))"
   ]
  },
  {
   "cell_type": "code",
   "execution_count": null,
   "metadata": {},
   "outputs": [
    {
     "name": "stdout",
     "output_type": "stream",
     "text": [
      "Converted 00_core.ipynb.\n",
      "Converted 01_train.ipynb.\n",
      "Converted 02_predict.ipynb.\n",
      "Converted 10_data.read.ipynb.\n",
      "Converted 11_data.loaders.ipynb.\n",
      "Converted 12_data.dataset.ipynb.\n",
      "Converted 13_data.utils.ipynb.\n",
      "Converted 14_data.transforms.ipynb.\n",
      "Converted 20_models.plmodules.ipynb.\n",
      "Converted 21_models.modules.ipynb.\n",
      "Converted 22_models.utils.ipynb.\n",
      "Converted 23_models.hooks.ipynb.\n",
      "Converted 24_models.metrics.ipynb.\n",
      "Converted 25_models.losses.ipynb.\n",
      "Converted 80_params.defaults.ipynb.\n",
      "Converted 81_params.parser.ipynb.\n",
      "Converted 99_index.ipynb.\n"
     ]
    }
   ],
   "source": [
    "#hide\n",
    "from nbdev.export import notebook2script\n",
    "notebook2script()"
   ]
  },
  {
   "cell_type": "code",
   "execution_count": null,
   "metadata": {},
   "outputs": [],
   "source": []
  }
 ],
 "metadata": {
  "kernelspec": {
   "display_name": "Python [conda env:pytorch] *",
   "language": "python",
   "name": "conda-env-pytorch-py"
  }
 },
 "nbformat": 4,
 "nbformat_minor": 4
}
