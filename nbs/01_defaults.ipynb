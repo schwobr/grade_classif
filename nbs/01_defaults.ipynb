{
 "cells": [
  {
   "cell_type": "code",
   "execution_count": null,
   "metadata": {},
   "outputs": [],
   "source": [
    "# default_exp defaults"
   ]
  },
  {
   "cell_type": "code",
   "execution_count": null,
   "metadata": {},
   "outputs": [],
   "source": [
    "# hide\n",
    "from nbdev.showdoc import *"
   ]
  },
  {
   "cell_type": "code",
   "execution_count": null,
   "metadata": {},
   "outputs": [],
   "source": [
    "#export\n",
    "from pathlib import Path"
   ]
  },
  {
   "cell_type": "code",
   "execution_count": null,
   "metadata": {},
   "outputs": [],
   "source": [
    "# export\n",
    "PROJECT = Path('/home/DeepLearning/grades_classif')\n",
    "_PROJECT = Path('/work/stages/schwob/grades_classif')\n",
    "LEVEL = 2\n",
    "DATA = Path(f'/data/DeepLearning/SCHWOB_Robin/Patches_240/Patches_MGI_240_{LEVEL}')\n",
    "_DATA = Path(f'/work/stages/schwob/Patches_240/Patches_MGI_240_{LEVEL}')\n",
    "MODELS = Path('/data/DeepLearning/SCHWOB_Robin/models')\n",
    "_MODELS = PROJECT/'models'\n",
    "NORM_CSV = PROJECT/'categories.csv'\n",
    "MODEL = 'resnet34'\n",
    "SIZE = 224\n",
    "BATCH_SIZE = 16\n",
    "LOSS = 'mse'\n",
    "SCHED = 'one-cycle'\n",
    "REDUCTION = 'mean'\n",
    "EPOCHS = 10\n",
    "DROPOUT= 0.5\n",
    "LR = 1e-3\n",
    "WD = 0.01\n",
    "WEIGHT = 1.\n",
    "NORMALIZER = MODELS/f'uf_norm_b1_{LEVEL}_240_1.pth'"
   ]
  },
  {
   "cell_type": "code",
   "execution_count": null,
   "metadata": {},
   "outputs": [
    {
     "name": "stdout",
     "output_type": "stream",
     "text": [
      "Converted 00_core.ipynb.\n",
      "Converted 01_defaults.ipynb.\n",
      "Converted 02_params.ipynb.\n",
      "Converted 03_train_normalizer.ipynb.\n",
      "Converted 10_data_read.ipynb.\n",
      "Converted 11_data_loaders.ipynb.\n",
      "Converted 12_data_dataset.ipynb.\n",
      "Converted 13_data_utils.ipynb.\n",
      "Converted 14_data_transforms.ipynb.\n",
      "Converted 20_models_pl_modules.ipynb.\n",
      "Converted 21_models_unet.ipynb.\n",
      "Converted 22_models_utils.ipynb.\n",
      "Converted 99_index.ipynb.\n"
     ]
    }
   ],
   "source": [
    "#hide\n",
    "from nbdev.export import notebook2script\n",
    "notebook2script()"
   ]
  },
  {
   "cell_type": "code",
   "execution_count": null,
   "metadata": {},
   "outputs": [],
   "source": []
  }
 ],
 "metadata": {
  "kernelspec": {
   "display_name": "Python [conda env:pytorch] *",
   "language": "python",
   "name": "conda-env-pytorch-py"
  }
 },
 "nbformat": 4,
 "nbformat_minor": 4
}
