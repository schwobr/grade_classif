{
 "cells": [
  {
   "cell_type": "code",
   "execution_count": null,
   "metadata": {},
   "outputs": [],
   "source": [
    "from grade_classif.imports import *\n",
    "from grade_classif.params.parser import hparams\n",
    "from grade_classif.models.plmodules import *\n",
    "from grade_classif.data.read import get_items\n",
    "from grade_classif.data.loaders import ImageLoader\n",
    "from grade_classif.data.utils import np_to_tensor\n",
    "from skimage.color import rgb2hed"
   ]
  },
  {
   "cell_type": "code",
   "execution_count": null,
   "metadata": {},
   "outputs": [],
   "source": [
    "#df = pd.read_csv(hparams.patch_classes, index_col='patchId')\n",
    "def get_filt(ds):\n",
    "    def filt(x):\n",
    "        return ds in x.stem\n",
    "    return filt"
   ]
  },
  {
   "cell_type": "code",
   "execution_count": null,
   "metadata": {},
   "outputs": [],
   "source": [
    "p04_items, p04_labels = get_items(hparams.data, lambda x: x.parts[-3], extensions=['.png'], filterfunc = get_filt('PACS04'))"
   ]
  },
  {
   "cell_type": "code",
   "execution_count": null,
   "metadata": {},
   "outputs": [],
   "source": [
    "p05_items, p05_labels = get_items(hparams.data, lambda x: x.parts[-3], extensions=['.png'], filterfunc = get_filt('PACS05'))"
   ]
  },
  {
   "cell_type": "code",
   "execution_count": null,
   "metadata": {},
   "outputs": [],
   "source": [
    "p08_items, p08_labels = get_items(hparams.data, lambda x: x.parts[-3], extensions=['.png'], filterfunc = get_filt('PACS08'))"
   ]
  },
  {
   "cell_type": "code",
   "execution_count": null,
   "metadata": {},
   "outputs": [],
   "source": [
    "hparams.open_mode = 'H'\n",
    "hparams.transforms = 1\n",
    "hparams.normalizer = 'cbr_5_32_4'\n",
    "#hparams.loss = 'mse'\n",
    "hparams.size = 299\n",
    "hparams.gpus = [0]\n",
    "hparams.filt = 'all'\n",
    "hparams.batch_size = 16\n",
    "hparams.patch_classes = None\n",
    "hparams.norm_csv = None\n",
    "hparams.concept_classes = None\n",
    "hparams.level = 4\n",
    "hparams.loss = 'mse'\n",
    "# hparams.train_percent = 0.01\n",
    "hparams.data = Path('/data/DeepLearning/SCHWOB_Robin/Patches_normacolor_299/Patches_299_4')\n",
    "hparams.data_csv = Path('/home/DeepLearning/grade_classif/csvs/normacolor_scans.csv')"
   ]
  },
  {
   "cell_type": "code",
   "execution_count": null,
   "metadata": {},
   "outputs": [],
   "source": [
    "norm = Normalizer(hparams)"
   ]
  },
  {
   "cell_type": "code",
   "execution_count": null,
   "metadata": {},
   "outputs": [],
   "source": [
    "dm = NormDataModule(hparams)"
   ]
  },
  {
   "cell_type": "code",
   "execution_count": null,
   "metadata": {},
   "outputs": [],
   "source": [
    "dm.setup()"
   ]
  },
  {
   "cell_type": "code",
   "execution_count": null,
   "metadata": {},
   "outputs": [],
   "source": [
    "norm.fit(dm)"
   ]
  },
  {
   "cell_type": "code",
   "execution_count": null,
   "metadata": {},
   "outputs": [],
   "source": [
    "norm.load('1371a8451df344689f213e8db008ed71')"
   ]
  },
  {
   "cell_type": "code",
   "execution_count": null,
   "metadata": {},
   "outputs": [],
   "source": [
    "norm.freeze()"
   ]
  },
  {
   "cell_type": "code",
   "execution_count": null,
   "metadata": {},
   "outputs": [],
   "source": [
    "dm.data.valid._ds.items = p04_items\n",
    "dm.data.valid._ds.labels = p04_items"
   ]
  },
  {
   "cell_type": "code",
   "execution_count": null,
   "metadata": {},
   "outputs": [],
   "source": [
    "norm.data.test = norm.data.valid"
   ]
  },
  {
   "cell_type": "raw",
   "metadata": {},
   "source": [
    "logger = CometLogger(api_key=os.environ['COMET_API_KEY'], workspace='schwobr', save_dir=norm.save_path, project_name='grade-classif')\n",
    "logger.experiment.add_tag('norm' if isinstance(norm, Normalizer) else 'classif')\n",
    "ckpt_path = norm.save_path/'lightning_logs'/f'version_{logger.version}'/'checkpoints'\n",
    "ckpt_callback = ModelCheckpoint(ckpt_path, save_top_k=3)\n",
    "trainer = pl.Trainer(gpus=norm.hparams.gpus, checkpoint_callback=ckpt_callback, logger=logger, min_epochs=norm.hparams.epochs, max_epochs=norm.hparams.epochs)\n",
    "norm.version = trainer.logger.version"
   ]
  },
  {
   "cell_type": "raw",
   "metadata": {},
   "source": [
    "trainer.test(norm)"
   ]
  },
  {
   "cell_type": "code",
   "execution_count": null,
   "metadata": {},
   "outputs": [
    {
     "data": {
      "text/plain": [
       "0"
      ]
     },
     "execution_count": null,
     "metadata": {},
     "output_type": "execute_result"
    }
   ],
   "source": [
    "len(dm.data.valid)"
   ]
  },
  {
   "cell_type": "code",
   "execution_count": null,
   "metadata": {},
   "outputs": [],
   "source": [
    "l = np.random.randint(len(dm.data.valid), size=64)"
   ]
  },
  {
   "cell_type": "code",
   "execution_count": null,
   "metadata": {},
   "outputs": [],
   "source": [
    "fig, axs = plt.subplots(8, 8, figsize=(40, 40))\n",
    "for n, ax1 in enumerate(axs):\n",
    "    x = []\n",
    "    for i in range(8):\n",
    "        k = l[8*n+i]\n",
    "        img, _ = dm.data.valid[k]\n",
    "        x.append(img)\n",
    "    x = torch.stack(x).to(norm.main_device)\n",
    "    #x = _open_functions[norm.hparams.open_mode](x)\n",
    "    x = norm.predict(x).detach().clamp(0, 1)\n",
    "    x = x.cpu().numpy().transpose(0, 2, 3, 1)\n",
    "    for im, ax in zip(x, ax1):\n",
    "        ax.imshow(im)\n",
    "        ax.axis('off')"
   ]
  },
  {
   "cell_type": "code",
   "execution_count": null,
   "metadata": {},
   "outputs": [],
   "source": [
    "fig, axs = plt.subplots(8, 8, figsize=(40, 40))\n",
    "for n, ax in enumerate(axs.flatten()):\n",
    "    k = l[n]\n",
    "    _, img = dm.data.valid[k]\n",
    "    img = img.cpu().numpy().transpose(1, 2, 0)\n",
    "    ax.imshow(img)\n",
    "    ax.axis('off')"
   ]
  },
  {
   "cell_type": "code",
   "execution_count": null,
   "metadata": {},
   "outputs": [],
   "source": [
    "norm.show_results(16, 6)"
   ]
  },
  {
   "cell_type": "code",
   "execution_count": null,
   "metadata": {},
   "outputs": [],
   "source": [
    "fig, axs = plt.subplots(2, 3, figsize=(24, 16))\n",
    "fn = np.random.choice(p08_items)\n",
    "x = loader(fn)[362:661, 362:661]\n",
    "axs[0, 0].imshow(x)\n",
    "axs[0, 0].axis('off')\n",
    "for ax in axs.flatten()[1:]:\n",
    "    x = rgb2hed(x)[..., 0].astype(np.float32)\n",
    "    x = (x + 0.7) / 0.46\n",
    "    x = np.stack((x, x, x), axis=-1)\n",
    "    x = np_to_tensor(x, 'image')[None]\n",
    "    x = x.to(norm.main_device)\n",
    "    x = norm.predict(x).detach().clamp(0, 1)\n",
    "    x = x.cpu().numpy().transpose(0, 2, 3, 1)[0]\n",
    "    ax.imshow(x)\n",
    "    ax.axis('off')"
   ]
  },
  {
   "cell_type": "code",
   "execution_count": null,
   "metadata": {},
   "outputs": [],
   "source": [
    "from albumentations import CenterCrop"
   ]
  },
  {
   "cell_type": "code",
   "execution_count": null,
   "metadata": {},
   "outputs": [],
   "source": [
    "patch_classes_df = pd.read_csv('/data/DeepLearning/SCHWOB_Robin/Patches_1024/Patches_1024_1/patch_classes.csv', index_col='patchId')\n",
    "def filt(x):\n",
    "    return patch_classes_df.loc[x.stem, 'type'] == 'K'\n",
    "\n",
    "data = (ImageClassifDataset.\n",
    "        from_folder(Path('/data/DeepLearning/SCHWOB_Robin/Patches_299/Patches_299_1/'), lambda x: x.parts[-3], classes=['1', '3'], extensions=['.png'], open_mode='RGB').\n",
    "        split_by_csv(hparams.data_csv.parent/'scans.csv').\n",
    "        to_tensor(tfm_y=False))"
   ]
  },
  {
   "cell_type": "code",
   "execution_count": null,
   "metadata": {},
   "outputs": [],
   "source": [
    "fig, axs = plt.subplots(8, 2, figsize=(10, 40))\n",
    "batch = []\n",
    "for _ in axs:\n",
    "    i = np.random.randint(len(data.train))\n",
    "    im, _ = data.train[i]\n",
    "    batch.append(im)\n",
    "x = torch.stack(batch).to(norm.main_device)\n",
    "y = norm.predict(x).clamp(0, 1).detach().cpu()\n",
    "for ax, im, pred in zip(axs, batch, y):\n",
    "    im = im.numpy().transpose(1, 2, 0)\n",
    "    pred = pred.numpy().transpose(1, 2, 0)\n",
    "    ax[0].imshow(im)\n",
    "    ax[0].axis('off')\n",
    "    ax[1].imshow(pred)\n",
    "    ax[1].axis('off')"
   ]
  },
  {
   "cell_type": "code",
   "execution_count": null,
   "metadata": {},
   "outputs": [],
   "source": []
  }
 ],
 "metadata": {
  "kernelspec": {
   "display_name": "Python [conda env:pytorch] *",
   "language": "python",
   "name": "conda-env-pytorch-py"
  }
 },
 "nbformat": 4,
 "nbformat_minor": 4
}
