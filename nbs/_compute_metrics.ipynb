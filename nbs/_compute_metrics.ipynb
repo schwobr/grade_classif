{
 "cells": [
  {
   "cell_type": "code",
   "execution_count": null,
   "metadata": {},
   "outputs": [],
   "source": [
    "# default_exp compute_metrics"
   ]
  },
  {
   "cell_type": "code",
   "execution_count": null,
   "metadata": {},
   "outputs": [],
   "source": [
    "# hide\n",
    "%load_ext autoreload\n",
    "%autoreload 2"
   ]
  },
  {
   "cell_type": "code",
   "execution_count": null,
   "metadata": {},
   "outputs": [],
   "source": [
    "# export\n",
    "from grade_classif.params.parser import hparams\n",
    "from grade_classif.imports import *\n",
    "from grade_classif.models.plmodules import Normalizer\n",
    "from grade_classif.data.read import get_items\n",
    "from grade_classif.data.color import rgb_to_lab"
   ]
  },
  {
   "cell_type": "code",
   "execution_count": null,
   "metadata": {},
   "outputs": [],
   "source": [
    "hparams.open_mode = 'H'\n",
    "hparams.transforms = 1\n",
    "hparams.normalizer = 'cbr_5_32_4'\n",
    "#hparams.loss = 'mse'\n",
    "hparams.size = 299\n",
    "hparams.gpus = [1]\n",
    "hparams.filt = 'all'\n",
    "hparams.batch_size = 16\n",
    "hparams.patch_classes = None\n",
    "hparams.norm_csv = None\n",
    "hparams.concept_classes = None\n",
    "hparams.data = Path('/data/DeepLearning/SCHWOB_Robin/Patches_299/Patches_299_1')\n",
    "hparams.data_csv = Path('/home/DeepLearning/grade_classif/csvs/scans.csv')"
   ]
  },
  {
   "cell_type": "code",
   "execution_count": null,
   "metadata": {},
   "outputs": [],
   "source": [
    "#df = pd.read_csv(hparams.patch_classes, index_col='patchId')\n",
    "def get_filt(ds):\n",
    "    def filt(x):\n",
    "        return ds in x.stem\n",
    "    return filt"
   ]
  },
  {
   "cell_type": "raw",
   "metadata": {},
   "source": [
    "p04_items, p04_labels = get_items(hparams.data, lambda x: x.parts[-3], extensions=['.png'], filterfunc = get_filt('PACS04'))"
   ]
  },
  {
   "cell_type": "raw",
   "metadata": {},
   "source": [
    "p05_items, p05_labels = get_items(hparams.data, lambda x: x.parts[-3], extensions=['.png'], filterfunc = get_filt('PACS05'))"
   ]
  },
  {
   "cell_type": "raw",
   "metadata": {},
   "source": [
    "p08_items, p08_labels = get_items(hparams.data, lambda x: x.parts[-3], extensions=['.png'], filterfunc = get_filt('PACS08'))"
   ]
  },
  {
   "cell_type": "code",
   "execution_count": null,
   "metadata": {},
   "outputs": [],
   "source": [
    "# export\n",
    "norm = Normalizer(hparams)"
   ]
  },
  {
   "cell_type": "code",
   "execution_count": null,
   "metadata": {},
   "outputs": [],
   "source": [
    "# export\n",
    "all_items = norm.data.train._ds.items\n",
    "all_labels = norm.data.train._ds.labels"
   ]
  },
  {
   "cell_type": "code",
   "execution_count": null,
   "metadata": {},
   "outputs": [],
   "source": [
    "# export\n",
    "norm.load('6cacb7558df8464a843775ca6694ed3b')"
   ]
  },
  {
   "cell_type": "code",
   "execution_count": null,
   "metadata": {},
   "outputs": [],
   "source": [
    "# export\n",
    "norm.freeze()"
   ]
  },
  {
   "cell_type": "code",
   "execution_count": null,
   "metadata": {},
   "outputs": [],
   "source": [
    "# export\n",
    "ref = Path('/data/DeepLearning/SCHWOB_Robin/Patches_normacolor_1024/Patches_1024_1/CF_Normacolor_0182')"
   ]
  },
  {
   "cell_type": "code",
   "execution_count": null,
   "metadata": {},
   "outputs": [],
   "source": [
    "# export\n",
    "ref_items, _ = get_items(ref, lambda x: x, extensions=['.png'])"
   ]
  },
  {
   "cell_type": "code",
   "execution_count": null,
   "metadata": {},
   "outputs": [],
   "source": [
    "# export\n",
    "norm.data.valid._ds.items = ref_items\n",
    "norm.data.valid._ds.labels = ref_items"
   ]
  },
  {
   "cell_type": "code",
   "execution_count": null,
   "metadata": {},
   "outputs": [],
   "source": [
    "# export\n",
    "ref_means = torch.zeros(3, device=norm.main_device)\n",
    "ref_stds = torch.zeros(3, device=norm.main_device)"
   ]
  },
  {
   "cell_type": "code",
   "execution_count": null,
   "metadata": {},
   "outputs": [],
   "source": [
    "# export\n",
    "i = 0\n",
    "for _, x in norm.val_dataloader()[0]:\n",
    "    x = rgb_to_lab(x.to(norm.main_device))\n",
    "    x[:, 0] = x[:, 0] / 100\n",
    "    x[:, 1:] = (x[:, 1:] + 127) / 254\n",
    "    ref_means += x.mean((0, 2, 3))\n",
    "    ref_stds += x.std((0, 2, 3))\n",
    "    i += 1\n",
    "ref_means /= i\n",
    "ref_stds /= i"
   ]
  },
  {
   "cell_type": "code",
   "execution_count": null,
   "metadata": {},
   "outputs": [
    {
     "data": {
      "text/plain": [
       "(tensor([0.7834, 0.5751, 0.4766], device='cuda:0'),\n",
       " tensor([0.1473, 0.0481, 0.0438], device='cuda:0'))"
      ]
     },
     "execution_count": null,
     "metadata": {},
     "output_type": "execute_result"
    }
   ],
   "source": [
    "ref_means, ref_stds"
   ]
  },
  {
   "cell_type": "code",
   "execution_count": null,
   "metadata": {},
   "outputs": [],
   "source": [
    "# export\n",
    "norm.data.valid._ds.items = all_items\n",
    "norm.data.valid._ds.labels = all_labels"
   ]
  },
  {
   "cell_type": "code",
   "execution_count": null,
   "metadata": {},
   "outputs": [],
   "source": [
    "# export\n",
    "scans = np.array(list(map(lambda x: x.parent.name, all_items)))"
   ]
  },
  {
   "cell_type": "code",
   "execution_count": null,
   "metadata": {},
   "outputs": [],
   "source": [
    "# export\n",
    "scan_names = np.unique(scans)"
   ]
  },
  {
   "cell_type": "code",
   "execution_count": null,
   "metadata": {},
   "outputs": [],
   "source": [
    "# export\n",
    "scan_indices = np.zeros(len(scans), dtype=np.int32)\n",
    "counts = np.zeros(len(scan_names), dtype=np.int32)"
   ]
  },
  {
   "cell_type": "code",
   "execution_count": null,
   "metadata": {},
   "outputs": [],
   "source": [
    "# export\n",
    "for i in range(len(scan_names)):\n",
    "    t = scans == scan_names[i]\n",
    "    scan_indices[t] = i\n",
    "    counts[i] = t.sum()"
   ]
  },
  {
   "cell_type": "code",
   "execution_count": null,
   "metadata": {},
   "outputs": [],
   "source": [
    "# export\n",
    "alpha_means_base = torch.zeros(len(scan_names), device=norm.main_device)\n",
    "beta_means_base = torch.zeros(len(scan_names), device=norm.main_device)\n",
    "alpha_means = torch.zeros(len(scan_names), device=norm.main_device)\n",
    "beta_means = torch.zeros(len(scan_names), device=norm.main_device)\n",
    "alpha_stds = torch.zeros(len(scan_names), device=norm.main_device)\n",
    "beta_stds = torch.zeros(len(scan_names), device=norm.main_device)\n",
    "ssims = torch.zeros(len(scan_names), device=norm.main_device)\n",
    "rhos = torch.zeros(len(scan_names), device=norm.main_device)"
   ]
  },
  {
   "cell_type": "code",
   "execution_count": null,
   "metadata": {},
   "outputs": [],
   "source": [
    "# export\n",
    "bs = norm.hparams.batch_size"
   ]
  },
  {
   "cell_type": "code",
   "execution_count": null,
   "metadata": {},
   "outputs": [],
   "source": [
    "# export\n",
    "dl = norm.val_dataloader()[0]"
   ]
  },
  {
   "cell_type": "code",
   "execution_count": null,
   "metadata": {},
   "outputs": [],
   "source": [
    "# export\n",
    "def wrapper(gen):\n",
    "    while True:\n",
    "        try:\n",
    "            yield(next(gen))\n",
    "        except StopIteration:\n",
    "            break\n",
    "        except Exception as e:\n",
    "            print(e)\n",
    "            continue"
   ]
  },
  {
   "cell_type": "code",
   "execution_count": null,
   "metadata": {},
   "outputs": [
    {
     "data": {
      "application/vnd.jupyter.widget-view+json": {
       "model_id": "697640f56f024d83b7228df16f65e37f",
       "version_major": 2,
       "version_minor": 0
      },
      "text/plain": [
       "HBox(children=(IntProgress(value=0, max=574585), HTML(value='')))"
      ]
     },
     "metadata": {},
     "output_type": "display_data"
    }
   ],
   "source": [
    "# export\n",
    "for k, (y, x) in tqdm(enumerate(wrapper(iter(dl))), total=len(dl)):\n",
    "    x = rgb_to_lab(x.to(norm.main_device))\n",
    "    x[:, 0] = x[:, 0] / 100\n",
    "    x[:, 1:] = (x[:, 1:] + 127) / 254\n",
    "    y = rgb_to_lab(norm.predict(y.to(norm.main_device)))\n",
    "    y[:, 0] = y[:, 0] / 100\n",
    "    y[:, 1:] = (y[:, 1:] + 127) / 254\n",
    "    idxs = scan_indices[bs*k: bs*(k+1)]\n",
    "    mu_x = x.mean((2, 3))\n",
    "    std_x = x.std((2, 3))\n",
    "    mu_y = y.mean((2, 3))\n",
    "    std_y = y.std((2, 3))\n",
    "    mu_xy = (x*y).mean((2, 3))\n",
    "    std_xy = mu_xy - mu_x*mu_y\n",
    "    for idx in np.unique(idxs):\n",
    "        t = idxs == idx\n",
    "        alpha_means_base[idx] += mu_x[t, 1].sum(0)\n",
    "        beta_means_base[idx] += mu_x[t, 2].sum(0)\n",
    "        alpha_means[idx] += mu_y[t, 1].sum(0)\n",
    "        beta_means[idx] += mu_y[t, 2].sum(0)\n",
    "        alpha_stds[idx] += std_y[t, 1].sum(0)\n",
    "        beta_stds[idx] += std_y[t, 2].sum(0)\n",
    "        ssims[idx] += ((2*mu_x[t, 0]*mu_y[t, 0]+1e-2)*(2*std_xy[t, 0]+1e-2)/((mu_x[t, 0]**2+mu_y[t, 0]**2+1e-2)*(std_x[t, 0]**2+std_y[t, 0]**2+1e-2))).sum(0)\n",
    "        rhos[idx] += (std_xy[t, 0]/(std_x[t, 0]*std_y[t, 0])).sum(0)"
   ]
  },
  {
   "cell_type": "code",
   "execution_count": null,
   "metadata": {},
   "outputs": [],
   "source": [
    "# export\n",
    "alpha_means_base = alpha_means_base.cpu()\n",
    "alpha_means = alpha_means.cpu()\n",
    "beta_means = beta_means.cpu()\n",
    "beta_means_base = beta_means_base.cpu()\n",
    "alpha_stds = alpha_stds.cpu()\n",
    "beta_stds = beta_stds.cpu()\n",
    "ssims = ssims.cpu()\n",
    "rhos = rhos.cpu()"
   ]
  },
  {
   "cell_type": "code",
   "execution_count": null,
   "metadata": {},
   "outputs": [],
   "source": [
    "# export\n",
    "alpha_means_base /= counts\n",
    "beta_means_base /= counts\n",
    "alpha_means /= counts\n",
    "beta_means /= counts\n",
    "alpha_stds /= counts\n",
    "beta_stds /= counts\n",
    "ssims /= counts\n",
    "rhos /= counts"
   ]
  },
  {
   "cell_type": "raw",
   "metadata": {},
   "source": [
    "alpha_means[alpha_means == 0] = ref_means[1]\n",
    "beta_means[beta_means == 0] = ref_means[2]\n",
    "alpha_stds[alpha_stds == 0] = ref_stds[1]\n",
    "beta_stds[beta_stds == 0] = ref_stds[2]\n",
    "ssims[ssims == 0] = 1\n",
    "rhos[rhos == 0] = 1"
   ]
  },
  {
   "cell_type": "code",
   "execution_count": null,
   "metadata": {},
   "outputs": [],
   "source": [
    "df = pd.DataFrame({'Scan_Id': scan_names, 'alpha_means_base': alpha_means_base,\n",
    "                   'alpha_means': alpha_means, 'beta_means_base': beta_means_base,\n",
    "                   'beta_means': beta_means, 'alpha_stds': alpha_stds,\n",
    "                   'beta_stds': beta_stds, 'ssims': ssims,\n",
    "                   'pccs': rhos})"
   ]
  },
  {
   "cell_type": "code",
   "execution_count": null,
   "metadata": {},
   "outputs": [
    {
     "data": {
      "text/html": [
       "<div>\n",
       "<style scoped>\n",
       "    .dataframe tbody tr th:only-of-type {\n",
       "        vertical-align: middle;\n",
       "    }\n",
       "\n",
       "    .dataframe tbody tr th {\n",
       "        vertical-align: top;\n",
       "    }\n",
       "\n",
       "    .dataframe thead th {\n",
       "        text-align: right;\n",
       "    }\n",
       "</style>\n",
       "<table border=\"1\" class=\"dataframe\">\n",
       "  <thead>\n",
       "    <tr style=\"text-align: right;\">\n",
       "      <th></th>\n",
       "      <th>Scan_Id</th>\n",
       "      <th>alpha_means_base</th>\n",
       "      <th>alpha_means</th>\n",
       "      <th>beta_means_base</th>\n",
       "      <th>beta_means</th>\n",
       "      <th>alpha_stds</th>\n",
       "      <th>beta_stds</th>\n",
       "      <th>ssims</th>\n",
       "      <th>pccs</th>\n",
       "    </tr>\n",
       "  </thead>\n",
       "  <tbody>\n",
       "    <tr>\n",
       "      <td>0</td>\n",
       "      <td>CF_PACS04rescan_06P008</td>\n",
       "      <td>0.544102</td>\n",
       "      <td>0.569136</td>\n",
       "      <td>0.469929</td>\n",
       "      <td>0.483457</td>\n",
       "      <td>0.028289</td>\n",
       "      <td>0.023617</td>\n",
       "      <td>0.915664</td>\n",
       "      <td>0.884638</td>\n",
       "    </tr>\n",
       "    <tr>\n",
       "      <td>1</td>\n",
       "      <td>CF_PACS04rescan_06P017</td>\n",
       "      <td>0.562141</td>\n",
       "      <td>0.569465</td>\n",
       "      <td>0.460488</td>\n",
       "      <td>0.478691</td>\n",
       "      <td>0.032650</td>\n",
       "      <td>0.024084</td>\n",
       "      <td>0.897253</td>\n",
       "      <td>0.858841</td>\n",
       "    </tr>\n",
       "    <tr>\n",
       "      <td>2</td>\n",
       "      <td>CF_PACS04rescan_06P024</td>\n",
       "      <td>0.578713</td>\n",
       "      <td>0.571932</td>\n",
       "      <td>0.449322</td>\n",
       "      <td>0.476591</td>\n",
       "      <td>0.024573</td>\n",
       "      <td>0.025572</td>\n",
       "      <td>0.903867</td>\n",
       "      <td>0.870045</td>\n",
       "    </tr>\n",
       "    <tr>\n",
       "      <td>3</td>\n",
       "      <td>CF_PACS04rescan_06P027</td>\n",
       "      <td>0.546032</td>\n",
       "      <td>0.552719</td>\n",
       "      <td>0.462103</td>\n",
       "      <td>0.472768</td>\n",
       "      <td>0.027289</td>\n",
       "      <td>0.029663</td>\n",
       "      <td>0.947586</td>\n",
       "      <td>0.930893</td>\n",
       "    </tr>\n",
       "    <tr>\n",
       "      <td>4</td>\n",
       "      <td>CF_PACS04rescan_06P028</td>\n",
       "      <td>0.558598</td>\n",
       "      <td>0.558709</td>\n",
       "      <td>0.458466</td>\n",
       "      <td>0.477708</td>\n",
       "      <td>0.026208</td>\n",
       "      <td>0.024257</td>\n",
       "      <td>0.910813</td>\n",
       "      <td>0.868972</td>\n",
       "    </tr>\n",
       "  </tbody>\n",
       "</table>\n",
       "</div>"
      ],
      "text/plain": [
       "                  Scan_Id  alpha_means_base  alpha_means  beta_means_base  \\\n",
       "0  CF_PACS04rescan_06P008          0.544102     0.569136         0.469929   \n",
       "1  CF_PACS04rescan_06P017          0.562141     0.569465         0.460488   \n",
       "2  CF_PACS04rescan_06P024          0.578713     0.571932         0.449322   \n",
       "3  CF_PACS04rescan_06P027          0.546032     0.552719         0.462103   \n",
       "4  CF_PACS04rescan_06P028          0.558598     0.558709         0.458466   \n",
       "\n",
       "   beta_means  alpha_stds  beta_stds     ssims      pccs  \n",
       "0    0.483457    0.028289   0.023617  0.915664  0.884638  \n",
       "1    0.478691    0.032650   0.024084  0.897253  0.858841  \n",
       "2    0.476591    0.024573   0.025572  0.903867  0.870045  \n",
       "3    0.472768    0.027289   0.029663  0.947586  0.930893  \n",
       "4    0.477708    0.026208   0.024257  0.910813  0.868972  "
      ]
     },
     "execution_count": null,
     "metadata": {},
     "output_type": "execute_result"
    }
   ],
   "source": [
    "df.head()"
   ]
  },
  {
   "cell_type": "code",
   "execution_count": null,
   "metadata": {},
   "outputs": [],
   "source": [
    "df.to_csv(hparams.data_csv.parent/'norm_metrics_train.csv', index=False, sep=';')"
   ]
  },
  {
   "cell_type": "code",
   "execution_count": null,
   "metadata": {},
   "outputs": [
    {
     "data": {
      "text/plain": [
       "1"
      ]
     },
     "execution_count": null,
     "metadata": {},
     "output_type": "execute_result"
    }
   ],
   "source": [
    "1"
   ]
  },
  {
   "cell_type": "code",
   "execution_count": null,
   "metadata": {},
   "outputs": [
    {
     "name": "stdout",
     "output_type": "stream",
     "text": [
      "AMCE_a base : 0.03058633086833897\n",
      "AMCE_b base: 0.02770463004652188\n",
      "AMCE_a : 0.0107072311397508\n",
      "AMCE_b : 0.008540492600498602\n",
      "ADCE_a : 0.019733678567921176\n",
      "ADCE_b : 0.02000269205375632\n",
      "MSSIM : 0.8964512756231039\n",
      "PCC : 0.855185212461656\n"
     ]
    }
   ],
   "source": [
    "# export\n",
    "print(f'AMCE_a base : {torch.abs(alpha_means_base-ref_means[1]).mean()}')\n",
    "print(f'AMCE_b base: {torch.abs(beta_means_base-ref_means[2]).mean()}')\n",
    "print(f'AMCE_a : {torch.abs(alpha_means-ref_means[1]).mean()}')\n",
    "print(f'AMCE_b : {torch.abs(beta_means-ref_means[2]).mean()}')\n",
    "print(f'ADCE_a : {torch.abs(alpha_stds-ref_stds[1]).mean()}')\n",
    "print(f'ADCE_b : {torch.abs(beta_stds-ref_stds[2]).mean()}')\n",
    "print(f'MSSIM : {ssims.mean()}')\n",
    "print(f'PCC : {rhos.mean()}')"
   ]
  },
  {
   "cell_type": "code",
   "execution_count": null,
   "metadata": {},
   "outputs": [],
   "source": [
    "#hide\n",
    "from nbdev.export import notebook2script\n",
    "notebook2script(fname='_compute_metrics.ipynb')"
   ]
  },
  {
   "cell_type": "code",
   "execution_count": null,
   "metadata": {},
   "outputs": [],
   "source": []
  }
 ],
 "metadata": {
  "kernelspec": {
   "display_name": "Python [conda env:pytorch] *",
   "language": "python",
   "name": "conda-env-pytorch-py"
  }
 },
 "nbformat": 4,
 "nbformat_minor": 4
}
