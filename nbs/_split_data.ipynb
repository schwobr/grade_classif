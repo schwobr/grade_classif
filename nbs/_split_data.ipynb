{
 "cells": [
  {
   "cell_type": "code",
   "execution_count": null,
   "metadata": {},
   "outputs": [],
   "source": [
    "import csv\n",
    "from grade_classif.imports import *\n",
    "from fastai.data.transforms import get_files"
   ]
  },
  {
   "cell_type": "code",
   "execution_count": null,
   "metadata": {},
   "outputs": [],
   "source": [
    "data = Path(\"/home/DeepLearning/media/Isilon_robin/Projet_Pauline/Slides\")"
   ]
  },
  {
   "cell_type": "code",
   "execution_count": null,
   "metadata": {},
   "outputs": [],
   "source": [
    "files = get_files(data, extensions=['.mrxs', '.svs'])"
   ]
  },
  {
   "cell_type": "code",
   "execution_count": null,
   "metadata": {},
   "outputs": [
    {
     "data": {
      "text/plain": [
       "(#198) [Path('/home/DeepLearning/media/Isilon_robin/Projet_Pauline/Slides/DHL_THL/SVS/LYSA-P OWKIN LNH03-39B 0400220-01-01 HES.svs'),Path('/home/DeepLearning/media/Isilon_robin/Projet_Pauline/Slides/DHL_THL/SVS/LYSA-P OWKIN LNH03-2B 0600112-01-01 HES.svs'),Path('/home/DeepLearning/media/Isilon_robin/Projet_Pauline/Slides/DHL_THL/SVS/LYSA-P OWKIN LNH03-3B 0500131-01-01 HES.svs'),Path('/home/DeepLearning/media/Isilon_robin/Projet_Pauline/Slides/DHL_THL/SVS/LYSA-P OWKIN LNH03-2B 0400267-01-01 HES.svs'),Path('/home/DeepLearning/media/Isilon_robin/Projet_Pauline/Slides/DHL_THL/SVS/LYSA-P OWKIN GAINED 1401267-01-01 HES.svs'),Path('/home/DeepLearning/media/Isilon_robin/Projet_Pauline/Slides/DHL_THL/SVS/LYSA-P OWKIN LNH03-6B 0800626-01-01 HES.svs'),Path('/home/DeepLearning/media/Isilon_robin/Projet_Pauline/Slides/DHL_THL/SVS/LYSA-P OWKIN LNH03-2B 0500028-01-01 HES.svs'),Path('/home/DeepLearning/media/Isilon_robin/Projet_Pauline/Slides/DHL_THL/SVS/LYSA-P OWKIN GAINED 1301396-01-01 HES.svs'),Path('/home/DeepLearning/media/Isilon_robin/Projet_Pauline/Slides/DHL_THL/SVS/LYSA-P OWKIN REMARC 1300717-01-01 HES.svs'),Path('/home/DeepLearning/media/Isilon_robin/Projet_Pauline/Slides/DHL_THL/SVS/LYSA-P OWKIN LNH03-6B 0800509-01-01 HES.svs')...]"
      ]
     },
     "execution_count": null,
     "metadata": {},
     "output_type": "execute_result"
    }
   ],
   "source": [
    "files"
   ]
  },
  {
   "cell_type": "code",
   "execution_count": null,
   "metadata": {},
   "outputs": [],
   "source": [
    "slides = files.map(lambda x: x.stem).unique()"
   ]
  },
  {
   "cell_type": "code",
   "execution_count": null,
   "metadata": {},
   "outputs": [
    {
     "data": {
      "text/plain": [
       "(#198) ['LYSA-P OWKIN LNH03-39B 0400220-01-01 HES','LYSA-P OWKIN LNH03-2B 0600112-01-01 HES','LYSA-P OWKIN LNH03-3B 0500131-01-01 HES','LYSA-P OWKIN LNH03-2B 0400267-01-01 HES','LYSA-P OWKIN GAINED 1401267-01-01 HES','LYSA-P OWKIN LNH03-6B 0800626-01-01 HES','LYSA-P OWKIN LNH03-2B 0500028-01-01 HES','LYSA-P OWKIN GAINED 1301396-01-01 HES','LYSA-P OWKIN REMARC 1300717-01-01 HES','LYSA-P OWKIN LNH03-6B 0800509-01-01 HES'...]"
      ]
     },
     "execution_count": null,
     "metadata": {},
     "output_type": "execute_result"
    }
   ],
   "source": [
    "slides"
   ]
  },
  {
   "cell_type": "code",
   "execution_count": null,
   "metadata": {},
   "outputs": [],
   "source": [
    "slides = np.random.permutation(slides)"
   ]
  },
  {
   "cell_type": "code",
   "execution_count": null,
   "metadata": {},
   "outputs": [],
   "source": [
    "with open(data.parent/'scan_splits.csv', 'w') as f:\n",
    "    writer = csv.DictWriter(f, [\"scan\", \"split\"])\n",
    "    writer.writeheader()\n",
    "    for k, slide in enumerate(slides):\n",
    "        if k < 0.2*len(slides):\n",
    "            writer.writerow({\"scan\": slide, \"split\": \"valid\"})\n",
    "        else:\n",
    "            writer.writerow({\"scan\": slide, \"split\": \"train\"})"
   ]
  },
  {
   "cell_type": "code",
   "execution_count": null,
   "metadata": {},
   "outputs": [],
   "source": []
  }
 ],
 "metadata": {
  "kernelspec": {
   "display_name": "Python [conda env:pytorch] *",
   "language": "python",
   "name": "conda-env-pytorch-py"
  }
 },
 "nbformat": 4,
 "nbformat_minor": 4
}
