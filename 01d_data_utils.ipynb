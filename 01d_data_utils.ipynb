{
 "cells": [
  {
   "cell_type": "code",
   "execution_count": null,
   "metadata": {},
   "outputs": [],
   "source": [
    "# default_exp data.utils"
   ]
  },
  {
   "cell_type": "code",
   "execution_count": null,
   "metadata": {},
   "outputs": [],
   "source": [
    "from nbdev.showdoc import *"
   ]
  },
  {
   "cell_type": "code",
   "execution_count": null,
   "metadata": {},
   "outputs": [],
   "source": [
    "# export\n",
    "import matplotlib.pyplot as plt"
   ]
  },
  {
   "cell_type": "code",
   "execution_count": null,
   "metadata": {},
   "outputs": [],
   "source": [
    "# export\n",
    "def show_img(x, ax=None, figsize=(3,3), title=None, hide_axis=True, cmap='viridis', alpha=None, **kwargs):\n",
    "    if ax is None: fig,ax = plt.subplots(figsize=figsize)\n",
    "    xtr = dict(cmap=cmap, alpha=alpha, **kwargs)\n",
    "    ax.imshow(x, **xtr)\n",
    "    if hide_axis: ax.axis('off')\n",
    "    if title: ax.set_title(title)\n",
    "    return ax    "
   ]
  },
  {
   "cell_type": "code",
   "execution_count": null,
   "metadata": {},
   "outputs": [
    {
     "name": "stdout",
     "output_type": "stream",
     "text": [
      "Converted 00_core.ipynb.\n",
      "Converted 00a_defaults.ipynb.\n",
      "Converted 01a_data_read.ipynb.\n",
      "Converted 01b_data_loaders.ipynb.\n",
      "Converted 01c_data_dataset.ipynb.\n",
      "Converted 01d_data_utils.ipynb.\n",
      "Converted 99_index.ipynb.\n"
     ]
    }
   ],
   "source": [
    "#hide\n",
    "from nbdev.export import notebook2script\n",
    "notebook2script()"
   ]
  },
  {
   "cell_type": "code",
   "execution_count": null,
   "metadata": {},
   "outputs": [],
   "source": []
  }
 ],
 "metadata": {
  "kernelspec": {
   "display_name": "Python [conda env:pytorch] *",
   "language": "python",
   "name": "conda-env-pytorch-py"
  }
 },
 "nbformat": 4,
 "nbformat_minor": 4
}
