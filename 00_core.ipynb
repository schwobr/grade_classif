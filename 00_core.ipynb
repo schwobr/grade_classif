{
 "cells": [
  {
   "cell_type": "code",
   "execution_count": null,
   "metadata": {},
   "outputs": [],
   "source": [
    "# default_exp core"
   ]
  },
  {
   "cell_type": "code",
   "execution_count": null,
   "metadata": {},
   "outputs": [],
   "source": [
    "from nbdev.showdoc import *"
   ]
  },
  {
   "cell_type": "code",
   "execution_count": null,
   "metadata": {},
   "outputs": [],
   "source": [
    "# export\n",
    "from test_tube import HyperOptArgumentParser\n",
    "from grade_classif.defaults import *\n",
    "from pathlib import Path"
   ]
  },
  {
   "cell_type": "code",
   "execution_count": null,
   "metadata": {},
   "outputs": [],
   "source": [
    "# export\n",
    "_parser = HyperOptArgumentParser(strategy='random_search')\n",
    "_parser.add_argument('--file', '-f', help='notebook convenience')\n",
    "_parser.add_argument('--data', default=DATA, help='path to folder containing data')\n",
    "_parser.add_argument('--batch-size', default=BATCH_SIZE, type=int, help='batch size')\n",
    "_parser.add_argument('--size', default=SIZE, type=int, help='size of the image (as an integer, image is supposed square)')\n",
    "_parser.add_argument('--loss', default=LOSS, choices=['cross-entropy', 'mse'], help='loss function')\n",
    "_parser.add_argument('--csv', default=NORM_CSV, type=Path, help='path to csv where normalizer train images are stored')\n",
    "_parser.add_argument('--savedir', default=MODELS, type=Path, help='directory to save models and logs in')\n",
    "_parser.add_argument('--pretrained', action='store_true')\n",
    "_parser.add_argument('--reduction', default=REDUCTION, choices=['mean', 'sum', 'none'], help='reduction to apply to loss')\n",
    "_parser.add_argument('--epochs', default=EPOCHS, type=int, help='number of epochs')\n",
    "_parser.opt_range('--dropout', default=DROPOUT, type=float, tunable=True, low=0., high=0.8, nb_samples=5, help='dropout value')\n",
    "_parser.opt_list('--model', default=MODEL, tunable=True, options=['resnet34', 'resnet50', 'efficientnet_b1'], help='name of the model to load from pytorch-image-models')\n",
    "_parser.opt_range('--lr', default=LR, type=float, tunable=True, low=1e-4, high=1e-1, nb_samples=6, log_base=10, help='learning rate')\n",
    "_parser.opt_range('--weight', type=float, tunable=True, default=WEIGHT, low=1., high=10., nb_samples=8, help='weight to give to grade 1 (grade 3 being weighted to 1)')\n",
    "_parser.opt_range('--wd', type=float, default=WD, tunable=True, low=1e-6, high=1., nb_samples=5, log_base=10, help='weight decay')"
   ]
  },
  {
   "cell_type": "code",
   "execution_count": null,
   "metadata": {},
   "outputs": [],
   "source": [
    "# export\n",
    "hparams = _parser.parse_args()"
   ]
  },
  {
   "cell_type": "code",
   "execution_count": null,
   "metadata": {},
   "outputs": [],
   "source": [
    "# export\n",
    "def ifnone(a, b):\n",
    "    \"`b` if `a` is None else `a`\"\n",
    "    return b if a is None else a"
   ]
  },
  {
   "cell_type": "markdown",
   "metadata": {},
   "source": [
    "Wraps the `b if a is None else a` condition for convenience."
   ]
  },
  {
   "cell_type": "code",
   "execution_count": null,
   "metadata": {},
   "outputs": [
    {
     "name": "stdout",
     "output_type": "stream",
     "text": [
      "Converted 00_core.ipynb.\n",
      "Converted 00a_defaults.ipynb.\n",
      "Converted 01a_data_read.ipynb.\n",
      "Converted 01b_data_loaders.ipynb.\n",
      "Converted 01c_data_dataset.ipynb.\n",
      "Converted 01d_data_utils.ipynb.\n",
      "Converted 99_index.ipynb.\n"
     ]
    }
   ],
   "source": [
    "#hide\n",
    "from nbdev.export import notebook2script\n",
    "notebook2script()"
   ]
  },
  {
   "cell_type": "code",
   "execution_count": null,
   "metadata": {},
   "outputs": [
    {
     "name": "stdout",
     "output_type": "stream",
     "text": [
      "converting: /work/stages/schwob/grade_classif_nbdev/01c_data_dataset.ipynb\n",
      "converting: /work/stages/schwob/grade_classif_nbdev/00_core.ipynb\n",
      "converting: /work/stages/schwob/grade_classif_nbdev/01a_data_read.ipynb\n",
      "Kernel didn't respond in 60 seconds\n",
      "Kernel didn't respond in 60 seconds\n",
      "Kernel didn't respond in 60 seconds\n"
     ]
    }
   ],
   "source": [
    "#hide\n",
    "from nbdev.export2html import notebook2html\n",
    "notebook2html()"
   ]
  },
  {
   "cell_type": "code",
   "execution_count": null,
   "metadata": {},
   "outputs": [],
   "source": []
  }
 ],
 "metadata": {
  "kernelspec": {
   "display_name": "Python [conda env:pytorch] *",
   "language": "python",
   "name": "conda-env-pytorch-py"
  }
 },
 "nbformat": 4,
 "nbformat_minor": 4
}
